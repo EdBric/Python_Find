{
 "cells": [
  {
   "cell_type": "markdown",
   "metadata": {},
   "source": [
    "# 一、变量"
   ]
  },
  {
   "cell_type": "markdown",
   "metadata": {},
   "source": [
    "## 1、变量赋值"
   ]
  },
  {
   "cell_type": "code",
   "execution_count": 25,
   "metadata": {
    "collapsed": true
   },
   "outputs": [
    {
     "name": "stdout",
     "output_type": "stream",
     "text": [
      "100\n",
      "1000.0\n",
      "john\n"
     ]
    }
   ],
   "source": [
    "counter = 100    # 赋值整型变量\n",
    "miles = 1000.0   # 浮点型\n",
    "name = \"john\"    # 字符串\n",
    "\n",
    "print(counter)\n",
    "print(miles)\n",
    "print(name)"
   ]
  },
  {
   "cell_type": "markdown",
   "metadata": {},
   "source": [
    "## 2、多变量赋值"
   ]
  },
  {
   "cell_type": "code",
   "execution_count": 4,
   "metadata": {
    "collapsed": true
   },
   "outputs": [
    {
     "name": "stdout",
     "output_type": "stream",
     "text": [
      "1 1 1\n",
      "1 2 john\n"
     ]
    }
   ],
   "source": [
    "a = b = c = 1\n",
    "print(a, b, c)\n",
    "\n",
    "a, b, c = 1, 2, \"john\"\n",
    "print(a, b, c)"
   ]
  },
  {
   "cell_type": "markdown",
   "metadata": {},
   "source": [
    "## 3、标准数据类型"
   ]
  },
  {
   "cell_type": "markdown",
   "metadata": {},
   "source": [
    "在内存中存储的数据可以有多种类型。\n",
    "\n",
    "例如，一个人的年龄可以用数字来存储，他的名字可以用字符来存储。\n",
    "\n",
    "Python 定义了一些标准类型，用于存储各种类型的数据。\n",
    "\n",
    "Python有五个标准的数据类型：\n",
    "\n",
    "- Numbers（数字）\n",
    "- String（字符串）\n",
    "- List（列表）\n",
    "- Tuple（元组）\n",
    "- Dictionary（字典）"
   ]
  },
  {
   "cell_type": "markdown",
   "metadata": {},
   "source": [
    "## 4、Python 数字"
   ]
  },
  {
   "cell_type": "markdown",
   "metadata": {},
   "source": [
    "Python支持四种不同的数字类型：\n",
    "\n",
    "- int（有符号整型）\n",
    "- long（长整型[也可以代表八进制和十六进制]）\n",
    "- float（浮点型）\n",
    "- complex（复数）"
   ]
  },
  {
   "cell_type": "markdown",
   "metadata": {},
   "source": [
    "一些数值类型的实例：\n",
    "\n",
    "|int|long|float|complex|\n",
    "|:---:|:---:|:---:|:---:|\n",
    "|10|51924361L|0.0|3.14j|\n",
    "|100|-0x19323L|15.20|45.j|\n",
    "|-786|0122L|-21.9|9.322e-36j|\n",
    "|080|0xDEFABCECBDAECBFBAEl|32.3e+18|.876j|\n",
    "|-0490|535633629843L|-90.|-.6545+0J|\n",
    "|-0x260|-052318172735L|-32.54e100|3e+26J|\n",
    "|0x69|-4721885298529L|70.2E-12|4.53e-7j|\n",
    "\n",
    "\n",
    "> 长整型也可以使用小写 l，但是还是建议您使用大写 L，避免与数字 1 混淆。Python使用 L 来显示长整型。\n",
    "\n",
    "> Python 还支持复数，复数由实数部分和虚数部分构成，可以用 a + bj,或者 complex(a,b) 表示， 复数的实部 a 和虚部 b 都是浮点型。"
   ]
  },
  {
   "cell_type": "markdown",
   "metadata": {},
   "source": [
    "## 5、字符串"
   ]
  },
  {
   "cell_type": "code",
   "execution_count": 38,
   "metadata": {
    "collapsed": true
   },
   "outputs": [
    {
     "name": "stdout",
     "output_type": "stream",
     "text": [
      "bcde\n",
      "b\n",
      "f\n"
     ]
    }
   ],
   "source": [
    "s = 'abcdef'\n",
    "print(s[1:5])\n",
    "\n",
    "s = 'abcdef'\n",
    "print(s[1])\n",
    "\n",
    "s = 'abcdef'\n",
    "print(s[-1])"
   ]
  },
  {
   "cell_type": "code",
   "execution_count": 27,
   "metadata": {
    "collapsed": true
   },
   "outputs": [
    {
     "name": "stdout",
     "output_type": "stream",
     "text": [
      "Hello World!\n",
      "H\n",
      "llo\n",
      "llo World!\n",
      "Hello World!Hello World!\n",
      "Hello World!TEST\n"
     ]
    }
   ],
   "source": [
    "str = 'Hello World!'\n",
    " \n",
    "print(str)           # 输出完整字符串\n",
    "print(str[0])        # 输出字符串中的第一个字符\n",
    "print(str[2:5])      # 输出字符串中第三个至第六个之间的字符串\n",
    "print(str[2:])       # 输出从第三个字符开始的字符串\n",
    "print(str * 2)       # 输出字符串两次\n",
    "print(str + \"TEST\")  # 输出连接的字符串"
   ]
  },
  {
   "cell_type": "markdown",
   "metadata": {},
   "source": [
    "Python 列表截取可以接收第三个参数，参数作用是截取的步长，以下实例在索引 1 到索引 4 的位置并设置为步长为 2（间隔一个位置）来截取字符串："
   ]
  },
  {
   "cell_type": "code",
   "execution_count": 36,
   "metadata": {
    "collapsed": true
   },
   "outputs": [
    {
     "name": "stdout",
     "output_type": "stream",
     "text": [
      "***\n"
     ]
    }
   ],
   "source": [
    "str = 'H*llo*Wor*d!'\n",
    " \n",
    "print(str[1:12:4])     # 输出截取字符串"
   ]
  },
  {
   "cell_type": "markdown",
   "metadata": {},
   "source": [
    "## 6、Python 列表"
   ]
  },
  {
   "cell_type": "markdown",
   "metadata": {},
   "source": [
    "List（列表） 是 Python 中使用最频繁的数据类型。\n",
    "\n",
    "列表可以完成大多数集合类的数据结构实现。\n",
    "\n",
    "它支持字符，数字，字符串甚至可以包含列表（即嵌套）。\n",
    "\n",
    "列表用 [ ] 标识，是 python 最通用的复合数据类型。\n",
    "\n",
    "列表中值的切割也可以用到变量 [头下标:尾下标] ，就可以截取相应的列表，从左到右索引默认 0 开始，从右到左索引默认 -1 开始，下标可以为空表示取到头或尾。"
   ]
  },
  {
   "cell_type": "code",
   "execution_count": 40,
   "metadata": {
    "collapsed": true
   },
   "outputs": [
    {
     "name": "stdout",
     "output_type": "stream",
     "text": [
      "['runoob', 786, 2.23, 'john', 70.2]\n",
      "runoob\n",
      "[786, 2.23]\n",
      "[2.23, 'john', 70.2]\n",
      "[123, 'john', 123, 'john']\n",
      "['runoob', 786, 2.23, 'john', 70.2, 123, 'john']\n"
     ]
    }
   ],
   "source": [
    "list = [ 'runoob', 786 , 2.23, 'john', 70.2 ]\n",
    "tinylist = [123, 'john']\n",
    "\n",
    "print(list)               # 输出完整列表\n",
    "print(list[0])            # 输出列表的第一个元素\n",
    "print(list[1:3])          # 输出第二个至第三个元素 \n",
    "print(list[2:])           # 输出从第三个开始至列表末尾的所有元素\n",
    "print(tinylist * 2)       # 输出列表两次\n",
    "print(list + tinylist)    # 打印组合的列表"
   ]
  },
  {
   "cell_type": "markdown",
   "metadata": {},
   "source": [
    "## 7、Python 元组"
   ]
  },
  {
   "cell_type": "markdown",
   "metadata": {},
   "source": [
    "元组是另一个数据类型，类似于 List（列表）。\n",
    "\n",
    "元组用 () 标识。\n",
    "\n",
    "内部元素用逗号隔开。\n",
    "\n",
    "但是元组不能二次赋值，相当于只读列表。"
   ]
  },
  {
   "cell_type": "code",
   "execution_count": 43,
   "metadata": {
    "collapsed": true
   },
   "outputs": [
    {
     "name": "stdout",
     "output_type": "stream",
     "text": [
      "('runoob', 786, 2.23, 'john', 70.2)\n",
      "runoob\n",
      "(786, 2.23)\n",
      "(2.23, 'john', 70.2)\n",
      "(123, 'john', 123, 'john')\n",
      "('runoob', 786, 2.23, 'john', 70.2, 123, 'john')\n"
     ]
    }
   ],
   "source": [
    "tuple = ( 'runoob', 786, 2.23, 'john', 70.2 )\n",
    "tinytuple = (123, 'john')\n",
    " \n",
    "print(tuple)               # 输出完整元组\n",
    "print(tuple[0])            # 输出元组的第一个元素\n",
    "print(tuple[1:3])          # 输出第二个至第四个（不包含）的元素 \n",
    "print(tuple[2:])           # 输出从第三个开始至列表末尾的所有元素\n",
    "print(tinytuple * 2)       # 输出元组两次\n",
    "print(tuple + tinytuple)   # 打印组合的元组"
   ]
  },
  {
   "cell_type": "markdown",
   "metadata": {},
   "source": [
    "以下是元组无效的，因为元组是不允许更新的。而列表是允许更新的：\n",
    "\n",
    "tuple = ( 'runoob', 786 , 2.23, 'john', 70.2 )\n",
    "\n",
    "list = [ 'runoob', 786 , 2.23, 'john', 70.2 ]\n",
    "\n",
    "tuple[2] = 1000     # 元组中是非法应用\n",
    "\n",
    "list[2] = 1000      # 列表中是合法应用"
   ]
  },
  {
   "cell_type": "markdown",
   "metadata": {},
   "source": [
    "## 8、Python 字典"
   ]
  },
  {
   "cell_type": "markdown",
   "metadata": {},
   "source": [
    "字典(dictionary)是除列表以外python之中最灵活的内置数据结构类型。\n",
    "\n",
    "列表是有序的对象集合，字典是无序的对象集合。\n",
    "\n",
    "两者之间的区别在于：字典当中的元素是通过键来存取的，而不是通过偏移存取。\n",
    "\n",
    "字典用\"{ }\"标识。\n",
    "\n",
    "字典由索引(key)和它对应的值value组成。"
   ]
  },
  {
   "cell_type": "code",
   "execution_count": 61,
   "metadata": {
    "collapsed": true
   },
   "outputs": [
    {
     "name": "stdout",
     "output_type": "stream",
     "text": [
      "This is one\n",
      "This is two\n",
      "{'name': 'runoob', 'code': 6734, 'dept': 'sales'}\n",
      "dict_keys(['name', 'code', 'dept'])\n",
      "dict_values(['runoob', 6734, 'sales'])\n"
     ]
    }
   ],
   "source": [
    "dict = {}\n",
    "dict['one'] = \"This is one\"\n",
    "dict[2] = \"This is two\"\n",
    " \n",
    "tinydict = {'name': 'runoob', 'code':6734, 'dept': 'sales'}\n",
    " \n",
    "print(dict['one'])          # 输出键为'one' 的值\n",
    "print(dict[2])              # 输出键为 2 的值\n",
    "print(tinydict)             # 输出完整的字典\n",
    "print(tinydict.keys())      # 输出所有键\n",
    "print(tinydict.values())    # 输出所有值"
   ]
  },
  {
   "cell_type": "markdown",
   "metadata": {},
   "source": [
    "## 9、Python 数据类型转换"
   ]
  },
  {
   "cell_type": "markdown",
   "metadata": {},
   "source": [
    "有时候，我们需要对数据内置的类型进行转换，数据类型的转换，你只需要将数据类型作为函数名即可。\n",
    "\n",
    "以下几个内置的函数可以执行数据类型之间的转换。这些函数返回一个新的对象，表示转换的值。"
   ]
  },
  {
   "cell_type": "markdown",
   "metadata": {},
   "source": [
    "|函数|描述|\n",
    "|:---|:---|\n",
    "|int(x [,base])|将x转换为一个整数|\n",
    "|long(x [,base] )|将x转换为一个长整数|\n",
    "|float(x)|将x转换到一个浮点数|\n",
    "|complex(real [,imag])|创建一个复数|\n",
    "|str(x)|将对象 x 转换为字符串|\n",
    "|repr(x)|将对象 x 转换为表达式字符串|\n",
    "|eval(str)|用来计算在字符串中的有效Python表达式,并返回一个对象|\n",
    "|tuple(s)|将序列 s 转换为一个元组|\n",
    "|list(s)|将序列 s 转换为一个列表|\n",
    "|set(s)|转换为可变集合|\n",
    "|dict(d)|创建一个字典。d 必须是一个序列 (key,value)元组|\n",
    "|frozenset(s)|转换为不可变集合|\n",
    "|chr(x)|将一个整数转换为一个字符|\n",
    "|unichr(x)|将一个整数转换为Unicode字符|\n",
    "|ord(x)|将一个字符转换为它的整数值|\n",
    "|hex(x)|将一个整数转换为一个十六进制字符串|\n",
    "|oct(x)|将一个整数转换为一个八进制字符串|\n",
    "|bin(x)|将一个整数转换为一个二进制的字符串|"
   ]
  },
  {
   "cell_type": "markdown",
   "metadata": {},
   "source": [
    "# 二、运算符"
   ]
  },
  {
   "cell_type": "markdown",
   "metadata": {},
   "source": [
    "- **算术运算符**\n",
    "\n",
    "\n",
    "- **比较（关系）运算符**\n",
    "\n",
    "\n",
    "- **赋值运算符**\n",
    "\n",
    "\n",
    "- **逻辑运算符**\n",
    "\n",
    "\n",
    "- **位运算符**\n",
    "\n",
    "\n",
    "- **成员运算符**\n",
    "\n",
    "\n",
    "- **身份运算符**\n",
    "\n",
    "\n",
    "- **运算符优先级**"
   ]
  },
  {
   "cell_type": "markdown",
   "metadata": {},
   "source": [
    "## 1、算术运算符"
   ]
  },
  {
   "cell_type": "markdown",
   "metadata": {},
   "source": [
    "|运算符|描述|实例|\n",
    "|:---|:---|:---|\n",
    "|+|加 - 两个对象相加|a + b 输出结果 31|\n",
    "|-|减 - 得到负数或是一个数减去另一个数|a - b 输出结果 -11|\n",
    "|* |乘 - 两个数相乘或是返回一个被重复若干次的字符串|a * b 输出结果 210|\n",
    "|/|除 - x 除以 y|b / a 输出结果 2.1|\n",
    "|%|取模 - 返回除法的余数|b % a 输出结果 1|\n",
    "|**|幂 - 返回x的y次幂\ta ** b| 为10的21次方|\n",
    "|//|取整除 - 向下取接近商的整数|9 // 2 = 4; -9 // 2 = -5|"
   ]
  },
  {
   "cell_type": "code",
   "execution_count": 3,
   "metadata": {
    "collapsed": true
   },
   "outputs": [
    {
     "name": "stdout",
     "output_type": "stream",
     "text": [
      "21 + 10 的值为： 31\n",
      "21 - 10 的值为： 11\n",
      "21 * 10 的值为： 210\n",
      "21 / 10 的值为： 2.1\n",
      "21 % 10 的值为： 1\n",
      "2 ** 3 的值为： 8\n",
      "10 // 5 的值为： 2\n"
     ]
    }
   ],
   "source": [
    "a = 21\n",
    "b = 10\n",
    "c = 0\n",
    " \n",
    "c = a + b\n",
    "print (\"21 + 10 的值为：\", c)\n",
    " \n",
    "c = a - b\n",
    "print (\"21 - 10 的值为：\", c)\n",
    " \n",
    "c = a * b\n",
    "print (\"21 * 10 的值为：\", c)\n",
    " \n",
    "c = a / b\n",
    "print (\"21 / 10 的值为：\", c)\n",
    " \n",
    "c = a % b\n",
    "print (\"21 % 10 的值为：\", c)\n",
    " \n",
    "# 修改变量 a 、b 、c\n",
    "a = 2\n",
    "b = 3\n",
    "c = a ** b \n",
    "print (\"2 ** 3 的值为：\", c)\n",
    " \n",
    "a = 10\n",
    "b = 5\n",
    "c = a // b \n",
    "print (\"10 // 5 的值为：\", c)"
   ]
  },
  {
   "cell_type": "markdown",
   "metadata": {},
   "source": [
    "## 2、Python比较运算符"
   ]
  },
  {
   "cell_type": "markdown",
   "metadata": {},
   "source": [
    "|运算符|描述|实例|\n",
    "|:---|:---|:---|\n",
    "|==|等于 - 比较对象是否相等|(a == b) 返回 False。|\n",
    "|!=|不等于 - 比较两个对象是否不相等|(a != b) 返回 True|\n",
    "|>|大于 - 返回x是否大于y|(a < b) 返回 True|\n",
    "|<|小于 - 返回x是否小于y。所有比较运算符返回1表示真，返回0表示假。这分别与特殊的变量True和False等价。注意，这些变量名的大写|(a < b) 返回 True|\n",
    "|>=|大于等于 - 返回x是否大于等于y|(a >= b) 返回 False|\n",
    "|<=|小于等于 - 返回x是否小于等于y| (a <= b) 返回 True|"
   ]
  },
  {
   "cell_type": "code",
   "execution_count": 12,
   "metadata": {
    "collapsed": true
   },
   "outputs": [
    {
     "name": "stdout",
     "output_type": "stream",
     "text": [
      "21 不等于 10\n",
      "21 不等于 10\n",
      "21 大于等于 10\n",
      "21 大于 10\n",
      "5 小于等于 20\n",
      "20 大于等于 5\n"
     ]
    }
   ],
   "source": [
    "a = 21\n",
    "b = 10\n",
    "c = 0\n",
    " \n",
    "if ( a == b ):\n",
    "    print (\"%d 等于 %d\" % (a,b))\n",
    "else:\n",
    "    print (\"%d 不等于 %d\" % (a,b))\n",
    " \n",
    "if ( a != b ):\n",
    "    print (\"%d 不等于 %d\" % (a,b))\n",
    "else:\n",
    "    print (\"%d 等于 %d\" % (a,b))\n",
    " \n",
    "if ( a < b ):\n",
    "   print (\"%d 小于 %d\" % (a, b))\n",
    "else:\n",
    "   print (f\"{a} 大于等于 {b}\")\n",
    " \n",
    "if ( a > b ):\n",
    "   print (f\"{a} 大于 {b}\")\n",
    "else:\n",
    "   print (f\"{a} 小于等于 {b}\")\n",
    " \n",
    "# 修改变量 a 和 b 的值\n",
    "a = 5\n",
    "b = 20\n",
    "if ( a <= b ):\n",
    "   print (\"%s 小于等于 %s\" % (a, b))\n",
    "else:\n",
    "   print (\"%s 大于  %s\" % (a, b))\n",
    "if ( b >= a ):\n",
    "   print (\"%s 大于等于 %s\" % (b, a))\n",
    "else:\n",
    "   print (\"%s 小于 %s\" % (b, a))"
   ]
  },
  {
   "cell_type": "markdown",
   "metadata": {},
   "source": [
    "## 3、Python赋值运算符"
   ]
  },
  {
   "cell_type": "markdown",
   "metadata": {},
   "source": [
    "|运算符|描述|实例|\n",
    "|:---|:---|:---|\n",
    "|=|简单的赋值运算符|c = a + b 将 a + b 的运算结果赋值为 c|\n",
    "|+=|加法赋值运算符|c += a 等效于 c = c + a|\n",
    "|-=|减法赋值运算符|c -= a 等效于 c = c - a|\n",
    "|* =|乘法赋值运算符|c * = a 等效于 c = c * a|\n",
    "|/=|除法赋值运算符|c /= a 等效于 c = c / a|\n",
    "|%=|取模赋值运算符|c %= a 等效于 c = c % a|\n",
    "|** =|幂赋值运算符|c ** = a 等效于 c = c ** a|\n",
    "|//=|取整除赋值运算符|c //= a 等效于 c = c // a|\n",
    "|:=|海象运算符，可在表达式内部为变量赋值。Python3.8 版本新增运算符。|c //= a 等效于 c = c // a|"
   ]
  },
  {
   "cell_type": "code",
   "execution_count": 13,
   "metadata": {
    "collapsed": true
   },
   "outputs": [
    {
     "name": "stdout",
     "output_type": "stream",
     "text": [
      "1 - c 的值为： 31\n",
      "2 - c 的值为： 52\n",
      "3 - c 的值为： 1092\n",
      "4 - c 的值为： 52.0\n",
      "5 - c 的值为： 2\n",
      "6 - c 的值为： 2097152\n",
      "7 - c 的值为： 99864\n"
     ]
    }
   ],
   "source": [
    "a = 21\n",
    "b = 10\n",
    "c = 0\n",
    " \n",
    "c = a + b\n",
    "print (\"1 - c 的值为：\", c)\n",
    " \n",
    "c += a\n",
    "print (\"2 - c 的值为：\", c)\n",
    " \n",
    "c *= a\n",
    "print (\"3 - c 的值为：\", c)\n",
    " \n",
    "c /= a \n",
    "print (\"4 - c 的值为：\", c)\n",
    " \n",
    "c = 2\n",
    "c %= a\n",
    "print (\"5 - c 的值为：\", c)\n",
    " \n",
    "c **= a\n",
    "print (\"6 - c 的值为：\", c)\n",
    " \n",
    "c //= a\n",
    "print (\"7 - c 的值为：\", c)"
   ]
  },
  {
   "cell_type": "markdown",
   "metadata": {},
   "source": [
    "## 4、Python位运算符"
   ]
  },
  {
   "cell_type": "code",
   "execution_count": 18,
   "metadata": {
    "collapsed": true
   },
   "outputs": [
    {
     "name": "stdout",
     "output_type": "stream",
     "text": [
      "1 - c 的值为： 0b1100\n",
      "2 - c 的值为： 0b111101\n",
      "3 - c 的值为： 0b110001\n",
      "4 - c 的值为： -0b111101\n",
      "5 - c 的值为： 0b11110000\n",
      "6 - c 的值为： 0b1111\n"
     ]
    }
   ],
   "source": [
    "a = 60            # 60 = 0011 1100 \n",
    "b = 13            # 13 = 0000 1101 \n",
    "c = 0\n",
    " \n",
    "# 按位与运算符：参与运算的两个值,如果两个相应位都为1,则该位的结果为1,否则为0。\n",
    "c = a & b        # 12 = 0000 1100\n",
    "print (\"1 - c 的值为：\", bin(c))\n",
    "\n",
    "# 按位或运算符：只要对应的二个二进位有一个为1时，结果位就为1。\n",
    "c = a | b        # 61 = 0011 1101 \n",
    "print (\"2 - c 的值为：\", bin(c))\n",
    " \n",
    "# 按位异或运算符：当两对应的二进位相异时，结果为1。\n",
    "c = a ^ b        # 49 = 0011 0001\n",
    "print (\"3 - c 的值为：\", bin(c))\n",
    "\n",
    "# 按位取反运算符：对数据的每个二进制位取反,即把1变为0,把0变为1。~x 类似于-(x-1)。\n",
    "c = ~a           # -61 = 1100 0011\n",
    "print (\"4 - c 的值为：\", bin(c))\n",
    " \n",
    "# 左移动运算符：运算数的各二进位全部左移若干位，\n",
    "# 由\"<<\"右边的数指定移动的位数，高位丢弃，低位补0。\n",
    "c = a << 2       # 240 = 1111 0000\n",
    "print (\"5 - c 的值为：\", bin(c))\n",
    "\n",
    "# 右移动运算符：把\">>\"左边的运算数的各二进位全部右移若干位，\n",
    "# \">>\"右边的数指定移动的位数\n",
    "c = a >> 2       # 15 = 0000 1111\n",
    "print (\"6 - c 的值为：\", bin(c))"
   ]
  },
  {
   "cell_type": "markdown",
   "metadata": {},
   "source": [
    "## 5、Python逻辑运算符"
   ]
  },
  {
   "cell_type": "code",
   "execution_count": 20,
   "metadata": {
    "collapsed": true
   },
   "outputs": [
    {
     "name": "stdout",
     "output_type": "stream",
     "text": [
      "1 - 变量 a 和 b 都为 true\n",
      "2 - 变量 a 和 b 都为 true，或其中一个变量为 true\n",
      "3 - 变量 a 和 b 有一个不为 true\n",
      "4 - 变量 a 和 b 都为 true，或其中一个变量为 true\n",
      "5 - 变量 a 和 b 都为 false，或其中一个变量为 false\n"
     ]
    }
   ],
   "source": [
    "a = 10\n",
    "b = 20\n",
    " \n",
    "# 布尔\"与\" - 如果 a 为 False，a and b 返回 a 的值，否则返回 b 的计算值。\n",
    "if ( a and b ):\n",
    "   print (\"1 - 变量 a 和 b 都为 true\")\n",
    "else:\n",
    "   print (\"1 - 变量 a 和 b 有一个不为 true\")\n",
    " \n",
    "# 布尔\"或\" - 如果 a 是 True，它返回 a 的值，否则它返回 b 的计算值。\n",
    "if ( a or b ):\n",
    "   print (\"2 - 变量 a 和 b 都为 true，或其中一个变量为 true\")\n",
    "else:\n",
    "   print (\"2 - 变量 a 和 b 都不为 true\")\n",
    " \n",
    "# 修改变量 a 的值\n",
    "a = 0\n",
    "if ( a and b ):\n",
    "   print (\"3 - 变量 a 和 b 都为 true\")\n",
    "else:\n",
    "   print (\"3 - 变量 a 和 b 有一个不为 true\")\n",
    " \n",
    "if ( a or b ):\n",
    "   print (\"4 - 变量 a 和 b 都为 true，或其中一个变量为 true\")\n",
    "else:\n",
    "   print (\"4 - 变量 a 和 b 都不为 true\")\n",
    " \n",
    "\n",
    "# 布尔\"非\" - 如果 a 为 True，返回 False 。如果 a 为 False，它返回 True。\n",
    "if not( a and b ):\n",
    "   print (\"5 - 变量 a 和 b 都为 false，或其中一个变量为 false\")\n",
    "else:\n",
    "   print (\"5 - 变量 a 和 b 都为 true\")"
   ]
  },
  {
   "cell_type": "markdown",
   "metadata": {},
   "source": [
    "## 6、Python成员运算符"
   ]
  },
  {
   "cell_type": "code",
   "execution_count": 22,
   "metadata": {
    "collapsed": true
   },
   "outputs": [
    {
     "name": "stdout",
     "output_type": "stream",
     "text": [
      "1 - 变量 a 不在给定的列表中 list 中\n",
      "2 - 变量 b 不在给定的列表中 list 中\n",
      "3 - 变量 a 在给定的列表中 list 中\n"
     ]
    }
   ],
   "source": [
    "a = 10\n",
    "b = 20\n",
    "list = [1, 2, 3, 4, 5 ]\n",
    "\n",
    "# 如果在指定的序列中找到值返回 True，否则返回 False。\n",
    "if ( a in list ):\n",
    "   print (\"1 - 变量 a 在给定的列表中 list 中\")\n",
    "else:\n",
    "   print (\"1 - 变量 a 不在给定的列表中 list 中\")\n",
    "\n",
    "# 如果在指定的序列中没有找到值返回 True，否则返回 False。\n",
    "if ( b not in list ):\n",
    "   print (\"2 - 变量 b 不在给定的列表中 list 中\")\n",
    "else:\n",
    "   print (\"2 - 变量 b 在给定的列表中 list 中\")\n",
    " \n",
    "# 修改变量 a 的值\n",
    "a = 2\n",
    "if ( a in list ):\n",
    "   print (\"3 - 变量 a 在给定的列表中 list 中\")\n",
    "else:\n",
    "   print (\"3 - ## 6、Python成员运算符变量 a 不在给定的列表中 list 中\")"
   ]
  },
  {
   "cell_type": "markdown",
   "metadata": {},
   "source": [
    "## 7、Python身份运算符"
   ]
  },
  {
   "cell_type": "code",
   "execution_count": 25,
   "metadata": {
    "collapsed": true
   },
   "outputs": [
    {
     "name": "stdout",
     "output_type": "stream",
     "text": [
      "1 - a 和 b 有相同的标识\n",
      "2 - a 和 b 有相同的标识\n",
      "3 - a 和 b 没有相同的标识\n",
      "4 - a 和 b 没有相同的标识\n"
     ]
    }
   ],
   "source": [
    "a = 20\n",
    "b = 20\n",
    " \n",
    "if ( a is b ):\n",
    "   print (\"1 - a 和 b 有相同的标识\")\n",
    "else:\n",
    "   print (\"1 - a 和 b 没有相同的标识\")\n",
    " \n",
    "if ( id(a) == id(b) ):\n",
    "   print (\"2 - a 和 b 有相同的标识\")\n",
    "else:\n",
    "   print (\"2 - a 和 b 没有相同的标识\")\n",
    " \n",
    "# 修改变量 b 的值\n",
    "b = 30\n",
    "if ( a is b ):\n",
    "   print (\"3 - a 和 b 有相同的标识\")\n",
    "else:\n",
    "   print (\"3 - a 和 b 没有相同的标识\")\n",
    " \n",
    "if ( a is not b ):\n",
    "   print (\"4 - a 和 b 没有相同的标识\")\n",
    "else:\n",
    "   print (\"4 - a 和 b 有相同的标识\")"
   ]
  },
  {
   "cell_type": "markdown",
   "metadata": {},
   "source": [
    "> is 与 == 区别：\n",
    " is 用于判断两个变量引用对象是否为同一个， == 用于判断引用变量的值是否相等。 "
   ]
  },
  {
   "cell_type": "markdown",
   "metadata": {},
   "source": [
    "## 8、Python运算符优先级"
   ]
  },
  {
   "cell_type": "code",
   "execution_count": 29,
   "metadata": {
    "collapsed": true
   },
   "outputs": [
    {
     "name": "stdout",
     "output_type": "stream",
     "text": [
      "(a + b) * c / d 运算结果为： 90.0\n",
      "((a + b) * c) / d 运算结果为： 90.0\n",
      "(a + b) * (c / d) 运算结果为： 90.0\n",
      "a + (b * c) / d 运算结果为： 50.0\n",
      "yes\n"
     ]
    }
   ],
   "source": [
    "'''\n",
    "**\t指数 (最高优先级)\n",
    "\n",
    "~ + -\t按位翻转, 一元加号和减号 (最后两个的方法名为 +@ 和 -@)\n",
    "\n",
    "* / % //\t乘，除，求余数和取整除\n",
    "\n",
    "+ -\t加法减法\n",
    "\n",
    ">> <<\t右移，左移运算符\n",
    "\n",
    "&\t位 'AND'\n",
    "\n",
    "^ |\t位运算符\n",
    "\n",
    "<= < > >=\t比较运算符\n",
    "\n",
    "== !=\t等于运算符\n",
    "\n",
    "= %= /= //= -= += *= **=\t赋值运算符\n",
    "\n",
    "is is not\t身份运算符\n",
    "\n",
    "in not in\t成员运算符\n",
    "\n",
    "not and or\t逻辑运算符\n",
    "\n",
    "'''\n",
    "\n",
    "a = 20\n",
    "b = 10\n",
    "c = 15\n",
    "d = 5\n",
    "e = 0\n",
    " \n",
    "e = (a + b) * c / d       #( 30 * 15 ) / 5\n",
    "print (\"(a + b) * c / d 运算结果为：\",  e)\n",
    " \n",
    "e = ((a + b) * c) / d     # (30 * 15 ) / 5\n",
    "print (\"((a + b) * c) / d 运算结果为：\",  e)\n",
    " \n",
    "e = (a + b) * (c / d)    # (30) * (15/5)\n",
    "print (\"(a + b) * (c / d) 运算结果为：\",  e)\n",
    " \n",
    "e = a + (b * c) / d      #  20 + (150/5)\n",
    "print (\"a + (b * c) / d 运算结果为：\",  e)\n",
    "\n",
    "# and 拥有更高优先级:\n",
    "x = True\n",
    "y = False\n",
    "z = False\n",
    " \n",
    "if x or y and z:\n",
    "    print(\"yes\")\n",
    "else:\n",
    "    print(\"no\")"
   ]
  }
 ],
 "metadata": {
  "kernelspec": {
   "display_name": "Python 3",
   "language": "python",
   "name": "python3"
  },
  "language_info": {
   "codemirror_mode": {
    "name": "ipython",
    "version": 3
   },
   "file_extension": ".py",
   "mimetype": "text/x-python",
   "name": "python",
   "nbconvert_exporter": "python",
   "pygments_lexer": "ipython3",
   "version": "3.7.6"
  }
 },
 "nbformat": 4,
 "nbformat_minor": 4
}
