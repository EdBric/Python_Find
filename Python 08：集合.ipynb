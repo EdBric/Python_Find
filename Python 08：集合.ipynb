{
 "cells": [
  {
   "cell_type": "markdown",
   "metadata": {},
   "source": [
    "# 一、集合"
   ]
  },
  {
   "cell_type": "markdown",
   "metadata": {},
   "source": [
    "集合（set）是一个无序的不重复元素序列。\n",
    "\n",
    "可以使用大括号 { } 或者 set() 函数创建集合，注意：创建一个空集合必须用 set() 而不是 { }，因为 { } 是用来创建一个空字典。"
   ]
  },
  {
   "cell_type": "code",
   "execution_count": 2,
   "metadata": {},
   "outputs": [
    {
     "name": "stdout",
     "output_type": "stream",
     "text": [
      "{'pear', 'banana', 'apple', 'orange'}\n"
     ]
    }
   ],
   "source": [
    "# 去重功能\n",
    "basket = {'apple', 'orange', 'apple', 'pear', 'orange', 'banana'}\n",
    "\n",
    "print(basket)"
   ]
  },
  {
   "cell_type": "code",
   "execution_count": 3,
   "metadata": {},
   "outputs": [
    {
     "name": "stdout",
     "output_type": "stream",
     "text": [
      "a: {'r', 'c', 'b', 'd', 'a'}\n",
      "b: {'m', 'c', 'z', 'a', 'l'}\n",
      "a - b =  {'d', 'r', 'b'}\n",
      "a | b =  {'m', 'r', 'c', 'z', 'b', 'd', 'a', 'l'}\n",
      "a & b =  {'a', 'c'}\n",
      "a ^ b =  {'d', 'z', 'm', 'r', 'l', 'b'}\n"
     ]
    }
   ],
   "source": [
    "# 两个集合间的运算\n",
    "a = set('abracadabra')\n",
    "b = set('alacazam')\n",
    "\n",
    "print(\"a:\", a)\n",
    "print(\"b:\", b)\n",
    "\n",
    "# 集合a中包含而集合b中不包含的元素\n",
    "print(\"a - b = \", a - b)\n",
    "\n",
    "# 集合a或b中包含的所有元素\n",
    "print(\"a | b = \", a | b)\n",
    "\n",
    "# 集合a和b中都包含了的元素\n",
    "print(\"a & b = \", a & b)\n",
    "\n",
    "# 不同时包含于a和b的元素\n",
    "print(\"a ^ b = \", a ^ b)"
   ]
  },
  {
   "cell_type": "markdown",
   "metadata": {},
   "source": [
    "## 1、添加元素"
   ]
  },
  {
   "cell_type": "code",
   "execution_count": 4,
   "metadata": {},
   "outputs": [
    {
     "name": "stdout",
     "output_type": "stream",
     "text": [
      "{'Facebook', 'Runoob', 'Taobao', 'Google'}\n"
     ]
    }
   ],
   "source": [
    "# s.add( x )\n",
    "\n",
    "thisset = set((\"Google\", \"Runoob\", \"Taobao\"))\n",
    "\n",
    "thisset.add(\"Facebook\")\n",
    "\n",
    "print(thisset)"
   ]
  },
  {
   "cell_type": "code",
   "execution_count": 5,
   "metadata": {},
   "outputs": [
    {
     "name": "stdout",
     "output_type": "stream",
     "text": [
      "{1, 'Runoob', 3, 'Taobao', 'Google'}\n"
     ]
    }
   ],
   "source": [
    "# s.update( x )：可以添加元素，且参数可以是列表，元组，字典等\n",
    "\n",
    "thisset = set((\"Google\", \"Runoob\", \"Taobao\"))\n",
    "\n",
    "thisset.update({1,3})\n",
    "\n",
    "print(thisset)"
   ]
  },
  {
   "cell_type": "code",
   "execution_count": 6,
   "metadata": {},
   "outputs": [
    {
     "name": "stdout",
     "output_type": "stream",
     "text": [
      "{1, 'Runoob', 3, 4, 5, 6, 'Taobao', 'Google'}\n"
     ]
    }
   ],
   "source": [
    "thisset.update([1,4],[5,6])\n",
    "\n",
    "print(thisset)"
   ]
  },
  {
   "cell_type": "markdown",
   "metadata": {},
   "source": [
    "## 2、移除元素"
   ]
  },
  {
   "cell_type": "code",
   "execution_count": 7,
   "metadata": {},
   "outputs": [
    {
     "name": "stdout",
     "output_type": "stream",
     "text": [
      "{'Runoob', 'Google'}\n"
     ]
    }
   ],
   "source": [
    "# s.remove( x )：将元素 x 从集合 s 中移除，如果元素不存在，则会发生错误。\n",
    "\n",
    "thisset = set((\"Google\", \"Runoob\", \"Taobao\"))\n",
    "\n",
    "thisset.remove(\"Taobao\")\n",
    "\n",
    "print(thisset)"
   ]
  },
  {
   "cell_type": "code",
   "execution_count": 8,
   "metadata": {},
   "outputs": [
    {
     "ename": "KeyError",
     "evalue": "'Facebook'",
     "output_type": "error",
     "traceback": [
      "\u001b[1;31m---------------------------------------------------------------------------\u001b[0m",
      "\u001b[1;31mKeyError\u001b[0m                                  Traceback (most recent call last)",
      "\u001b[1;32m<ipython-input-8-53a786b3179c>\u001b[0m in \u001b[0;36m<module>\u001b[1;34m\u001b[0m\n\u001b[1;32m----> 1\u001b[1;33m \u001b[0mthisset\u001b[0m\u001b[1;33m.\u001b[0m\u001b[0mremove\u001b[0m\u001b[1;33m(\u001b[0m\u001b[1;34m\"Facebook\"\u001b[0m\u001b[1;33m)\u001b[0m\u001b[1;33m\u001b[0m\u001b[1;33m\u001b[0m\u001b[0m\n\u001b[0m",
      "\u001b[1;31mKeyError\u001b[0m: 'Facebook'"
     ]
    }
   ],
   "source": [
    "thisset.remove(\"Facebook\")"
   ]
  },
  {
   "cell_type": "code",
   "execution_count": 9,
   "metadata": {},
   "outputs": [
    {
     "name": "stdout",
     "output_type": "stream",
     "text": [
      "{'Runoob', 'Google'}\n"
     ]
    }
   ],
   "source": [
    "# s.discard( x )：如果元素不存在，不会发生错误。\n",
    "\n",
    "thisset.discard(\"Facebook\")\n",
    "\n",
    "print(thisset)"
   ]
  },
  {
   "cell_type": "code",
   "execution_count": 23,
   "metadata": {},
   "outputs": [
    {
     "name": "stdout",
     "output_type": "stream",
     "text": [
      "Facebook\n"
     ]
    }
   ],
   "source": [
    "# s.pop()：随机删除集合中的一个元素\n",
    "# set集合的pop方法会对集合进行无序的排列，然后将这个无序排列集合的左面第一个元素进行删除。\n",
    "\n",
    "thisset = set((\"Google\", \"Runoob\", \"Taobao\", \"Facebook\"))\n",
    "x = thisset.pop()\n",
    "\n",
    "print(x)"
   ]
  },
  {
   "cell_type": "markdown",
   "metadata": {},
   "source": [
    "## 3、计算集合元素个数"
   ]
  },
  {
   "cell_type": "code",
   "execution_count": 24,
   "metadata": {},
   "outputs": [
    {
     "data": {
      "text/plain": [
       "3"
      ]
     },
     "execution_count": 24,
     "metadata": {},
     "output_type": "execute_result"
    }
   ],
   "source": [
    "# len(s)\n",
    "\n",
    "thisset = set((\"Google\", \"Runoob\", \"Taobao\"))\n",
    "\n",
    "len(thisset)"
   ]
  },
  {
   "cell_type": "markdown",
   "metadata": {},
   "source": [
    "## 4、清空集合"
   ]
  },
  {
   "cell_type": "code",
   "execution_count": 25,
   "metadata": {},
   "outputs": [
    {
     "name": "stdout",
     "output_type": "stream",
     "text": [
      "set()\n"
     ]
    }
   ],
   "source": [
    "# s.clear()\n",
    "\n",
    "thisset = set((\"Google\", \"Runoob\", \"Taobao\"))\n",
    "\n",
    "thisset.clear()\n",
    "\n",
    "print(thisset)"
   ]
  },
  {
   "cell_type": "markdown",
   "metadata": {},
   "source": [
    "## 5、判断元素是否在集合中存在"
   ]
  },
  {
   "cell_type": "code",
   "execution_count": 28,
   "metadata": {},
   "outputs": [
    {
     "name": "stdout",
     "output_type": "stream",
     "text": [
      "True\n",
      "False\n"
     ]
    }
   ],
   "source": [
    "# x in s：判断元素 x 是否在集合 s 中，存在返回 True，不存在返回 False。\n",
    "\n",
    "thisset = set((\"Google\", \"Runoob\", \"Taobao\"))\n",
    "\n",
    "print(\"Runoob\" in thisset)\n",
    "\n",
    "print(\"Facebook\" in thisset)"
   ]
  }
 ],
 "metadata": {
  "kernelspec": {
   "display_name": "Python 3",
   "language": "python",
   "name": "python3"
  },
  "language_info": {
   "codemirror_mode": {
    "name": "ipython",
    "version": 3
   },
   "file_extension": ".py",
   "mimetype": "text/x-python",
   "name": "python",
   "nbconvert_exporter": "python",
   "pygments_lexer": "ipython3",
   "version": "3.7.6"
  }
 },
 "nbformat": 4,
 "nbformat_minor": 4
}
