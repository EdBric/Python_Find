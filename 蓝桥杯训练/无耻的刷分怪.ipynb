{
 "cells": [
  {
   "cell_type": "markdown",
   "metadata": {},
   "source": [
    "# 3 算法训练"
   ]
  },
  {
   "cell_type": "markdown",
   "metadata": {},
   "source": [
    "## 3.195 1的个数"
   ]
  },
  {
   "cell_type": "code",
   "execution_count": 8,
   "metadata": {},
   "outputs": [
    {
     "name": "stdout",
     "output_type": "stream",
     "text": [
      "15\n",
      "8\n"
     ]
    }
   ],
   "source": [
    "import random\n",
    "\n",
    "n = int(input())\n",
    "str1 = ''\n",
    "\n",
    "for i in range(1, n + 1):\n",
    "    str1 += str(i)\n",
    "    \n",
    "print(str1.count('1'))"
   ]
  },
  {
   "cell_type": "markdown",
   "metadata": {},
   "source": [
    "## 3.233 字符串合并"
   ]
  },
  {
   "cell_type": "code",
   "execution_count": 9,
   "metadata": {},
   "outputs": [
    {
     "name": "stdout",
     "output_type": "stream",
     "text": [
      "Hello\n",
      "World\n",
      "HelloWorld\n"
     ]
    }
   ],
   "source": [
    "str1 = input()\n",
    "str2 = input()\n",
    "\n",
    "print(str1 + str2)"
   ]
  },
  {
   "cell_type": "markdown",
   "metadata": {},
   "source": [
    "## 3.230 RP大冒险"
   ]
  },
  {
   "cell_type": "code",
   "execution_count": 13,
   "metadata": {},
   "outputs": [
    {
     "name": "stdout",
     "output_type": "stream",
     "text": [
      "2\n",
      "8\n"
     ]
    }
   ],
   "source": [
    "import random\n",
    "\n",
    "n = int(input())\n",
    "\n",
    "print(random.randrange(1, 10))"
   ]
  },
  {
   "cell_type": "markdown",
   "metadata": {},
   "source": [
    "？？？？"
   ]
  },
  {
   "cell_type": "markdown",
   "metadata": {},
   "source": [
    "## 3.221 数据交换"
   ]
  },
  {
   "cell_type": "code",
   "execution_count": 20,
   "metadata": {},
   "outputs": [
    {
     "name": "stdout",
     "output_type": "stream",
     "text": [
      "0 1\n",
      "1 0\n"
     ]
    }
   ],
   "source": [
    "x, y = map(int, input().split())\n",
    "\n",
    "def swap(x, y):\n",
    "    c = x\n",
    "    x = y\n",
    "    y = c\n",
    "    return x,y\n",
    "\n",
    "x, y = swap(x, y)\n",
    "\n",
    "print(x, y)"
   ]
  },
  {
   "cell_type": "markdown",
   "metadata": {},
   "source": [
    "## 3.220 加分运算"
   ]
  },
  {
   "cell_type": "code",
   "execution_count": 22,
   "metadata": {},
   "outputs": [
    {
     "name": "stdout",
     "output_type": "stream",
     "text": [
      "1 1\n",
      "2\n"
     ]
    }
   ],
   "source": [
    "def GetTwoInts():\n",
    "    x, y = map(int, input().split())\n",
    "    return x, y\n",
    "    \n",
    "x, y = GetTwoInts()\n",
    "\n",
    "print(x + y)"
   ]
  },
  {
   "cell_type": "markdown",
   "metadata": {},
   "source": [
    "## 3.217 景点游览"
   ]
  },
  {
   "cell_type": "code",
   "execution_count": 36,
   "metadata": {},
   "outputs": [
    {
     "name": "stdout",
     "output_type": "stream",
     "text": [
      "4\n",
      "3 2 4 1\n",
      "4 3 2 1 "
     ]
    }
   ],
   "source": [
    "N = int(input())\n",
    "\n",
    "list1 = []\n",
    "list1 = input().split()\n",
    "\n",
    "list2 = [0 for i in range(N)]\n",
    "\n",
    "for i in range(N):\n",
    "    list2[i] = int(list1[i])\n",
    "\n",
    "list2.sort(reverse = True)\n",
    "\n",
    "for i in range(N):\n",
    "    print(list2[i], end = ' ')"
   ]
  },
  {
   "cell_type": "markdown",
   "metadata": {},
   "source": [
    "## 3.202 二进制数数"
   ]
  },
  {
   "cell_type": "code",
   "execution_count": 38,
   "metadata": {},
   "outputs": [
    {
     "name": "stdout",
     "output_type": "stream",
     "text": [
      "1 3\n",
      "4\n"
     ]
    }
   ],
   "source": [
    "L, R = map(int, input().split())\n",
    "\n",
    "sum_1 = 0\n",
    "\n",
    "for i in range(L, R + 1):\n",
    "    sum_1 += str(bin(i)).count('1')\n",
    "    \n",
    "print(sum_1)"
   ]
  },
  {
   "cell_type": "markdown",
   "metadata": {},
   "source": [
    "## 3.159 P0103"
   ]
  },
  {
   "cell_type": "code",
   "execution_count": 44,
   "metadata": {},
   "outputs": [
    {
     "name": "stdout",
     "output_type": "stream",
     "text": [
      "B\n",
      "b\n"
     ]
    }
   ],
   "source": [
    "Big = input()\n",
    "\n",
    "Small = ord(Big) + 32\n",
    "\n",
    "print(chr(Small))"
   ]
  },
  {
   "cell_type": "markdown",
   "metadata": {},
   "source": [
    "## 3.142 P1103"
   ]
  },
  {
   "cell_type": "code",
   "execution_count": 50,
   "metadata": {},
   "outputs": [
    {
     "name": "stdout",
     "output_type": "stream",
     "text": [
      "- 2.5 3.6 1.5 4.9\n",
      "1.00+-1.30i\n"
     ]
    }
   ],
   "source": [
    "fuhao, a, b, c, d = input().split()\n",
    "\n",
    "a, b, c, d = map(float, (a, b, c, d))\n",
    "\n",
    "if(fuhao == '+'):\n",
    "    print('%.2f+%.2fi' % (a + c, b + d))\n",
    "elif(fuhao == '-'):\n",
    "    print('%.2f+%.2fi' % (a - c, b - d))\n",
    "elif(fuhao == '*'):\n",
    "    print('%.2f+%.2fi' % (a*c-b*d, b*c+a*d))\n",
    "elif(fuhao == '/'):\n",
    "    print('%.2f+%.2fi' % ((a*c+b*d)/(c**2+d**2), (b*c-a*d)/(c**2+d**2)))"
   ]
  },
  {
   "cell_type": "markdown",
   "metadata": {},
   "source": [
    "## 3.101 图形显示"
   ]
  },
  {
   "cell_type": "code",
   "execution_count": 55,
   "metadata": {},
   "outputs": [
    {
     "name": "stdout",
     "output_type": "stream",
     "text": [
      "10\n",
      "* * * * * * * * * * \n",
      "* * * * * * * * * \n",
      "* * * * * * * * \n",
      "* * * * * * * \n",
      "* * * * * * \n",
      "* * * * * \n",
      "* * * * \n",
      "* * * \n",
      "* * \n",
      "* \n"
     ]
    }
   ],
   "source": [
    "N = int(input())\n",
    "\n",
    "for i in range(N):\n",
    "    for j in range(N-i):\n",
    "        print('*', end = ' ')\n",
    "    print()"
   ]
  },
  {
   "cell_type": "markdown",
   "metadata": {},
   "source": [
    "## 3.97 排序"
   ]
  },
  {
   "cell_type": "code",
   "execution_count": 66,
   "metadata": {},
   "outputs": [
    {
     "name": "stdout",
     "output_type": "stream",
     "text": [
      "9 2 30\n",
      "30 9 2 "
     ]
    }
   ],
   "source": [
    "list1 = input().split()\n",
    "\n",
    "list2 = [0 for i in range(len(list1))]\n",
    "\n",
    "for i in range(len(list1)):\n",
    "    list2[i] = int(list1[i])\n",
    "\n",
    "list2.sort(reverse = True)\n",
    "\n",
    "for i in range(len(list1)):\n",
    "    print(list2[i], end = ' ')"
   ]
  },
  {
   "cell_type": "markdown",
   "metadata": {},
   "source": [
    "## 3.92 前缀表达式"
   ]
  },
  {
   "cell_type": "code",
   "execution_count": 71,
   "metadata": {},
   "outputs": [
    {
     "name": "stdout",
     "output_type": "stream",
     "text": [
      "/ 2 2\n",
      "1\n"
     ]
    }
   ],
   "source": [
    "fuhao, a, b = input().split()\n",
    "\n",
    "a, b = map(int, (a, b))\n",
    "\n",
    "if(fuhao == '+'):\n",
    "    print(a+b)\n",
    "elif(fuhao == '-'):\n",
    "    print(a-b)\n",
    "elif(fuhao == '*'):\n",
    "    print(a*b)\n",
    "elif(fuhao == '/'):\n",
    "    print(a//b)"
   ]
  },
  {
   "cell_type": "markdown",
   "metadata": {},
   "source": [
    "## 3.91 Anagrams问题"
   ]
  },
  {
   "cell_type": "code",
   "execution_count": 81,
   "metadata": {},
   "outputs": [
    {
     "name": "stdout",
     "output_type": "stream",
     "text": [
      "Unclear\n",
      "Nuclear\n",
      "Y\n"
     ]
    }
   ],
   "source": [
    "str1 = input()\n",
    "str2 = input()\n",
    "\n",
    "str1 = str1.upper()\n",
    "str2 = str2.upper()\n",
    "\n",
    "str3 = 'ABCDEFGHIJKLMNOPQRSTUVWXYZ'\n",
    "\n",
    "flag = 1\n",
    "\n",
    "for i in range(26):\n",
    "    if str1.count(str3[i]) != str2.count(str3[i]):\n",
    "        flag = 0\n",
    "    \n",
    "if(flag):\n",
    "    print('Y')\n",
    "else:\n",
    "    print('N')"
   ]
  },
  {
   "cell_type": "markdown",
   "metadata": {},
   "source": [
    "## 3.84 大小写转化"
   ]
  },
  {
   "cell_type": "code",
   "execution_count": 83,
   "metadata": {},
   "outputs": [
    {
     "name": "stdout",
     "output_type": "stream",
     "text": [
      "AeDb\n",
      "aEdB\n"
     ]
    }
   ],
   "source": [
    "str1 = input()\n",
    "\n",
    "str1 = str1.swapcase()\n",
    "\n",
    "print(str1)"
   ]
  },
  {
   "cell_type": "markdown",
   "metadata": {},
   "source": [
    "## 3.79 删除数组零元素"
   ]
  },
  {
   "cell_type": "code",
   "execution_count": 89,
   "metadata": {},
   "outputs": [
    {
     "name": "stdout",
     "output_type": "stream",
     "text": [
      "3\n",
      "0 0 0\n",
      "0\n"
     ]
    }
   ],
   "source": [
    "n = int(input())\n",
    "\n",
    "list1 = input().split()\n",
    "list2 = []\n",
    "\n",
    "flag = 0\n",
    "\n",
    "for i in range(n):\n",
    "    if list1[i] != '0':\n",
    "        flag += 1\n",
    "        list2.append(list1[i])\n",
    "        \n",
    "print(flag)\n",
    "for i in range(flag):\n",
    "    print(list2[i], end = ' ')"
   ]
  },
  {
   "cell_type": "markdown",
   "metadata": {},
   "source": [
    "## 3.49 寻找数组中最大值"
   ]
  },
  {
   "cell_type": "code",
   "execution_count": 91,
   "metadata": {},
   "outputs": [
    {
     "name": "stdout",
     "output_type": "stream",
     "text": [
      "3\n",
      "1 2 3\n",
      "3 2\n"
     ]
    }
   ],
   "source": [
    "n = int(input())\n",
    "\n",
    "list1 = input().split()\n",
    "\n",
    "print(max(list1), list1.index(max(list1)))"
   ]
  },
  {
   "cell_type": "markdown",
   "metadata": {},
   "source": [
    "## 3.315  除法运算"
   ]
  },
  {
   "cell_type": "code",
   "execution_count": 97,
   "metadata": {},
   "outputs": [
    {
     "name": "stdout",
     "output_type": "stream",
     "text": [
      "8\n",
      "4\n",
      "1\n"
     ]
    }
   ],
   "source": [
    "x = int(input())\n",
    "y = int(input())\n",
    "\n",
    "if x / y == x // y:\n",
    "    print('1')\n",
    "else:\n",
    "    print('0')"
   ]
  },
  {
   "cell_type": "markdown",
   "metadata": {},
   "source": [
    "## 3.239 求平方和"
   ]
  },
  {
   "cell_type": "code",
   "execution_count": 100,
   "metadata": {},
   "outputs": [
    {
     "name": "stdout",
     "output_type": "stream",
     "text": [
      "3 4\n",
      "3.1 4.1\n",
      "25\n",
      "26.42\n"
     ]
    }
   ],
   "source": [
    "int_x, int_y = map(int, input().split())\n",
    "float_x, float_y = map(float, input().split())\n",
    "\n",
    "print(int_x ** 2 + int_y ** 2)\n",
    "print('%.2f' % (float_x ** 2 + float_y ** 2))"
   ]
  },
  {
   "cell_type": "markdown",
   "metadata": {},
   "source": [
    "## 3.235 字符串长度"
   ]
  },
  {
   "cell_type": "code",
   "execution_count": 101,
   "metadata": {},
   "outputs": [
    {
     "name": "stdout",
     "output_type": "stream",
     "text": [
      "HelloWorld\n",
      "10\n"
     ]
    }
   ],
   "source": [
    "str1 = input()\n",
    "\n",
    "print(len(str1))"
   ]
  },
  {
   "cell_type": "markdown",
   "metadata": {},
   "source": [
    "## 3.234 字符串排序"
   ]
  },
  {
   "cell_type": "code",
   "execution_count": 114,
   "metadata": {},
   "outputs": [
    {
     "name": "stdout",
     "output_type": "stream",
     "text": [
      "bcaed\n",
      "abcde"
     ]
    }
   ],
   "source": [
    "list1 = list(input())\n",
    "\n",
    "list2 = [0 for i in range(len(list1))]\n",
    "\n",
    "for i in range (len(list1)):\n",
    "    list2[i] = ord(list1[i])\n",
    "\n",
    "list2.sort(reverse = False)\n",
    "\n",
    "for i in range(len(list1)):\n",
    "    print(chr(list2[i]), end = '')"
   ]
  },
  {
   "cell_type": "markdown",
   "metadata": {},
   "source": [
    "## 3.223 字符串比较"
   ]
  },
  {
   "cell_type": "code",
   "execution_count": 118,
   "metadata": {},
   "outputs": [
    {
     "name": "stdout",
     "output_type": "stream",
     "text": [
      "abcd\n",
      "acbd\n",
      "4\n",
      "-1\n"
     ]
    }
   ],
   "source": [
    "s = input()\n",
    "t = input()\n",
    "n = int(input())\n",
    "\n",
    "flag = 0\n",
    "\n",
    "for i in range(n):\n",
    "    if(ord(s[i]) > ord(t[i])):\n",
    "        print('1')\n",
    "        break\n",
    "    elif(ord(s[i]) < ord(t[i])):\n",
    "        print('-1')\n",
    "        break\n",
    "    elif(ord(s[i]) == ord(t[i])):\n",
    "        flag += 1\n",
    "        \n",
    "if flag == n:\n",
    "    print('0')"
   ]
  },
  {
   "cell_type": "markdown",
   "metadata": {},
   "source": [
    "## 3.316 单词翻转"
   ]
  },
  {
   "cell_type": "code",
   "execution_count": 124,
   "metadata": {},
   "outputs": [
    {
     "name": "stdout",
     "output_type": "stream",
     "text": [
      "I love you\n",
      "you love I "
     ]
    }
   ],
   "source": [
    "list1 = input().split()\n",
    "\n",
    "j = len(list1) - 1\n",
    "for i in range(len(list1)):\n",
    "    print(list1[j], end = ' ')\n",
    "    j -= 1"
   ]
  },
  {
   "cell_type": "markdown",
   "metadata": {},
   "source": [
    "## 3.216 相邻字母"
   ]
  },
  {
   "cell_type": "code",
   "execution_count": 132,
   "metadata": {},
   "outputs": [
    {
     "name": "stdout",
     "output_type": "stream",
     "text": [
      "B\n",
      "ABC\n"
     ]
    }
   ],
   "source": [
    "zimu = input()\n",
    "\n",
    "str1 = 'ABCDEFGHIJKLMNOPQRSTUVWXYZ'\n",
    "str2 = 'abcdefghijklmnopqrstuvwxyz'\n",
    "\n",
    "if zimu in str1:\n",
    "    pos = str1.index(zimu)\n",
    "    if pos == 0:\n",
    "        print('ZAB')\n",
    "    elif pos == 25:\n",
    "        print('YZA')\n",
    "    else:\n",
    "        print(str1[pos-1:pos+2])\n",
    "        \n",
    "elif zimu in str2:\n",
    "    pos = str2.index(zimu)\n",
    "    if pos == 0:\n",
    "        print('zab')\n",
    "    elif pos == 25:\n",
    "        print('yza')\n",
    "    else:\n",
    "        print(str2[pos-1:pos+2])\n"
   ]
  },
  {
   "cell_type": "markdown",
   "metadata": {},
   "source": [
    "## 3.328 首字母变大写"
   ]
  },
  {
   "cell_type": "code",
   "execution_count": 9,
   "metadata": {},
   "outputs": [
    {
     "name": "stdout",
     "output_type": "stream",
     "text": [
      "if so, you already have a google account. you can sign in on the right.\n",
      "If So, You Already Have A Google Account. You Can Sign In On The Right.\n"
     ]
    }
   ],
   "source": [
    "str1 = input()\n",
    "\n",
    "print(str1.title())"
   ]
  },
  {
   "cell_type": "markdown",
   "metadata": {},
   "source": [
    "## 3.326 十进制转二进制输出"
   ]
  },
  {
   "cell_type": "code",
   "execution_count": 12,
   "metadata": {},
   "outputs": [
    {
     "name": "stdout",
     "output_type": "stream",
     "text": [
      "96\n",
      "1100000\n"
     ]
    }
   ],
   "source": [
    "print(bin(int(input())).lstrip('0b'))"
   ]
  },
  {
   "cell_type": "markdown",
   "metadata": {},
   "source": [
    "## 3.322 求1加到x的和(number)"
   ]
  },
  {
   "cell_type": "code",
   "execution_count": 14,
   "metadata": {},
   "outputs": [
    {
     "name": "stdout",
     "output_type": "stream",
     "text": [
      "10\n",
      "55\n"
     ]
    }
   ],
   "source": [
    "x = int(input())\n",
    "\n",
    "print((1 + x) * x // 2)"
   ]
  },
  {
   "cell_type": "markdown",
   "metadata": {},
   "source": [
    "## 3.321 每月的天数"
   ]
  },
  {
   "cell_type": "code",
   "execution_count": 20,
   "metadata": {},
   "outputs": [
    {
     "name": "stdout",
     "output_type": "stream",
     "text": [
      "4\n",
      "30\n"
     ]
    }
   ],
   "source": [
    "moon = int(input())\n",
    "big_moon = [1, 3, 5, 7, 8, 10, 12]\n",
    "small_moon = [4, 6, 9, 11]\n",
    "\n",
    "if moon in big_moon:\n",
    "    print('31')\n",
    "    \n",
    "elif moon in small_moon:\n",
    "    print('30')\n",
    "    \n",
    "else:\n",
    "    print('28')"
   ]
  },
  {
   "cell_type": "code",
   "execution_count": null,
   "metadata": {},
   "outputs": [],
   "source": []
  }
 ],
 "metadata": {
  "kernelspec": {
   "display_name": "Python 3",
   "language": "python",
   "name": "python3"
  },
  "language_info": {
   "codemirror_mode": {
    "name": "ipython",
    "version": 3
   },
   "file_extension": ".py",
   "mimetype": "text/x-python",
   "name": "python",
   "nbconvert_exporter": "python",
   "pygments_lexer": "ipython3",
   "version": "3.7.6"
  }
 },
 "nbformat": 4,
 "nbformat_minor": 4
}
