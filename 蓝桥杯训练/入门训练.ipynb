{
 "cells": [
  {
   "cell_type": "markdown",
   "metadata": {},
   "source": [
    "# 1 入门训练"
   ]
  },
  {
   "cell_type": "markdown",
   "metadata": {},
   "source": [
    "## 1.1 A+B问题"
   ]
  },
  {
   "cell_type": "markdown",
   "metadata": {},
   "source": [
    "输入A、B，输出A+B。\n",
    "\n",
    "\n",
    "-10000 <= A, B <= 10000。"
   ]
  },
  {
   "cell_type": "code",
   "execution_count": 33,
   "metadata": {},
   "outputs": [
    {
     "name": "stdout",
     "output_type": "stream",
     "text": [
      "921034 9123\n",
      "930157\n"
     ]
    }
   ],
   "source": [
    "a, b = input().split(' ')\n",
    "\n",
    "a = int(a)\n",
    "b = int(b)\n",
    "\n",
    "print(a+b)"
   ]
  },
  {
   "cell_type": "markdown",
   "metadata": {},
   "source": [
    "## 1.2 序列求和"
   ]
  },
  {
   "cell_type": "markdown",
   "metadata": {},
   "source": [
    "输入包括一个整数n。\n",
    "\n",
    "\n",
    "输出一行，包括一个整数，表示1+2+3+...+n的值。"
   ]
  },
  {
   "cell_type": "code",
   "execution_count": 53,
   "metadata": {},
   "outputs": [
    {
     "name": "stdout",
     "output_type": "stream",
     "text": [
      "10000000\n",
      "50000005000000\n"
     ]
    }
   ],
   "source": [
    "n = int(input())\n",
    "\n",
    "sum = 0\n",
    "i = 1\n",
    "\n",
    "while(i <= n):\n",
    "    sum += i\n",
    "    i += 1\n",
    "\n",
    "print(sum)"
   ]
  },
  {
   "cell_type": "markdown",
   "metadata": {},
   "source": [
    "> 错误：超时"
   ]
  },
  {
   "cell_type": "code",
   "execution_count": 56,
   "metadata": {},
   "outputs": [
    {
     "name": "stdout",
     "output_type": "stream",
     "text": [
      "100000\n",
      "5000050000\n"
     ]
    }
   ],
   "source": [
    "n = int(input())\n",
    "\n",
    "sum = int(((1 + n) * n) / 2)\n",
    "\n",
    "print(sum)"
   ]
  },
  {
   "cell_type": "markdown",
   "metadata": {},
   "source": [
    "> 总结：可以用到数学公式的就不要用暴力求解浪费时间。"
   ]
  },
  {
   "cell_type": "markdown",
   "metadata": {},
   "source": [
    "## 1.3 圆的面积"
   ]
  },
  {
   "cell_type": "markdown",
   "metadata": {},
   "source": [
    "给定圆的半径r，求圆的面积。\n",
    "\n",
    "\n",
    "输入包含一个整数r，表示圆的半径。\n",
    "\n",
    "\n",
    "输出一行，包含一个实数，四舍五入保留小数点后7位，表示圆的面积。"
   ]
  },
  {
   "cell_type": "code",
   "execution_count": 61,
   "metadata": {},
   "outputs": [
    {
     "name": "stdout",
     "output_type": "stream",
     "text": [
      "4\n",
      "50.2654825\n"
     ]
    }
   ],
   "source": [
    "import math\n",
    "\n",
    "r = float(input())\n",
    "\n",
    "S = math.pi * (r ** 2)\n",
    "\n",
    "print(\"%.7f\" % S)"
   ]
  },
  {
   "cell_type": "markdown",
   "metadata": {},
   "source": [
    "## 1.4 Fibonacci数列"
   ]
  },
  {
   "cell_type": "markdown",
   "metadata": {},
   "source": [
    "Fibonacci数列的递推公式为：Fn=Fn-1+Fn-2，其中F1=F2=1。\n",
    "\n",
    "当n比较大时，Fn也非常大，现在我们想知道，Fn除以10007的余数是多少。\n",
    "\n",
    "输入包含一个整数n。\n",
    "\n",
    "输出一行，包含一个整数，表示Fn除以10007的余数。"
   ]
  },
  {
   "cell_type": "code",
   "execution_count": null,
   "metadata": {},
   "outputs": [],
   "source": [
    "import sys   \n",
    "sys.setrecursionlimit(1000000) #例如这里设置为一百万，python递归有深度限制999  \n",
    "\n",
    "n = int(input())\n",
    "\n",
    "def fib(n):\n",
    "    if n == 1 or n ==2:\n",
    "        return 1\n",
    "    return fib(n - 1) + fib(n - 2)\n",
    "\n",
    "A = fib(n) % 10007\n",
    "\n",
    "print(A)"
   ]
  },
  {
   "cell_type": "code",
   "execution_count": null,
   "metadata": {},
   "outputs": [
    {
     "name": "stdout",
     "output_type": "stream",
     "text": [
      "999999\n"
     ]
    }
   ],
   "source": [
    "# 递归求解，避免重复计算已经出现过的元素\n",
    "n = int(input())\n",
    "\n",
    "fib_arr = [0, 1]\n",
    "\n",
    "def fib(n, fib_arr):\n",
    "       \n",
    "    if n < 2:\n",
    "        return fib_arr[n]\n",
    "    else:\n",
    "        # 填充数组\n",
    "        for i in range(n):\n",
    "            fib_arr.append(-1)\n",
    "            # 当求得 fib_arr[n-1] 时，fib_arr[n-2] 已知\n",
    "            fib_arr[n] = fib(n-1, fib_arr) + fib_arr[n-2]\n",
    "            return fib_arr[n]\n",
    "        \n",
    "A = fib(n, fib_arr) % 10007\n",
    "\n",
    "print(A)"
   ]
  },
  {
   "cell_type": "markdown",
   "metadata": {},
   "source": [
    "> 递归法：运行超时"
   ]
  },
  {
   "cell_type": "code",
   "execution_count": 8,
   "metadata": {},
   "outputs": [
    {
     "name": "stdout",
     "output_type": "stream",
     "text": [
      "200\n",
      "3407\n"
     ]
    }
   ],
   "source": [
    "# 通项公式求解\n",
    "import numpy\n",
    "import math\n",
    "\n",
    "n = int(input())\n",
    "\n",
    "def fib(n):\n",
    "    denominator = math.sqrt(5)\n",
    "    return int((numpy.power((1+denominator)/2, n) - numpy.power((1-denominator)/2, n)) / denominator)\n",
    "\n",
    "A = fib(n) % 10007\n",
    "\n",
    "print(A)"
   ]
  },
  {
   "cell_type": "markdown",
   "metadata": {},
   "source": [
    "> 公式法：运行超时\n",
    "\n",
    "> 在本题中，答案是要求Fn除以10007的余数，因此我们只要能算出这个余数即可，而不需要先计算出Fn的准确值，再将计算的结果除以10007取余数，直接计算余数往往比先算出原数再取余简单。"
   ]
  },
  {
   "cell_type": "code",
   "execution_count": 7,
   "metadata": {},
   "outputs": [
    {
     "name": "stdout",
     "output_type": "stream",
     "text": [
      "999999\n",
      "3131\n"
     ]
    }
   ],
   "source": [
    "n = int(input())\n",
    "\n",
    "fib = [0 for x in range(0, 1000000)]\n",
    "fib[1] = 1\n",
    "fib[2] = 1\n",
    "\n",
    "i = 3\n",
    "\n",
    "while(i <= n):\n",
    "    fib[i] = (fib[i - 1] + fib[i - 2]) % 10007\n",
    "    i += 1\n",
    "\n",
    "print(fib[n])"
   ]
  },
  {
   "cell_type": "markdown",
   "metadata": {},
   "source": [
    "> 列表法"
   ]
  },
  {
   "cell_type": "code",
   "execution_count": 9,
   "metadata": {},
   "outputs": [
    {
     "name": "stdout",
     "output_type": "stream",
     "text": [
      "999999\n",
      "3131\n"
     ]
    }
   ],
   "source": [
    "n = int(input())\n",
    "\n",
    "def fib(n):\n",
    "    a, b = 1, 1\n",
    "    for i in range (n - 1):\n",
    "        a, b = b % 10007, (a + b) % 10007\n",
    "    return a\n",
    "\n",
    "A = fib(n)\n",
    "\n",
    "print(A)"
   ]
  },
  {
   "cell_type": "markdown",
   "metadata": {},
   "source": [
    "> 函数法"
   ]
  }
 ],
 "metadata": {
  "kernelspec": {
   "display_name": "Python 3",
   "language": "python",
   "name": "python3"
  },
  "language_info": {
   "codemirror_mode": {
    "name": "ipython",
    "version": 3
   },
   "file_extension": ".py",
   "mimetype": "text/x-python",
   "name": "python",
   "nbconvert_exporter": "python",
   "pygments_lexer": "ipython3",
   "version": "3.7.6"
  }
 },
 "nbformat": 4,
 "nbformat_minor": 4
}
