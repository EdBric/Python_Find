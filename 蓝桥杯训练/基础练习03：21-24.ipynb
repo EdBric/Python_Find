{
 "cells": [
  {
   "cell_type": "markdown",
   "metadata": {},
   "source": [
    "# 2 基础练习"
   ]
  },
  {
   "cell_type": "markdown",
   "metadata": {},
   "source": [
    "## 2.21 Sine之舞"
   ]
  },
  {
   "cell_type": "markdown",
   "metadata": {},
   "source": [
    "最近FJ为他的奶牛们开设了数学分析课，FJ知道若要学好这门课，必须有一个好的三角函数基本功。\n",
    "\n",
    "所以他准备和奶牛们做一个“Sine之舞”的游戏，寓教于乐，提高奶牛们的计算能力。\n",
    "\n",
    "不妨设\n",
    "An=sin(1–sin(2+sin(3–sin(4+...sin(n))...)\n",
    "\n",
    "Sn=(...(A1+n)A2+n-1)A3+...+2)An+1\n",
    "\n",
    "FJ想让奶牛们计算Sn的值，请你帮助FJ打印出Sn的完整表达式，以方便奶牛们做题。\n",
    "\n",
    "输入仅有一个数：N<201。\n",
    "\n",
    "请输出相应的表达式Sn，以一个换行符结束。\n",
    "\n",
    "输出中不得含有多余的空格或换行、回车符。"
   ]
  },
  {
   "cell_type": "code",
   "execution_count": 120,
   "metadata": {},
   "outputs": [
    {
     "name": "stdout",
     "output_type": "stream",
     "text": [
      "3\n",
      "((sin(1)+3)sin(1+sin(2))+2)sin(1-sin(2+sin(3)))+1\n"
     ]
    }
   ],
   "source": [
    "N = int(input())\n",
    "\n",
    "# An生成函数\n",
    "def An_creat(n):\n",
    "    An = ''\n",
    "    for i in range(n):\n",
    "        # 三目运算符\n",
    "        Fuhao = '-' if (-1) ** i > 0 else '+'\n",
    "        if i == 0:\n",
    "            An = 'sin' + '(' + str(n-i) + An + ')'\n",
    "        else:\n",
    "            An = 'sin' + '(' + str(n-i) + Fuhao + An + ')'\n",
    "\n",
    "    return An\n",
    "\n",
    "# Sn生成函数\n",
    "def Sn_creat(N):\n",
    "    Sn = ''\n",
    "    for j in range(N):\n",
    "        An = An_creat(j+1)\n",
    "        Sn = '(' + Sn + An + '+' + str(N-j) + ')'\n",
    "        \n",
    "    return Sn\n",
    "\n",
    "Sn = Sn_creat(N)\n",
    "\n",
    "# 截取掉首尾的()\n",
    "print(Sn[1:len(Sn)-1])"
   ]
  },
  {
   "cell_type": "markdown",
   "metadata": {},
   "source": [
    "## 2.22 FJ的字符串"
   ]
  },
  {
   "cell_type": "markdown",
   "metadata": {},
   "source": [
    "FJ在沙盘上写了这样一些字符串：\n",
    "\n",
    "A1 = “A”\n",
    "\n",
    "A2 = “ABA”\n",
    "\n",
    "A3 = “ABACABA”\n",
    "\n",
    "A4 = “ABACABADABACABA”\n",
    "\n",
    "… …\n",
    "\n",
    "你能找出其中的规律并写所有的数列AN吗？"
   ]
  },
  {
   "cell_type": "code",
   "execution_count": 4,
   "metadata": {},
   "outputs": [
    {
     "name": "stdout",
     "output_type": "stream",
     "text": [
      "6\n",
      "ABACABADABACABAEABACABADABACABAFABACABADABACABAEABACABADABACABA"
     ]
    }
   ],
   "source": [
    "'''\n",
    "题目分析：\n",
    "\n",
    "if i % 2  == 0 : A\n",
    "if i % 4  == 1 : B\n",
    "if i % 8  == 3 : C\n",
    "if i % 16 == 7 : D\n",
    "\n",
    "'''\n",
    "\n",
    "N = int(input())\n",
    "\n",
    "str1 = 'ABCDEFGHIJKLMNOPQRSTUVWXYZ'\n",
    "list1 = [''for i in range(20000)]\n",
    "k = 1\n",
    "\n",
    "for j in range(26):\n",
    "    for i in range((2 ** N) - 1):\n",
    "        if(i % (2 ** k)) == (2 ** (k - 1) - 1):\n",
    "            list1[i] = str1[k-1]\n",
    "    k += 1\n",
    "\n",
    "for i in range(len(list1)):\n",
    "    print(list1[i], end = '')"
   ]
  },
  {
   "cell_type": "markdown",
   "metadata": {},
   "source": [
    "## 2.23 芯片测试"
   ]
  },
  {
   "cell_type": "markdown",
   "metadata": {},
   "source": [
    "有n（2≤n≤20）块芯片，有好有坏，已知好芯片比坏芯片多。\n",
    "\n",
    "每个芯片都能用来测试其他芯片。\n",
    "\n",
    "用好芯片测试其他芯片时，能正确给出被测试芯片是好还是坏。\n",
    "\n",
    "而用坏芯片测试其他芯片时，会随机给出好或是坏的测试结果（即此结果与被测试芯片实际的好坏无关）。\n",
    "\n",
    "给出所有芯片的测试结果，问哪些芯片是好芯片。\n",
    "\n",
    "输入数据第一行为一个整数n，表示芯片个数。\n",
    "\n",
    "第二行到第n+1行为n*n的一张表，每行n个数据。\n",
    "\n",
    "表中的每个数据为0或1，在这n行中的第i行第j列（1≤i, j≤n）的数据表示用第i块芯片测试第j块芯片时得到的测试结果，1表示好，0表示坏，i=j时一律为1（并不表示该芯片对本身的测试结果，芯片不能对本身进行测试）。\n",
    "\n",
    "按从小到大的顺序输出所有好芯片的编号"
   ]
  },
  {
   "cell_type": "code",
   "execution_count": 30,
   "metadata": {},
   "outputs": [
    {
     "name": "stdout",
     "output_type": "stream",
     "text": [
      "3\n",
      "1 0 1\n",
      "0 1 0\n",
      "1 1 1\n",
      "1 2 3 "
     ]
    }
   ],
   "source": [
    "n = int(input())\n",
    "\n",
    "list1 = [[0 for i in range(n)] for i in range(n)]\n",
    "list2 = []\n",
    "\n",
    "# 存入测试结果表\n",
    "for i in range(n):\n",
    "    list2 = input().split()\n",
    "    for j in range(n):\n",
    "        list1[i][j] = int(list2[j])\n",
    "\n",
    "# 判断芯片是否正常\n",
    "for j in range(n):\n",
    "    # 测试结果为好的次数标志\n",
    "    flag = 0\n",
    "    # 统计i号芯片测试j号芯片的结果\n",
    "    for i in range(n):\n",
    "        if list1[i][j] == 1:\n",
    "            flag += 1\n",
    "    if (flag - 1) >= ((n - 1) / 2):\n",
    "        print(j + 1, end = ' ')"
   ]
  },
  {
   "cell_type": "markdown",
   "metadata": {},
   "source": [
    "## 2.24 龟兔赛跑预测"
   ]
  },
  {
   "cell_type": "markdown",
   "metadata": {},
   "source": [
    "一旦任一秒结束后兔子发现自己领先t米或以上，它们就会停下来休息s秒。\n",
    "\n",
    "对于不同的兔子，t，s的数值是不同的，但是所有的乌龟却是一致——它们不到终点决不停止。\n",
    "\n",
    "兔子的速度v1（表示每秒兔子能跑v1米），乌龟的速度v2，以及兔子对应的t，s值，以及赛道的长度l——就能预测出比赛的结果。\n",
    "\n",
    "输入只有一行，包含用空格隔开的五个正整数v1，v2，t，s，l，其中(v1,v2<=100;t<=300;s<=10;l<=10000且为v1,v2的公倍数)\n",
    "\n",
    "输出包含两行，第一行输出比赛结果——一个大写字母“T”或“R”或“D”，分别表示乌龟获胜，兔子获胜，或者两者同时到达终点。\n",
    "\n",
    "第二行输出一个正整数，表示获胜者（或者双方同时）到达终点所耗费的时间（秒数）。"
   ]
  },
  {
   "cell_type": "code",
   "execution_count": 70,
   "metadata": {},
   "outputs": [
    {
     "name": "stdout",
     "output_type": "stream",
     "text": [
      "25 10 20 3 100\n",
      "R\n",
      "7\n"
     ]
    }
   ],
   "source": [
    "v1, v2, t, s, l = input().split()\n",
    "v1 = int(v1)\n",
    "v2 = int(v2)\n",
    "t = int(t)\n",
    "s = int(s)\n",
    "l = int(l)\n",
    "\n",
    "# t0 -- 比赛开始时间\n",
    "# t1 -- 兔子所用时间\n",
    "# t2 -- 乌龟所用时间\n",
    "# l1 -- 兔子跑过的路程\n",
    "# l2 -- 乌龟跑过的路程\n",
    "\n",
    "t1 = t2 = 0\n",
    "l1 = l2 = 0\n",
    "\n",
    "while(l1 < l):\n",
    "      \n",
    "    l1 = l1 + v1\n",
    "    l2 = l2 + v2\n",
    "    \n",
    "    if (l1 - l2) >= t and l1 != l:\n",
    "        t1 += 1\n",
    "        t2 += 1\n",
    "        l2 += v2 * s\n",
    "        t1 += s\n",
    "        t2 += s\n",
    "    else:\n",
    "        t1 += 1\n",
    "        t2 += 1\n",
    "\n",
    "t2 = l // v2\n",
    "\n",
    "if(t1 < t2):\n",
    "    print('R')\n",
    "    print(t1)\n",
    "elif(t1 > t2):\n",
    "    print('T')\n",
    "    print(t2)\n",
    "else:\n",
    "    print('D')\n",
    "    print(t1)"
   ]
  },
  {
   "cell_type": "code",
   "execution_count": null,
   "metadata": {},
   "outputs": [],
   "source": []
  }
 ],
 "metadata": {
  "kernelspec": {
   "display_name": "Python 3",
   "language": "python",
   "name": "python3"
  },
  "language_info": {
   "codemirror_mode": {
    "name": "ipython",
    "version": 3
   },
   "file_extension": ".py",
   "mimetype": "text/x-python",
   "name": "python",
   "nbconvert_exporter": "python",
   "pygments_lexer": "ipython3",
   "version": "3.7.6"
  }
 },
 "nbformat": 4,
 "nbformat_minor": 4
}
