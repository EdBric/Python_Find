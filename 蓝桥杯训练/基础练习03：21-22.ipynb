{
 "cells": [
  {
   "cell_type": "markdown",
   "metadata": {},
   "source": [
    "# 2 基础练习"
   ]
  },
  {
   "cell_type": "markdown",
   "metadata": {},
   "source": [
    "## 2.21 Sine之舞"
   ]
  },
  {
   "cell_type": "markdown",
   "metadata": {},
   "source": [
    "最近FJ为他的奶牛们开设了数学分析课，FJ知道若要学好这门课，必须有一个好的三角函数基本功。\n",
    "\n",
    "所以他准备和奶牛们做一个“Sine之舞”的游戏，寓教于乐，提高奶牛们的计算能力。\n",
    "\n",
    "不妨设\n",
    "An=sin(1–sin(2+sin(3–sin(4+...sin(n))...)\n",
    "\n",
    "Sn=(...(A1+n)A2+n-1)A3+...+2)An+1\n",
    "\n",
    "FJ想让奶牛们计算Sn的值，请你帮助FJ打印出Sn的完整表达式，以方便奶牛们做题。\n",
    "\n",
    "输入仅有一个数：N<201。\n",
    "\n",
    "请输出相应的表达式Sn，以一个换行符结束。\n",
    "\n",
    "输出中不得含有多余的空格或换行、回车符。"
   ]
  },
  {
   "cell_type": "code",
   "execution_count": 120,
   "metadata": {},
   "outputs": [
    {
     "name": "stdout",
     "output_type": "stream",
     "text": [
      "3\n",
      "((sin(1)+3)sin(1+sin(2))+2)sin(1-sin(2+sin(3)))+1\n"
     ]
    }
   ],
   "source": [
    "N = int(input())\n",
    "\n",
    "# An生成函数\n",
    "def An_creat(n):\n",
    "    An = ''\n",
    "    for i in range(n):\n",
    "        # 三目运算符\n",
    "        Fuhao = '-' if (-1) ** i > 0 else '+'\n",
    "        if i == 0:\n",
    "            An = 'sin' + '(' + str(n-i) + An + ')'\n",
    "        else:\n",
    "            An = 'sin' + '(' + str(n-i) + Fuhao + An + ')'\n",
    "\n",
    "    return An\n",
    "\n",
    "# Sn生成函数\n",
    "def Sn_creat(N):\n",
    "    Sn = ''\n",
    "    for j in range(N):\n",
    "        An = An_creat(j+1)\n",
    "        Sn = '(' + Sn + An + '+' + str(N-j) + ')'\n",
    "        \n",
    "    return Sn\n",
    "\n",
    "Sn = Sn_creat(N)\n",
    "\n",
    "# 截取掉首尾的()\n",
    "print(Sn[1:len(Sn)-1])"
   ]
  },
  {
   "cell_type": "markdown",
   "metadata": {},
   "source": [
    "## 2.22 FJ的字符串"
   ]
  },
  {
   "cell_type": "markdown",
   "metadata": {},
   "source": [
    "FJ在沙盘上写了这样一些字符串：\n",
    "\n",
    "A1 = “A”\n",
    "\n",
    "A2 = “ABA”\n",
    "\n",
    "A3 = “ABACABA”\n",
    "\n",
    "A4 = “ABACABADABACABA”\n",
    "\n",
    "… …\n",
    "\n",
    "你能找出其中的规律并写所有的数列AN吗？"
   ]
  },
  {
   "cell_type": "code",
   "execution_count": 171,
   "metadata": {},
   "outputs": [
    {
     "name": "stdout",
     "output_type": "stream",
     "text": [
      "10\n",
      "ABACABADABACABAEABACABADABACABAFABACABADABACABAEABACABADABACABAGABACABADABACABAEABACABADABACABAFABACABADABACABAEABACABADABACABAHABACABADABACABAEABACABADABACABAFABACABADABACABAEABACABADABACABAGABACABADABACABAEABACABADABACABAFABACABADABACABAEABACABADABACABAIABACABADABACABAEABACABADABACABAFABACABADABACABAEABACABADABACABAGABACABADABACABAEABACABADABACABAFABACABADABACABAEABACABADABACABAHABACABADABACABAEABACABADABACABAFABACABADABACABAEABACABADABACABAGABACABADABACABAEABACABADABACABAFABACABADABACABAEABACABADABACABAJABACABADABACABAEABACABADABACABAFABACABADABACABAEABACABADABACABAGABACABADABACABAEABACABADABACABAFABACABADABACABAEABACABADABACABAHABACABADABACABAEABACABADABACABAFABACABADABACABAEABACABADABACABAGABACABADABACABAEABACABADABACABAFABACABADABACABAEABACABADABACABAIABACABADABACABAEABACABADABACABAFABACABADABACABAEABACABADABACABAGABACABADABACABAEABACABADABACABAFABACABADABACABAEABACABADABACABAHABACABADABACABAEABACABADABACABAFABACABADABACABAEABACABADABACABAGABACABADABACABAEABACABADABACABAFABACABADABACABAEABACABADABACABA"
     ]
    }
   ],
   "source": [
    "'''\n",
    "题目分析：\n",
    "\n",
    "if i % 2  == 0 : A\n",
    "if i % 4  == 1 : B\n",
    "if i % 8  == 3 : C\n",
    "if i % 16 == 7 : D\n",
    "\n",
    "'''\n",
    "\n",
    "N = int(input())\n",
    "\n",
    "str1 = 'ABCDEFGHIJKLMNOPQRSTUVWXYZ'\n",
    "list1 = [''for i in range(20000)]\n",
    "k = 1\n",
    "\n",
    "for j in range(26):\n",
    "    for i in range((2 ** N) - 1):\n",
    "        if(i % (2 ** k)) == (2 ** (k - 1) - 1):\n",
    "            list1[i] = str1[k-1]\n",
    "    k += 1\n",
    "\n",
    "for i in range(len(list1)):\n",
    "    print(list1[i], end = '')"
   ]
  },
  {
   "cell_type": "code",
   "execution_count": null,
   "metadata": {},
   "outputs": [],
   "source": []
  }
 ],
 "metadata": {
  "kernelspec": {
   "display_name": "Python 3",
   "language": "python",
   "name": "python3"
  },
  "language_info": {
   "codemirror_mode": {
    "name": "ipython",
    "version": 3
   },
   "file_extension": ".py",
   "mimetype": "text/x-python",
   "name": "python",
   "nbconvert_exporter": "python",
   "pygments_lexer": "ipython3",
   "version": "3.7.6"
  }
 },
 "nbformat": 4,
 "nbformat_minor": 4
}
