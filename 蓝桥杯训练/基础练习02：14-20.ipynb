{
 "cells": [
  {
   "cell_type": "markdown",
   "metadata": {},
   "source": [
    "# 2 基础练习"
   ]
  },
  {
   "cell_type": "markdown",
   "metadata": {},
   "source": [
    "## 2.14 时间转化"
   ]
  },
  {
   "cell_type": "markdown",
   "metadata": {},
   "source": [
    "给定一个以秒为单位的时间t，要求用“H:M:S”的格式来表示这个时间。\n",
    "\n",
    "H表示时间，M表示分钟，而S表示秒，它们都是整数且没有前导的“0”。\n",
    "        \n",
    "例如，若t=0，则应输出是“0:0:0”；若t=3661，则输出“1:1:1”。\n",
    "\n",
    "输入只有一行，是一个整数t（0<=t<=86399）。\n",
    "\n",
    "输出只有一行，是以“H:M:S”的格式所表示的时间，不包括引号。"
   ]
  },
  {
   "cell_type": "code",
   "execution_count": 2,
   "metadata": {
    "collapsed": true
   },
   "outputs": [
    {
     "name": "stdout",
     "output_type": "stream",
     "text": [
      "0\n",
      "0:0:0\n"
     ]
    }
   ],
   "source": [
    "t = int(input())\n",
    "\n",
    "h = 0\n",
    "m = 0\n",
    "s = 0\n",
    "\n",
    "if t >= 3600:\n",
    "    h = int(t / 3600)\n",
    "    m = int((t % 3600) / 60)\n",
    "    s = int(t % 60)\n",
    "    \n",
    "else:\n",
    "    h = 0\n",
    "    m = int(t / 60)\n",
    "    s = int(t % 60)\n",
    "    \n",
    "print(f\"{h}:{m}:{s}\")"
   ]
  },
  {
   "cell_type": "markdown",
   "metadata": {},
   "source": [
    "## 2.15 字符串对比"
   ]
  },
  {
   "cell_type": "markdown",
   "metadata": {},
   "source": [
    "给定两个仅由大写字母或小写字母组成的字符串(长度介于1到10之间)，它们之间的关系是以下4中情况之一：\n",
    "\n",
    "1：两个字符串长度不等。比如 Beijing 和 Hebei\n",
    "\n",
    "2：两个字符串不仅长度相等，而且相应位置上的字符完全一致(区分大小写)，比如 Beijing 和 Beijing\n",
    "\n",
    "3：两个字符串长度相等，相应位置上的字符仅在不区分大小写的前提下才能达到完全一致（也就是说，它并不满足情况2）。比如 beijing 和 BEIjing\n",
    "\n",
    "4：两个字符串长度相等，但是即使是不区分大小写也不能使这两个字符串一致。比如 Beijing 和 Nanjing\n",
    "\n",
    "编程判断输入的两个字符串之间的关系属于这四类中的哪一类，给出所属的类的编号。\n",
    "\n",
    "包括两行，每行都是一个字符串\n",
    "\n",
    "仅有一个数字，表明这两个字符串的关系编号"
   ]
  },
  {
   "cell_type": "code",
   "execution_count": 7,
   "metadata": {
    "collapsed": true
   },
   "outputs": [
    {
     "name": "stdout",
     "output_type": "stream",
     "text": [
      "Beijing\n",
      "Nanjing\n",
      "4\n"
     ]
    }
   ],
   "source": [
    "str_a = input()\n",
    "str_b = input()\n",
    "\n",
    "if len(str_a) == len(str_b):\n",
    "    if str_a == str_b:\n",
    "        print('2')\n",
    "    elif str_a.upper() == str_b.upper():\n",
    "        print('3')\n",
    "    else:\n",
    "        print('4')\n",
    "else:\n",
    "    print('1')"
   ]
  },
  {
   "cell_type": "markdown",
   "metadata": {},
   "source": [
    "## 2.16 分解质因数"
   ]
  },
  {
   "cell_type": "markdown",
   "metadata": {},
   "source": [
    "求出区间 [a,b] 中所有整数的质因数分解。\n",
    "\n",
    "输入两个整数a，b。\n",
    "\n",
    "每行输出一个数的分解，形如k = a1 * a2 * a3...(a1<=a2<=a3...，k也是从小到大的)(具体可看样例)"
   ]
  },
  {
   "cell_type": "code",
   "execution_count": 49,
   "metadata": {
    "collapsed": true
   },
   "outputs": [
    {
     "name": "stdout",
     "output_type": "stream",
     "text": [
      "3 10\n",
      "3=3\n",
      "4=2*2\n",
      "5=5\n",
      "6=2*3\n",
      "7=7\n",
      "8=2*2*2\n",
      "9=3*3\n",
      "10=2*5\n"
     ]
    }
   ],
   "source": [
    "from math import sqrt\n",
    "\n",
    "a, b = input().split()\n",
    "a = int(a)\n",
    "b = int(b)\n",
    "\n",
    "# 判断是否为素数，素数不能进行质因数分解（质因数不包括1）\n",
    "'''\n",
    "def SuShu(num):\n",
    "    for i in range(2, num):\n",
    "        if num % i == 0:\n",
    "            return False # 不是素数\n",
    "        else:\n",
    "            return True # 素数\n",
    "'''\n",
    "# 效率提高方法\n",
    "def SuShu(num):\n",
    "    if num == 1:\n",
    "        return False # 不是素数\n",
    "    for i in range(2, int(sqrt(num))+1):\n",
    "        if num % i == 0:\n",
    "            return False # 不是素数\n",
    "    return True # 素数\n",
    "        \n",
    "# 分解质因数\n",
    "list1 = []\n",
    "def FenJie(num):\n",
    "    i = 2\n",
    "    while i <= num:\n",
    "        if num % i == 0:\n",
    "            list1.append(i)\n",
    "            num /= i\n",
    "        else:\n",
    "            i += 1\n",
    "\n",
    "\n",
    "            \n",
    "for i in range(a, b + 1):\n",
    "    list1 = []\n",
    "    if(SuShu(i) == False):\n",
    "        FenJie(i)\n",
    "        list1_str = \"*\".join('%s' % id for id in list1)\n",
    "        print(f'{i}={list1_str}')\n",
    "    else:\n",
    "        print(f'{i}={i}')"
   ]
  },
  {
   "cell_type": "markdown",
   "metadata": {},
   "source": [
    "## 2.17 矩阵乘法"
   ]
  },
  {
   "cell_type": "markdown",
   "metadata": {},
   "source": [
    "第一行是一个正整数N、M（1<=N<=30, 0<=M<=5），表示矩阵A的阶数和要求的幂数\n",
    "\n",
    "接下来N行，每行N个绝对值不超过10的非负整数，描述矩阵A的值\n",
    "\n",
    "输出共N行，每行N个整数，表示A的M次幂所对应的矩阵。相邻的数之间用一个空格隔开"
   ]
  },
  {
   "cell_type": "code",
   "execution_count": 93,
   "metadata": {
    "collapsed": true
   },
   "outputs": [
    {
     "name": "stdout",
     "output_type": "stream",
     "text": [
      "2 3\n",
      "1 2\n",
      "3 4\n",
      "37 54 \n",
      "81 118 \n"
     ]
    }
   ],
   "source": [
    "N, M = input().split()\n",
    "N = int(N)\n",
    "M = int(M)\n",
    "\n",
    "# 存放原始矩阵\n",
    "list1 = [[0 for i in range(30)] for i in range(30)]\n",
    "    \n",
    "# 存入矩阵\n",
    "for i in range(N):\n",
    "    list1_x = []\n",
    "    list1_x = input().split()\n",
    "    for j in range(N):\n",
    "        list1[i][j] = int(list1_x[j])\n",
    "\n",
    "# 存放结果矩阵\n",
    "list2 = [[0 for i in range(30)] for i in range(30)]\n",
    "\n",
    "for i in range(30):\n",
    "    list2[i][i] = 1\n",
    "    \n",
    "list3 = [[0 for i in range(30)] for i in range(30)]\n",
    "\n",
    "\n",
    "\n",
    "for i in range(M):\n",
    "    for list2_y in range(N):\n",
    "        for list2_x in range(N):\n",
    "            for list1_x in range(N):\n",
    "                list3[list2_y][list2_x] += list1[list2_y][list1_x] * list2[list1_x][list2_x]\n",
    "    list2 = list3.copy()\n",
    "    list3 = [[0 for i in range(30)] for i in range(30)]\n",
    "\n",
    "# 输出矩阵\n",
    "if(M > 1):\n",
    "    for i in range(N):\n",
    "        for j in range(N):\n",
    "            print(list2[i][j], end = ' ')\n",
    "        print()\n",
    "\n",
    "elif(M ==0):\n",
    "    for i in range(N):\n",
    "        for j in range(N):\n",
    "            if i == j:\n",
    "                print('1', end = ' ')\n",
    "            else:\n",
    "                print('0', end = ' ')\n",
    "        print()\n",
    "\n",
    "else:\n",
    "    for i in range(N):\n",
    "        for j in range(N):\n",
    "            print(list1[i][j], end = ' ')\n",
    "        print()\n"
   ]
  },
  {
   "cell_type": "markdown",
   "metadata": {},
   "source": [
    "> 列表加循环"
   ]
  },
  {
   "cell_type": "code",
   "execution_count": 98,
   "metadata": {
    "collapsed": true
   },
   "outputs": [
    {
     "name": "stdout",
     "output_type": "stream",
     "text": [
      "2 2\n",
      "1 2\n",
      "3 4\n",
      "7 10 \n",
      "15 22 \n"
     ]
    }
   ],
   "source": [
    "import numpy as np\n",
    "\n",
    "N, M = input().split()\n",
    "N = int(N)\n",
    "M = int(M)\n",
    "\n",
    "# 存放原始矩阵\n",
    "list1 = [[0 for i in range(30)] for i in range(30)]\n",
    "    \n",
    "# 存入矩阵\n",
    "for i in range(N):\n",
    "    list1_x = []\n",
    "    list1_x = input().split()\n",
    "    for j in range(N):\n",
    "        list1[i][j] = int(list1_x[j])\n",
    "        \n",
    "# 存放结果矩阵\n",
    "list2 = [[0 for i in range(30)] for i in range(30)]\n",
    "for i in range(30):\n",
    "    list2[i][i] = 1\n",
    "\n",
    "for i in range(M):\n",
    "    list2 = np.matmul(list2, list1)\n",
    "\n",
    "# print(np.array(list2))\n",
    "\n",
    "for i in range(N):\n",
    "    for j in range(N):\n",
    "        print(list2[i][j], end = ' ')\n",
    "    print()"
   ]
  },
  {
   "cell_type": "markdown",
   "metadata": {},
   "source": [
    "> numpy：蓝桥杯系统无法支持numpy"
   ]
  },
  {
   "cell_type": "markdown",
   "metadata": {},
   "source": [
    "## 2.18 矩形面积交"
   ]
  },
  {
   "cell_type": "markdown",
   "metadata": {},
   "source": [
    "平面上有两个矩形，它们的边平行于直角坐标系的X轴或Y轴。对于每个矩形，我们给出它的一对相对顶点的坐标，请你编程算出两个矩形的交的面积。\n",
    "\n",
    "输入仅包含两行，每行描述一个矩形。\n",
    "\n",
    "在每行中，给出矩形的一对相对顶点的坐标，每个点的坐标都用两个绝对值不超过10^7的实数表示。\n",
    "\n",
    "输出仅包含一个实数，为交的面积，保留到小数后两位。"
   ]
  },
  {
   "cell_type": "code",
   "execution_count": 110,
   "metadata": {
    "collapsed": true
   },
   "outputs": [
    {
     "name": "stdout",
     "output_type": "stream",
     "text": [
      "1 1 3 3\n",
      "2 2 4 4\n",
      "1.00\n"
     ]
    }
   ],
   "source": [
    "# 存放矩形1两个顶点坐标\n",
    "r1_lx, r1_ly, r1_rx, r1_ry = input().split()\n",
    "# 存放矩形2两个顶点坐标\n",
    "r2_lx, r2_ly, r2_rx, r2_ry = input().split()\n",
    "\n",
    "r1_lx = float(r1_lx)\n",
    "r1_ly = float(r1_ly)\n",
    "r1_rx = float(r1_rx)\n",
    "r1_ry = float(r1_ry)\n",
    "r2_lx = float(r2_lx)\n",
    "r2_ly = float(r2_ly)\n",
    "r2_rx = float(r2_rx)\n",
    "r2_ry = float(r2_ry)\n",
    "\n",
    "# 找出下面矩形的右上角坐标和上面矩形的左下角坐标\n",
    "min1X = min(r1_lx, r1_rx)\n",
    "max1X = max(r1_lx, r1_rx)\n",
    "min1Y = min(r1_ly, r1_ry)\n",
    "max1Y = max(r1_ly, r1_ry)\n",
    "\n",
    "min2X = min(r2_lx, r2_rx)\n",
    "max2X = max(r2_lx, r2_rx)\n",
    "min2Y = min(r2_ly, r2_ry)\n",
    "max2Y = max(r2_ly, r2_ry)\n",
    "    \n",
    "# 上面矩形左下角x轴坐标\n",
    "X1 = max(min1X,min2X)\n",
    "# 下面矩形右上角x轴坐标\n",
    "X2 = min(max1X,max2X)\n",
    "# 上面矩形左下角y轴坐标\n",
    "Y1 = max(min1Y,min2Y)\n",
    "# 下面矩形右上角y轴坐标\n",
    "Y2 = min(max1Y,max2Y)\n",
    "\n",
    "# 判断两矩形是否相交\n",
    "if ((X2 - X1) < 0) or ((Y2 - Y1) < 0):\n",
    "    Area = 0\n",
    "    print('%.2f' % Area)\n",
    "else:\n",
    "    Area = abs(Y2 - Y1) * abs(X2 - X1)\n",
    "    print('%.2f' % Area) "
   ]
  },
  {
   "cell_type": "markdown",
   "metadata": {},
   "source": [
    "## 2.19 完美的代价( * ) "
   ]
  },
  {
   "cell_type": "markdown",
   "metadata": {},
   "source": [
    "现在给你一个串，它不一定是回文的，请你计算最少的交换次数使得该串变成一个完美的回文串。\n",
    "\n",
    "只能进行相邻交换。\n",
    "\n",
    "第一行是一个整数N，表示接下来的字符串的长度(N <= 8000)\n",
    "\n",
    "第二行是一个字符串，长度为N.只包含小写字母\n",
    "\n",
    "如果可能，输出最少的交换次数。\n",
    "\n",
    "否则输出Impossible"
   ]
  },
  {
   "cell_type": "code",
   "execution_count": 4,
   "metadata": {
    "collapsed": true
   },
   "outputs": [
    {
     "name": "stdout",
     "output_type": "stream",
     "text": [
      "10\n",
      "abbbbbbbab\n",
      "1\n"
     ]
    }
   ],
   "source": [
    "class Perfect(object):#定义一个类\n",
    "    def main(self):#定义主函数\n",
    "        N=int(input())\n",
    "        str1=input().strip()\n",
    "        if self.Judge(N,str1):#通过判断函数是否可以变成一个完美回文串\n",
    "            result=self.Operation(N,str1)\n",
    "            print(result)\n",
    "        else:#如果不能,输出Impossible\n",
    "            print('Impossible')\n",
    "    def Judge(self,N,Str):#判断函数,判断是否可变成完美回文串\n",
    "        Str_P='abcdefghijklmnopqrstuvwxyz'\n",
    "        if N%2==0:\n",
    "            for S in Str_P:\n",
    "                if Str.count(S)%2==1:\n",
    "                    return False\n",
    "            return True\n",
    "        else:\n",
    "            num=0\n",
    "            for S in Str_P:\n",
    "                if Str.count(S)%2==1:\n",
    "                    num=num+1\n",
    "                    if num==2:\n",
    "                        return False\n",
    "            return True\n",
    "    def Operation(self,N,Str):#如果可变,返回需要多少步.\n",
    "        count=0\n",
    "        lst=list(Str)\n",
    "        for i in range(N//2):\n",
    "            if lst.count(lst[0])!=1:#首字母有匹配字母    \n",
    "                step=lst[::-1].index(lst[0])#反向从字符串中查询\n",
    "                lst.pop(0)#弹出相同的一对字母\n",
    "                lst.pop(-(step+1))\n",
    "                count=count+step\n",
    "            else:#首字母无匹配字母，直接交换至中间 \n",
    "                step=len(lst)//2\n",
    "                lst.pop(0)\n",
    "                count=count+step\n",
    "        return count\n",
    "perfect=Perfect()\n",
    "perfect.main()\n"
   ]
  },
  {
   "cell_type": "code",
   "execution_count": 5,
   "metadata": {
    "collapsed": true
   },
   "outputs": [
    {
     "name": "stdout",
     "output_type": "stream",
     "text": [
      "10\n",
      "abbbbbbbab\n",
      "1\n"
     ]
    }
   ],
   "source": [
    "# 输入字符串\n",
    "N = int(input())\n",
    "str1 = input()\n",
    "\n",
    "# 判断能否组成回文串\n",
    "def judge(N, str1):\n",
    "    str2 = 'abcdefghijklmnopqrstuvwxyz'\n",
    "    if N % 2 == 0:\n",
    "        for i in str2:\n",
    "            if str1.count(i) % 2 == 1:\n",
    "                return False\n",
    "        return True\n",
    "    else:\n",
    "        num = 0\n",
    "        for i in str2:\n",
    "            if str1.count(i) % 2 == 1:\n",
    "                num += 1\n",
    "                if num == 2:\n",
    "                    return False\n",
    "        return True            \n",
    "\n",
    "# 计算交换次数\n",
    "def Operation(N, str1):\n",
    "    count = 0\n",
    "    str1_list = list(str1)\n",
    "    \n",
    "    for i in range(N // 2):\n",
    "        if str1_list.count(str1_list[0]) != 1:\n",
    "            step = str1_list[::-1].index(str1_list[0])\n",
    "            str1_list.pop(0)\n",
    "            str1_list.pop(-(step + 1))\n",
    "            count += step\n",
    "            \n",
    "        else:\n",
    "            step = len(str1_list) // 2\n",
    "            str1_list.pop(0)\n",
    "            count += step\n",
    "            \n",
    "    return count\n",
    "\n",
    "if judge(N, str1):\n",
    "    result = Operation(N, str1)\n",
    "    print(result)\n",
    "    \n",
    "else:\n",
    "    print('Impossible')"
   ]
  },
  {
   "cell_type": "markdown",
   "metadata": {},
   "source": [
    "> 贪心算法：容易陷入局部最优解，需要在确定可用的情形下才可使用。"
   ]
  },
  {
   "cell_type": "markdown",
   "metadata": {},
   "source": [
    "## 2.20 数的读法( * )"
   ]
  },
  {
   "cell_type": "markdown",
   "metadata": {},
   "source": [
    "输入有一个数字串，数值大小不超过2,000,000,000。\n",
    "\n",
    "输出是一个由小写英文字母，逗号和空格组成的字符串，表示该数的英文读法。"
   ]
  },
  {
   "cell_type": "code",
   "execution_count": 58,
   "metadata": {},
   "outputs": [
    {
     "name": "stdout",
     "output_type": "stream",
     "text": [
      "0\n",
      "ling\n",
      " "
     ]
    }
   ],
   "source": [
    "n = int(input())\n",
    "a = ['ling','yi','er','san','si','wu','liu','qi','ba','jiu']\n",
    "b = ['shi','bai','qian','wan','yi']\n",
    "res = ['' for i in range(20)]\n",
    "i,j=0,0\n",
    "\n",
    "# 大阶段单位标志\n",
    "l=[0,0]\n",
    "\n",
    "if n == 0:\n",
    "    print('ling')\n",
    "\n",
    "while n:\n",
    "    k,n=n%10,int(n/10)\n",
    "    if k:\n",
    "        # 插入大阶段单位“万”、“亿”\n",
    "        if i>=4 and l[int(i/4)-1]==0:\n",
    "            l[int(i/4)-1]=1\n",
    "            res[j],j=b[int(i/4)+2],j+1\n",
    "        \n",
    "        # 插入小阶段单位\n",
    "        if i%4:\n",
    "            res[j],j=b[int(i%4)-1],j+1\n",
    "        \n",
    "        # 从低到高按位翻译数字\n",
    "        res[j]=a[k]\n",
    "        \n",
    "        # 最终读法存储列表标志移动，实现按位存储\n",
    "        j=j+1\n",
    "    \n",
    "    # 出现多个零时只输出一个“ling”，若零在最低位，则无需输出\n",
    "    elif j>0 and res[j-1]!=a[0]:\n",
    "        res[j],j=a[0],j+1\n",
    "        \n",
    "    # 位数标志，表明当前操作的位数\n",
    "    i=i+1\n",
    "\n",
    "# 十亿、十万的特殊读法\n",
    "if res[j-1]!='yi' or j<=1 or res[j-2]!='shi':\n",
    "    print(res[j-1],end=' ')\n",
    "\n",
    "# 从高到低按位输出读法    \n",
    "for i in range(j-2,-1,-1):\n",
    "    print(res[i],end=' ')"
   ]
  }
 ],
 "metadata": {
  "kernelspec": {
   "display_name": "Python 3",
   "language": "python",
   "name": "python3"
  },
  "language_info": {
   "codemirror_mode": {
    "name": "ipython",
    "version": 3
   },
   "file_extension": ".py",
   "mimetype": "text/x-python",
   "name": "python",
   "nbconvert_exporter": "python",
   "pygments_lexer": "ipython3",
   "version": "3.7.6"
  }
 },
 "nbformat": 4,
 "nbformat_minor": 4
}
