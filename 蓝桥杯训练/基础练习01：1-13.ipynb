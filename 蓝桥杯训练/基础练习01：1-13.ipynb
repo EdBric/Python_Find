{
 "cells": [
  {
   "cell_type": "markdown",
   "metadata": {},
   "source": [
    "# 2 基础练习"
   ]
  },
  {
   "cell_type": "markdown",
   "metadata": {},
   "source": [
    "## 2.1 闰年判断"
   ]
  },
  {
   "cell_type": "markdown",
   "metadata": {},
   "source": [
    "给定一个年份，判断这一年是不是闰年。\n",
    "\n",
    "当以下情况之一满足时，这一年是闰年：\n",
    "\n",
    "1.年份是4的倍数而不是100的倍数；\n",
    "\n",
    "2.年份是400的倍数。\n",
    "\n",
    "其他的年份都不是闰年。\n",
    "\n",
    "输入包含一个整数y，表示当前的年份。\n",
    "\n",
    "输出一行，如果给定的年份是闰年，则输出yes，否则输出no。"
   ]
  },
  {
   "cell_type": "code",
   "execution_count": 9,
   "metadata": {},
   "outputs": [
    {
     "name": "stdout",
     "output_type": "stream",
     "text": [
      "2016\n",
      "yes\n"
     ]
    }
   ],
   "source": [
    "year = int(input())\n",
    "\n",
    "if((year % 4) == 0) and ((year % 100) != 0):\n",
    "    \n",
    "    print(\"yes\")\n",
    "\n",
    "elif((year % 400) == 0):\n",
    "    print(\"yes\")\n",
    "    \n",
    "else:\n",
    "    print(\"no\")"
   ]
  },
  {
   "cell_type": "markdown",
   "metadata": {},
   "source": [
    "## 2.2 01字串"
   ]
  },
  {
   "cell_type": "markdown",
   "metadata": {},
   "source": [
    "对于长度为5位的一个01串，每一位都可能是0或1，一共有32种可能。它们的前几个是：\n",
    "\n",
    "00000\n",
    "\n",
    "00001\n",
    "\n",
    "00010\n",
    "\n",
    "00011\n",
    "\n",
    "00100\n",
    "\n",
    "请按从小到大的顺序输出这32种01串。\n",
    "\n",
    "本试题没有输入。\n",
    "\n",
    "输出32行，按从小到大的顺序每行一个长度为5的01串。"
   ]
  },
  {
   "cell_type": "code",
   "execution_count": 35,
   "metadata": {
    "collapsed": true
   },
   "outputs": [
    {
     "name": "stdout",
     "output_type": "stream",
     "text": [
      "00000\n",
      "00001\n",
      "00010\n",
      "00011\n",
      "00100\n",
      "00101\n",
      "00110\n",
      "00111\n",
      "01000\n",
      "01001\n",
      "01010\n",
      "01011\n",
      "01100\n",
      "01101\n",
      "01110\n",
      "01111\n",
      "10000\n",
      "10001\n",
      "10010\n",
      "10011\n",
      "10100\n",
      "10101\n",
      "10110\n",
      "10111\n",
      "11000\n",
      "11001\n",
      "11010\n",
      "11011\n",
      "11100\n",
      "11101\n",
      "11110\n",
      "11111\n"
     ]
    }
   ],
   "source": [
    "x = 0\n",
    "\n",
    "while(x < 32):\n",
    "    print(bin(x)[2:7].zfill(5))\n",
    "    x += 1"
   ]
  },
  {
   "cell_type": "markdown",
   "metadata": {},
   "source": [
    "> 二进制法"
   ]
  },
  {
   "cell_type": "markdown",
   "metadata": {},
   "source": [
    "> 五层嵌套和暴力法太麻烦，此处不展开"
   ]
  },
  {
   "cell_type": "markdown",
   "metadata": {},
   "source": [
    "## 2.3 字母图形"
   ]
  },
  {
   "cell_type": "markdown",
   "metadata": {},
   "source": [
    "利用字母可以组成一些美丽的图形，下面给出了一个例子：\n",
    "\n",
    "ABCDEFG\n",
    "\n",
    "BABCDEF\n",
    "\n",
    "CBABCDE\n",
    "\n",
    "DCBABCD\n",
    "\n",
    "EDCBABC\n",
    "\n",
    "这是一个5行7列的图形，请找出这个图形的规律，并输出一个n行m列的图形。\n",
    "\n",
    "输入一行，包含两个整数n和m，分别表示你要输出的图形的行数的列数。\n",
    "\n",
    "输出n行，每个m个字符，为你的图形。"
   ]
  },
  {
   "cell_type": "code",
   "execution_count": 74,
   "metadata": {
    "collapsed": true
   },
   "outputs": [
    {
     "name": "stdout",
     "output_type": "stream",
     "text": [
      "5 7\n",
      "ABCDEFG\n",
      "BABCDEF\n",
      "CBABCDE\n",
      "DCBABCD\n",
      "EDCBABC\n"
     ]
    }
   ],
   "source": [
    "n, m = input().split(' ')\n",
    "\n",
    "n = int(n)\n",
    "m = int(m)\n",
    "\n",
    "for i in range(n):\n",
    "    asc = 65 + i\n",
    "    flag = 0\n",
    "    for j in range(m):\n",
    "        print(chr(asc), end = '')\n",
    "        \n",
    "        if(asc > 65 and flag != 1):\n",
    "            asc -= 1\n",
    "        else:\n",
    "            asc += 1\n",
    "            flag = 1\n",
    "    print()"
   ]
  },
  {
   "cell_type": "markdown",
   "metadata": {},
   "source": [
    "> print(ord(\"A\")) # 字符串转ascii码\n",
    "\n",
    "> print(chr(65)) # ascii码转字符串"
   ]
  },
  {
   "cell_type": "markdown",
   "metadata": {},
   "source": [
    "## 2.4 数列特征"
   ]
  },
  {
   "cell_type": "markdown",
   "metadata": {},
   "source": [
    "给出n个数，找出这n个数的最大值，最小值，和。\n",
    "\n",
    "第一行为整数n，表示数的个数。\n",
    "\n",
    "第二行有n个数，为给定的n个数，每个数的绝对值都小于10000。\n",
    "\n",
    "输出三行，每行一个整数。第一行表示这些数中的最大值，第二行表示这些数中的最小值，第三行表示这些数的和。"
   ]
  },
  {
   "cell_type": "code",
   "execution_count": 94,
   "metadata": {
    "collapsed": true
   },
   "outputs": [
    {
     "name": "stdout",
     "output_type": "stream",
     "text": [
      "5\n",
      "1 3 -2 4 5\n",
      "5\n",
      "-2\n",
      "11\n"
     ]
    }
   ],
   "source": [
    "n = int(input())\n",
    "\n",
    "num_list1 = []\n",
    "num_list1 = input().split()\n",
    "\n",
    "num_list2 = []\n",
    "\n",
    "i = 0\n",
    "\n",
    "while i < n:\n",
    "    num_list2.append(num_list1[i])\n",
    "    i += 1\n",
    "    \n",
    "# 列表数据类型转换\n",
    "num_list2 = list(map(int, num_list2))\n",
    "\n",
    "print(max(num_list2))\n",
    "print(min(num_list2))\n",
    "print(sum(num_list2))"
   ]
  },
  {
   "cell_type": "markdown",
   "metadata": {},
   "source": [
    "## 2.5 查找整数"
   ]
  },
  {
   "cell_type": "markdown",
   "metadata": {},
   "source": [
    "给出一个包含n个整数的数列，问整数a在数列中的第一次出现是第几个。\n",
    "\n",
    "第一行包含一个整数n。\n",
    "\n",
    "第二行包含n个非负整数，为给定的数列，数列中的每个数都不大于10000。\n",
    "\n",
    "第三行包含一个整数a，为待查找的数。\n",
    "\n",
    "如果a在数列中出现了，输出它第一次出现的位置(位置从1开始编号)，否则输出-1。"
   ]
  },
  {
   "cell_type": "code",
   "execution_count": 100,
   "metadata": {
    "collapsed": true
   },
   "outputs": [
    {
     "name": "stdout",
     "output_type": "stream",
     "text": [
      "6\n",
      "1 9 4 8 3 9\n",
      "9\n",
      "2\n"
     ]
    }
   ],
   "source": [
    "n = int(input())\n",
    "\n",
    "list1 = []\n",
    "list1 = input().split()\n",
    "\n",
    "a = int(input())\n",
    "\n",
    "list2 = []\n",
    "\n",
    "i = 0\n",
    "\n",
    "while i < n:\n",
    "    list2.append(list1[i])\n",
    "    i += 1\n",
    "    \n",
    "list2 = list(map(int, list2))\n",
    "\n",
    "if a in list2:\n",
    "    print(list2.index(a) + 1)\n",
    "    \n",
    "else:\n",
    "    print(\"-1\")"
   ]
  },
  {
   "cell_type": "markdown",
   "metadata": {},
   "source": [
    "## 2.6 杨辉三角形"
   ]
  },
  {
   "cell_type": "markdown",
   "metadata": {},
   "source": [
    "杨辉三角形又称Pascal三角形，它的第i+1行是(a+b)i的展开式的系数。\n",
    "\n",
    "它的一个重要性质是：三角形中的每个数字等于它两肩上的数字相加。\n",
    "\n",
    "下面给出了杨辉三角形的前4行：\n",
    "\n",
    "1\n",
    "\n",
    "1 1\n",
    "\n",
    "1 2 1\n",
    "\n",
    "1 3 3 1\n",
    "\n",
    "给出n，输出它的前n行。\n",
    "\n",
    "输入包含一个数n。\n",
    "\n",
    "输出杨辉三角形的前n行。\n",
    "\n",
    "每一行从这一行的第一个数开始依次输出，中间使用一个空格分隔。\n",
    "\n",
    "请不要在前面输出多余的空格。"
   ]
  },
  {
   "cell_type": "code",
   "execution_count": 124,
   "metadata": {
    "collapsed": true
   },
   "outputs": [
    {
     "name": "stdout",
     "output_type": "stream",
     "text": [
      "10\n",
      "1 \n",
      "1 1 \n",
      "1 2 1 \n",
      "1 3 3 1 \n",
      "1 4 6 4 1 \n",
      "1 5 10 10 5 1 \n",
      "1 6 15 20 15 6 1 \n",
      "1 7 21 35 35 21 7 1 \n",
      "1 8 28 56 70 56 28 8 1 \n",
      "1 9 36 84 126 126 84 36 9 1 \n"
     ]
    }
   ],
   "source": [
    "# 利用生成器生成数组\n",
    "\n",
    "list1 = [[0 for i in range(34)] for j in range(34)]\n",
    "\n",
    "list1[0][0] = 1 \n",
    "list1[1][0] = 1 \n",
    "list1[1][1] = 1 \n",
    "\n",
    "\n",
    "n = int(input())\n",
    "\n",
    "for i in range(n):\n",
    "    for j in range(i + 1):\n",
    "        if (j == 0) or (j == i):\n",
    "            list1[i][j] = 1\n",
    "        \n",
    "        else:\n",
    "            list1[i][j] = list1[i - 1][j - 1] + list1[i - 1][j]\n",
    "\n",
    "for i in range(n):\n",
    "    for j in range(i + 1):\n",
    "        print(list1[i][j], end = \" \")\n",
    "        \n",
    "    print()\n"
   ]
  },
  {
   "cell_type": "markdown",
   "metadata": {},
   "source": [
    "## 2.7 特殊的数字"
   ]
  },
  {
   "cell_type": "markdown",
   "metadata": {},
   "source": [
    "153是一个非常特殊的数，它等于它的每位数字的立方和，即153 = 1 * 1 * 1 + 5 * 5 * 5 + 3 * 3 * 3。\n",
    "\n",
    "编程求所有满足这种条件的三位十进制数。\n",
    "\n",
    "按从小到大的顺序输出满足条件的三位十进制数，每个数占一行。"
   ]
  },
  {
   "cell_type": "code",
   "execution_count": 125,
   "metadata": {
    "collapsed": true
   },
   "outputs": [
    {
     "name": "stdout",
     "output_type": "stream",
     "text": [
      "153\n",
      "370\n",
      "371\n",
      "407\n"
     ]
    }
   ],
   "source": [
    "i = 100\n",
    "\n",
    "while(i < 1000):\n",
    "    num_i = i\n",
    "    str_i = str(i)\n",
    "    \n",
    "    if(num_i == (int(str_i[0]) ** 3 + int(str_i[1]) ** 3 + int(str_i[2]) ** 3)):\n",
    "        print(num_i)\n",
    "    \n",
    "    i += 1"
   ]
  },
  {
   "cell_type": "markdown",
   "metadata": {},
   "source": [
    "## 2.8 回文数"
   ]
  },
  {
   "cell_type": "markdown",
   "metadata": {},
   "source": [
    "1221是一个非常特殊的数，它从左边读和从右边读是一样的，编程求所有这样的四位十进制数。\n",
    "\n",
    "按从小到大的顺序输出满足条件的四位十进制数。"
   ]
  },
  {
   "cell_type": "code",
   "execution_count": 129,
   "metadata": {
    "collapsed": true
   },
   "outputs": [
    {
     "name": "stdout",
     "output_type": "stream",
     "text": [
      "1001\n",
      "1111\n",
      "1221\n",
      "1331\n",
      "1441\n",
      "1551\n",
      "1661\n",
      "1771\n",
      "1881\n",
      "1991\n",
      "2002\n",
      "2112\n",
      "2222\n",
      "2332\n",
      "2442\n",
      "2552\n",
      "2662\n",
      "2772\n",
      "2882\n",
      "2992\n",
      "3003\n",
      "3113\n",
      "3223\n",
      "3333\n",
      "3443\n",
      "3553\n",
      "3663\n",
      "3773\n",
      "3883\n",
      "3993\n",
      "4004\n",
      "4114\n",
      "4224\n",
      "4334\n",
      "4444\n",
      "4554\n",
      "4664\n",
      "4774\n",
      "4884\n",
      "4994\n",
      "5005\n",
      "5115\n",
      "5225\n",
      "5335\n",
      "5445\n",
      "5555\n",
      "5665\n",
      "5775\n",
      "5885\n",
      "5995\n",
      "6006\n",
      "6116\n",
      "6226\n",
      "6336\n",
      "6446\n",
      "6556\n",
      "6666\n",
      "6776\n",
      "6886\n",
      "6996\n",
      "7007\n",
      "7117\n",
      "7227\n",
      "7337\n",
      "7447\n",
      "7557\n",
      "7667\n",
      "7777\n",
      "7887\n",
      "7997\n",
      "8008\n",
      "8118\n",
      "8228\n",
      "8338\n",
      "8448\n",
      "8558\n",
      "8668\n",
      "8778\n",
      "8888\n",
      "8998\n",
      "9009\n",
      "9119\n",
      "9229\n",
      "9339\n",
      "9449\n",
      "9559\n",
      "9669\n",
      "9779\n",
      "9889\n",
      "9999\n"
     ]
    }
   ],
   "source": [
    "i = 1000\n",
    "\n",
    "while(i < 10000):\n",
    "    str_i = str(i)\n",
    "    \n",
    "    if((str_i[0] == str_i[3]) and (str_i[1] == str_i[2])):\n",
    "        print(str_i)\n",
    "    \n",
    "    i += 1"
   ]
  },
  {
   "cell_type": "markdown",
   "metadata": {},
   "source": [
    "## 2.9 特殊回文数"
   ]
  },
  {
   "cell_type": "markdown",
   "metadata": {},
   "source": [
    "123321是一个非常特殊的数，它从左边读和从右边读是一样的。\n",
    "\n",
    "输入一个正整数n，编程求所有这样的五位和六位十进制数，满足各位数字之和等于n。"
   ]
  },
  {
   "cell_type": "code",
   "execution_count": 137,
   "metadata": {
    "collapsed": true
   },
   "outputs": [
    {
     "name": "stdout",
     "output_type": "stream",
     "text": [
      "45\n",
      "99999\n"
     ]
    }
   ],
   "source": [
    "i = 10000\n",
    "\n",
    "str_sum = int(input())\n",
    "\n",
    "while(i < 1000000):\n",
    "    str_i = str(i)\n",
    "    \n",
    "    # 找出五位回文数\n",
    "    if((i < 100000) and ((str_i[0] == str_i[4]) and (str_i[1] == str_i[3]))):\n",
    "        # 找出五位回文数中满足条件的数\n",
    "        if (int(str_i[0])+int(str_i[1])+int(str_i[2])+int(str_i[3])+int(str_i[4])) == str_sum:\n",
    "            print(str_i)\n",
    "            \n",
    "    # 找出六位回文数\n",
    "    elif((i >= 100000) and ((str_i[0] == str_i[5]) and (str_i[1] == str_i[4]) and (str_i[2] == str_i[3]))):\n",
    "        # 找出六位回文数中满足条件的数\n",
    "        if (int(str_i[0])+int(str_i[1])+int(str_i[2])+int(str_i[3])+int(str_i[4])+int(str_i[5])) == str_sum:\n",
    "            print(str_i)\n",
    "    \n",
    "    i += 1"
   ]
  },
  {
   "cell_type": "markdown",
   "metadata": {},
   "source": [
    "## 2.10 十进制转十六进制"
   ]
  },
  {
   "cell_type": "markdown",
   "metadata": {},
   "source": [
    "十六进制数是在程序设计时经常要使用到的一种整数的表示方式。\n",
    "\n",
    "它有0,1,2,3,4,5,6,7,8,9,A,B,C,D,E,F共16个符号，分别表示十进制数的0至15。\n",
    "\n",
    "十六进制的计数方法是满16进1，所以十进制数16在十六进制中是10，而十进制的17在十六进制中是11，以此类推，十进制的30在十六进制中是1E。\n",
    "\n",
    "给出一个非负整数，将它表示成十六进制的形式。"
   ]
  },
  {
   "cell_type": "code",
   "execution_count": 169,
   "metadata": {
    "collapsed": true
   },
   "outputs": [
    {
     "name": "stdout",
     "output_type": "stream",
     "text": [
      "999999\n",
      "F423F\n"
     ]
    }
   ],
   "source": [
    "n = int(input())\n",
    "\n",
    "n_str = str(hex(n))\n",
    "\n",
    "# 将所有小写字母转换成大写字母\n",
    "n_str = n_str.upper()\n",
    "\n",
    "print(n_str[2:])"
   ]
  },
  {
   "cell_type": "markdown",
   "metadata": {},
   "source": [
    "> 调用功能函数"
   ]
  },
  {
   "cell_type": "code",
   "execution_count": 170,
   "metadata": {
    "collapsed": true
   },
   "outputs": [
    {
     "name": "stdout",
     "output_type": "stream",
     "text": [
      "9999\n",
      "270F"
     ]
    }
   ],
   "source": [
    "n = int(input())\n",
    "\n",
    "list1 = [0 for i in range(1000)]\n",
    "i = 0\n",
    "\n",
    "if(n == 0):\n",
    "    print(\"0\")\n",
    "\n",
    "while(n):\n",
    "    list1[i] = n % 16\n",
    "    n = int(n / 16)\n",
    "    i += 1\n",
    "    \n",
    "i -= 1\n",
    "\n",
    "while(i >= 0):\n",
    "    \n",
    "    if(list1[i] == 10):\n",
    "        list1[i] = 'A'\n",
    "    elif(list1[i] == 11):\n",
    "        list1[i] = 'B'\n",
    "    elif(list1[i] == 12):\n",
    "        list1[i] = 'C' \n",
    "    elif(list1[i] == 13):\n",
    "        list1[i] = 'D'\n",
    "    elif(list1[i] == 14):\n",
    "        list1[i] = 'E'\n",
    "    elif(list1[i] == 15):\n",
    "        list1[i] = 'F'\n",
    "        \n",
    "    print(list1[i], end = '')\n",
    "    i -= 1"
   ]
  },
  {
   "cell_type": "markdown",
   "metadata": {},
   "source": [
    "> 数学法"
   ]
  },
  {
   "cell_type": "markdown",
   "metadata": {},
   "source": [
    "## 2.11 十六进制转十进制"
   ]
  },
  {
   "cell_type": "markdown",
   "metadata": {},
   "source": [
    "从键盘输入一个不超过8位的正的十六进制数字符串，将它转换为正的十进制数后输出。\n",
    "\n",
    "注：十六进制数中的10~15分别用大写的英文字母A、B、C、D、E、F表示。"
   ]
  },
  {
   "cell_type": "code",
   "execution_count": 198,
   "metadata": {
    "collapsed": true
   },
   "outputs": [
    {
     "name": "stdout",
     "output_type": "stream",
     "text": [
      "ABCDEF\n",
      "11259375\n"
     ]
    }
   ],
   "source": [
    "# 用列表存放十六进制数\n",
    "list1 = list(input())\n",
    "\n",
    "i = len(list1) - 1\n",
    "\n",
    "j = 0\n",
    "\n",
    "dec1 = 0\n",
    "\n",
    "while(i >= 0):\n",
    "    \n",
    "    if(list1[j] == 'A'):\n",
    "        list1[j] = '10'\n",
    "    elif(list1[j] == 'B'):\n",
    "        list1[j] = '11'\n",
    "    elif(list1[j] == 'C'):\n",
    "        list1[j] = '12' \n",
    "    elif(list1[j] == 'D'):\n",
    "        list1[j] = '13'\n",
    "    elif(list1[j] == 'E'):\n",
    "        list1[j] = '14'\n",
    "    elif(list1[j] == 'F'):\n",
    "        list1[j] = '15'\n",
    "    \n",
    "    dec1 += (int(list1[j]) * (16 ** i))\n",
    "    j += 1\n",
    "    i -= 1\n",
    "    \n",
    "print(dec1)"
   ]
  },
  {
   "cell_type": "markdown",
   "metadata": {},
   "source": [
    "## 2.12 十六进制转八进制"
   ]
  },
  {
   "cell_type": "markdown",
   "metadata": {},
   "source": [
    "给定n个十六进制正整数，输出它们对应的八进制数。\n",
    "\n",
    "输入的第一行为一个正整数n （1<=n<=10）。\n",
    "\n",
    "接下来n行，每行一个由0-9、大写字母A-F组成的字符串，表示要转换的十六进制正整数，每个十六进制数长度不超过100000。\n",
    "\n",
    "输出n行，每行为输入对应的八进制正整数。"
   ]
  },
  {
   "cell_type": "code",
   "execution_count": 238,
   "metadata": {
    "collapsed": true
   },
   "outputs": [
    {
     "name": "stdout",
     "output_type": "stream",
     "text": [
      "2\n",
      "39\n",
      "123ABC\n",
      "71\n",
      "4435274\n"
     ]
    }
   ],
   "source": [
    "# 十六进制转十进制\n",
    "def hex_to_dec(hex_str):\n",
    "    list1 = list(hex_str)\n",
    "    \n",
    "    i = len(list1) - 1\n",
    "    j = 0\n",
    "    dec = 0\n",
    "\n",
    "    while(i >= 0):\n",
    "    \n",
    "        if(list1[j] == 'A'):\n",
    "            list1[j] = '10'\n",
    "        elif(list1[j] == 'B'):\n",
    "            list1[j] = '11'\n",
    "        elif(list1[j] == 'C'):\n",
    "            list1[j] = '12' \n",
    "        elif(list1[j] == 'D'):\n",
    "            list1[j] = '13'\n",
    "        elif(list1[j] == 'E'):\n",
    "            list1[j] = '14'\n",
    "        elif(list1[j] == 'F'):\n",
    "            list1[j] = '15'\n",
    "    \n",
    "        dec += (int(list1[j]) * (16 ** i))\n",
    "        j += 1\n",
    "        i -= 1\n",
    "    \n",
    "    return dec\n",
    "\n",
    "# 将n个十六进制数存入列表list3\n",
    "n = int(input())\n",
    "k = 0\n",
    "\n",
    "list2 = []\n",
    "list3 = []\n",
    "\n",
    "while k < n:\n",
    "    list2 = input()\n",
    "    list3.append(list2)\n",
    "    k += 1\n",
    "    \n",
    "# 调用函数进行转换\n",
    "g = 0\n",
    "while(g < len(list3)):\n",
    "    # 从列表list3中提取字符串，传入转换函数转换成十进制，再调用\n",
    "    # 系统本身函数转成八进制，再转成字符串剔去前面的0o\n",
    "    print(str(oct(hex_to_dec(list3[g])))[2:])\n",
    "    g += 1"
   ]
  },
  {
   "cell_type": "markdown",
   "metadata": {},
   "source": [
    "> 运行超时"
   ]
  },
  {
   "cell_type": "code",
   "execution_count": 242,
   "metadata": {
    "collapsed": true
   },
   "outputs": [
    {
     "name": "stdout",
     "output_type": "stream",
     "text": [
      "2\n",
      "39\n",
      "123ABC\n",
      "71\n",
      "4435274\n"
     ]
    }
   ],
   "source": [
    "n = int(input())  \n",
    "i = 0  \n",
    "list = []  \n",
    "\n",
    "# 将多行输入存入列表\n",
    "while True:  \n",
    "    if i >= n:  \n",
    "        break  \n",
    "    list.append(input())  \n",
    "    i += 1  \n",
    "\n",
    "for i in range(0,len(list)):  \n",
    "    # 提取字符串\n",
    "    a = list[i] \n",
    "    # 将字符串转化成16进制\n",
    "    b = int(a,16)  \n",
    "    c = oct(b)  \n",
    "    print(c[2:])  "
   ]
  },
  {
   "cell_type": "markdown",
   "metadata": {},
   "source": [
    "## 2.13 数列排序"
   ]
  },
  {
   "cell_type": "markdown",
   "metadata": {},
   "source": [
    "给定一个长度为n的数列，将这个数列按从小到大的顺序排列。1<=n<=200\n",
    "\n",
    "第一行为一个整数n。\n",
    "\n",
    "第二行包含n个整数，为待排序的数，每个整数的绝对值小于10000。\n",
    "\n",
    "输出一行，按从小到大的顺序输出排序后的数列。"
   ]
  },
  {
   "cell_type": "code",
   "execution_count": 252,
   "metadata": {
    "collapsed": true
   },
   "outputs": [
    {
     "name": "stdout",
     "output_type": "stream",
     "text": [
      "5\n",
      "8 3 6 4 9\n",
      "3 4 6 8 9 "
     ]
    }
   ],
   "source": [
    "n = int(input())\n",
    "\n",
    "num_list1 = []\n",
    "num_list1 = input().split()\n",
    "\n",
    "num_list2 = []\n",
    "\n",
    "i = 0\n",
    "\n",
    "while i < n:\n",
    "    num_list2.append(int(num_list1[i]))\n",
    "    i += 1\n",
    "\n",
    "num_list2.sort(reverse = False)\n",
    "\n",
    "i = 0\n",
    "\n",
    "while i < n:\n",
    "    print(num_list2[i], end = ' ')\n",
    "    i += 1"
   ]
  }
 ],
 "metadata": {
  "kernelspec": {
   "display_name": "Python 3",
   "language": "python",
   "name": "python3"
  },
  "language_info": {
   "codemirror_mode": {
    "name": "ipython",
    "version": 3
   },
   "file_extension": ".py",
   "mimetype": "text/x-python",
   "name": "python",
   "nbconvert_exporter": "python",
   "pygments_lexer": "ipython3",
   "version": "3.7.6"
  }
 },
 "nbformat": 4,
 "nbformat_minor": 4
}
