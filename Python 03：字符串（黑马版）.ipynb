{
 "cells": [
  {
   "cell_type": "markdown",
   "metadata": {},
   "source": [
    "# 二、字符串（黑马版）"
   ]
  },
  {
   "cell_type": "markdown",
   "metadata": {},
   "source": [
    "## 1 字符串基础"
   ]
  },
  {
   "cell_type": "markdown",
   "metadata": {},
   "source": [
    "字符串是Python中最常用的数据类型。我们一般使用引号来创建字符串。创建字符串很简单，只要为变量分配一个值即可。"
   ]
  },
  {
   "cell_type": "code",
   "execution_count": 16,
   "metadata": {},
   "outputs": [
    {
     "name": "stdout",
     "output_type": "stream",
     "text": [
      "hello world\n",
      "<class 'str'>\n"
     ]
    }
   ],
   "source": [
    "# 单引号写法\n",
    "\n",
    "a =  'hello world'\n",
    "print(a)\n",
    "print(type(a))"
   ]
  },
  {
   "cell_type": "code",
   "execution_count": 17,
   "metadata": {},
   "outputs": [
    {
     "name": "stdout",
     "output_type": "stream",
     "text": [
      "Tom\n",
      "<class 'str'>\n"
     ]
    }
   ],
   "source": [
    "# 双引号写法\n",
    "\n",
    "b =  \"Tom\"\n",
    "print(b)\n",
    "print(type(b))"
   ]
  },
  {
   "cell_type": "code",
   "execution_count": 18,
   "metadata": {},
   "outputs": [
    {
     "name": "stdout",
     "output_type": "stream",
     "text": [
      "is\n",
      "<class 'str'>\n",
      "me !\n",
      "<class 'str'>\n"
     ]
    }
   ],
   "source": [
    "# 三引号写法：支持字符串内换行且不增加换行符\n",
    "\n",
    "c =  '''is'''\n",
    "print(c)\n",
    "print(type(c))\n",
    "\n",
    "d =  \"\"\"me !\"\"\"\n",
    "print(d)\n",
    "print(type(d))"
   ]
  },
  {
   "cell_type": "code",
   "execution_count": 21,
   "metadata": {},
   "outputs": [
    {
     "name": "stdout",
     "output_type": "stream",
     "text": [
      "I'm Tom\n",
      "<class 'str'>\n",
      "I'm Tom\n",
      "<class 'str'>\n"
     ]
    }
   ],
   "source": [
    "# 输出“I'm Tom”\n",
    "\n",
    "e = \"I'm Tom\"\n",
    "print(e)\n",
    "print(type(e))\n",
    "\n",
    "# 添加转义符即可兼容单引号\n",
    "\n",
    "e = 'I\\'m Tom'\n",
    "print(e)\n",
    "print(type(e))"
   ]
  },
  {
   "cell_type": "code",
   "execution_count": 25,
   "metadata": {},
   "outputs": [
    {
     "name": "stdout",
     "output_type": "stream",
     "text": [
      "请输入您的名字：Tom\n",
      "您输入的名字是Tom\n",
      "您输入的名字是Tom\n",
      "<class 'str'>\n"
     ]
    }
   ],
   "source": [
    "# 字符串的输入输出\n",
    "\n",
    "name = input('请输入您的名字：')\n",
    "print('您输入的名字是%s' % name)\n",
    "print(f'您输入的名字是{name}')\n",
    "print(type(name))"
   ]
  },
  {
   "cell_type": "markdown",
   "metadata": {},
   "source": [
    "## 2 下标与切片"
   ]
  },
  {
   "cell_type": "markdown",
   "metadata": {},
   "source": [
    "### 2.1 下标（索引）"
   ]
  },
  {
   "cell_type": "markdown",
   "metadata": {},
   "source": [
    "下标的作用是快速找到对应的数据"
   ]
  },
  {
   "cell_type": "code",
   "execution_count": 30,
   "metadata": {},
   "outputs": [
    {
     "name": "stdout",
     "output_type": "stream",
     "text": [
      "abcdefg\n",
      "a\n"
     ]
    }
   ],
   "source": [
    "str1 = 'abcdefg'\n",
    "print(str1)\n",
    "\n",
    "# 数据在程序运行过程中存储在内存中\n",
    "# 这些字符数据从0开始顺序分配一个编号\n",
    "# 使用编号即可精确找到某个字符数据\n",
    "\n",
    "print(str1[0])"
   ]
  },
  {
   "cell_type": "markdown",
   "metadata": {},
   "source": [
    "### 2.2 切片"
   ]
  },
  {
   "cell_type": "markdown",
   "metadata": {},
   "source": [
    "切片是指对操作的对象截取其中一部分的操作。字符串、列表、元组都支持切片操作。"
   ]
  },
  {
   "cell_type": "code",
   "execution_count": 1,
   "metadata": {},
   "outputs": [
    {
     "name": "stdout",
     "output_type": "stream",
     "text": [
      "234\n",
      "24\n",
      "234\n",
      "01234\n",
      "12345678\n",
      "012345678\n",
      "—————\n",
      "876543210\n",
      "567\n",
      "567\n",
      "\n",
      "876\n"
     ]
    }
   ],
   "source": [
    "name = '012345678'\n",
    "\n",
    "# 序列[开始位置下标：结束位置下标：步长]\n",
    "# 不包含结束位置下标对应的数据，正负整数均可\n",
    "# 步长是选取间隔，正负整数均可，默认步长为1\n",
    "\n",
    "print(name[2:5:1]) # 234\n",
    "print(name[2:5:2]) # 24\n",
    "print(name[2:5])   # 234\n",
    "print(name[:5])    # 01234\n",
    "print(name[1:])    # 12345678\n",
    "print(name[:])     # 012345678\n",
    "\n",
    "# 负数测试\n",
    "print('—————')\n",
    "print(name[::-1])     # 876543210 -- 步长为负数，表示倒序选取\n",
    "print(name[-4:-1])    # 567 -- 下标-1表示最后一个数据，依次向前类推\n",
    "print(name[-4:-1:1])  # 567 \n",
    "print(name[-4:-1:-1]) # 不能选取出数据：从-4开始到-1结束，选取方向为从左到右，但-1步长：从右向左选取\n",
    "print(name[-1:-4:-1]) # 876"
   ]
  },
  {
   "cell_type": "markdown",
   "metadata": {},
   "source": [
    "## 3 常用操作方法"
   ]
  },
  {
   "cell_type": "markdown",
   "metadata": {},
   "source": [
    "### 3.1 查找"
   ]
  },
  {
   "cell_type": "markdown",
   "metadata": {},
   "source": [
    "所谓字符串查找方法既是查找子串在字符串中的位置或出现的次数。"
   ]
  },
  {
   "cell_type": "markdown",
   "metadata": {},
   "source": [
    "+ find():检测某个子串是否包含在这个字符串中，如果在返回这个子串开始的位置下标，否则返回-1。"
   ]
  },
  {
   "cell_type": "code",
   "execution_count": 6,
   "metadata": {},
   "outputs": [
    {
     "name": "stdout",
     "output_type": "stream",
     "text": [
      "12\n",
      "23\n",
      "-1\n"
     ]
    }
   ],
   "source": [
    "# 字符串序列.find(子串， 开始位置下标， 结束位置下标)\n",
    "# 开始和结束位置下标可以省略，表示在整个字符串序列中查找\n",
    "\n",
    "mystr = 'hello world and itcast and itheima and Python'\n",
    "\n",
    "print(mystr.find('and'))           # 12\n",
    "print(mystr.find('and', 15, 30))   # 23\n",
    "print(mystr.find('ands'))          # -1"
   ]
  },
  {
   "cell_type": "markdown",
   "metadata": {},
   "source": [
    "+ index():检测某个子串是否包含在这个字符串中，如果在返回这个子串开始的位置下标，否则则报异常。"
   ]
  },
  {
   "cell_type": "code",
   "execution_count": 13,
   "metadata": {},
   "outputs": [
    {
     "name": "stdout",
     "output_type": "stream",
     "text": [
      "12\n",
      "23\n"
     ]
    }
   ],
   "source": [
    "# index()\n",
    "\n",
    "mystr = 'hello world and itcast and itheima and Python'\n",
    "\n",
    "print(mystr.index('and'))           # 12\n",
    "print(mystr.index('and', 15, 30))   # 23\n",
    "# print(mystr.index('ands'))        # 如果子串不存在，报错"
   ]
  },
  {
   "cell_type": "markdown",
   "metadata": {},
   "source": [
    "+ rfind(): 和find功能相同，但查找方向为右侧开始\n",
    "+ rindex():和index功能相同，但查找方向为右侧开始\n",
    "+ count(): 返回某个子串在字符串中出现的次数"
   ]
  },
  {
   "cell_type": "code",
   "execution_count": 16,
   "metadata": {},
   "outputs": [
    {
     "name": "stdout",
     "output_type": "stream",
     "text": [
      "1\n",
      "3\n",
      "0\n"
     ]
    }
   ],
   "source": [
    "# count()\n",
    "\n",
    "print(mystr.count('and', 15, 30)) # 1\n",
    "print(mystr.count('and'))         # 3\n",
    "print(mystr.count('ands'))        # 0"
   ]
  },
  {
   "cell_type": "code",
   "execution_count": 18,
   "metadata": {},
   "outputs": [
    {
     "name": "stdout",
     "output_type": "stream",
     "text": [
      "35\n",
      "-1\n"
     ]
    }
   ],
   "source": [
    "# rfind()\n",
    "\n",
    "print(mystr.rfind('and'))\n",
    "print(mystr.rfind('ands'))"
   ]
  },
  {
   "cell_type": "code",
   "execution_count": 21,
   "metadata": {},
   "outputs": [
    {
     "name": "stdout",
     "output_type": "stream",
     "text": [
      "35\n"
     ]
    }
   ],
   "source": [
    "# rindex()\n",
    "\n",
    "print(mystr.rindex('and'))\n",
    "# print(mystr.rindex('ands'))"
   ]
  },
  {
   "cell_type": "markdown",
   "metadata": {},
   "source": [
    "### 3.2 修改"
   ]
  },
  {
   "cell_type": "markdown",
   "metadata": {},
   "source": [
    "#### 3.2.1 常用修改"
   ]
  },
  {
   "cell_type": "markdown",
   "metadata": {},
   "source": [
    "+ replace():替换"
   ]
  },
  {
   "cell_type": "code",
   "execution_count": 6,
   "metadata": {},
   "outputs": [
    {
     "name": "stdout",
     "output_type": "stream",
     "text": [
      "hello world he itcast he itheima he Python\n",
      "hello world he itcast he itheima he Python\n",
      "hello world he itcast and itheima and Python\n",
      "hello world and itcast and itheima and Python\n"
     ]
    }
   ],
   "source": [
    "# 字符串序列.replace(旧子串， 新子串， 替换次数)\n",
    "\n",
    "mystr = 'hello world and itcast and itheima and Python'\n",
    "\n",
    "# 结果: hello world he itcast he itheima he Python\n",
    "new_str = mystr.replace('and', 'he')\n",
    "print(new_str)\n",
    "\n",
    "# 结果: hello world he itcast he itheima he Python\n",
    "print(mystr.replace('and', 'he', 10))\n",
    "\n",
    "# 结果: hello world he itcast and itheima and Python\n",
    "print(mystr.replace('and', 'he', 1))\n",
    "\n",
    "# 调用了replace函数后，原有字符串数据不会修改，修改后的数据是replace函数的返回值\n",
    "# 说明了字符串是不可变数据类型，要用新变量去接收\n",
    "\n",
    "print(mystr)"
   ]
  },
  {
   "cell_type": "markdown",
   "metadata": {},
   "source": [
    "+ split():按照指定字符分割字符串。"
   ]
  },
  {
   "cell_type": "code",
   "execution_count": 10,
   "metadata": {},
   "outputs": [
    {
     "name": "stdout",
     "output_type": "stream",
     "text": [
      "['hello world ', ' itcast ', ' itheima ', ' Python']\n",
      "['hello world ', ' itcast ', ' itheima and Python']\n"
     ]
    }
   ],
   "source": [
    "# 字符串序列.split(分割字符， num)\n",
    "# num表示的是分割字符出现的次数，即将来返回数据个数为num+1个\n",
    "\n",
    "mystr = 'hello world and itcast and itheima and Python'\n",
    "list1 = mystr.split('and')\n",
    "print(list1)\n",
    "\n",
    "list2 = mystr.split('and', 2)\n",
    "print(list2)"
   ]
  },
  {
   "cell_type": "markdown",
   "metadata": {},
   "source": [
    "+ join():合并列表里面的字符串数据为一个大字符串"
   ]
  },
  {
   "cell_type": "code",
   "execution_count": 4,
   "metadata": {},
   "outputs": [
    {
     "name": "stdout",
     "output_type": "stream",
     "text": [
      "aa...bb...cc\n"
     ]
    }
   ],
   "source": [
    "mylist = ['aa', 'bb', 'cc']\n",
    "new_str = '...'.join(mylist)\n",
    "print(new_str)"
   ]
  },
  {
   "cell_type": "markdown",
   "metadata": {},
   "source": [
    "#### 3.2.2 大小写修改"
   ]
  },
  {
   "cell_type": "markdown",
   "metadata": {},
   "source": [
    "+ capitalize():将字符串的第一个字符转换成大写。"
   ]
  },
  {
   "cell_type": "code",
   "execution_count": 1,
   "metadata": {},
   "outputs": [
    {
     "name": "stdout",
     "output_type": "stream",
     "text": [
      "Hello world and itcast and itheima and python\n"
     ]
    }
   ],
   "source": [
    "mystr = 'hello world and itcast and itheima and Python'\n",
    "new_str = mystr.capitalize()\n",
    "print(new_str)"
   ]
  },
  {
   "cell_type": "markdown",
   "metadata": {},
   "source": [
    "+ title():将字符串每个单词首字母转换成大写。"
   ]
  },
  {
   "cell_type": "code",
   "execution_count": 4,
   "metadata": {},
   "outputs": [
    {
     "name": "stdout",
     "output_type": "stream",
     "text": [
      "Hello World And Itcast And Itheima And Python\n"
     ]
    }
   ],
   "source": [
    "new_str = mystr.title()\n",
    "print(new_str)"
   ]
  },
  {
   "cell_type": "markdown",
   "metadata": {},
   "source": [
    "+ upper():小写转大写"
   ]
  },
  {
   "cell_type": "code",
   "execution_count": 5,
   "metadata": {},
   "outputs": [
    {
     "name": "stdout",
     "output_type": "stream",
     "text": [
      "HELLO WORLD AND ITCAST AND ITHEIMA AND PYTHON\n"
     ]
    }
   ],
   "source": [
    "new_str = mystr.upper()\n",
    "print(new_str)"
   ]
  },
  {
   "cell_type": "markdown",
   "metadata": {},
   "source": [
    "+ lower():大写转小写"
   ]
  },
  {
   "cell_type": "code",
   "execution_count": 6,
   "metadata": {},
   "outputs": [
    {
     "name": "stdout",
     "output_type": "stream",
     "text": [
      "hello world and itcast and itheima and python\n"
     ]
    }
   ],
   "source": [
    "new_str = mystr.lower()\n",
    "print(new_str)"
   ]
  },
  {
   "cell_type": "markdown",
   "metadata": {},
   "source": [
    "#### 3.2.3 删除空白字符"
   ]
  },
  {
   "cell_type": "markdown",
   "metadata": {},
   "source": [
    "+ lstrip():删除字符串左侧空白字符"
   ]
  },
  {
   "cell_type": "code",
   "execution_count": 11,
   "metadata": {},
   "outputs": [
    {
     "name": "stdout",
     "output_type": "stream",
     "text": [
      "hello world and itcast and itheima and Python    \n"
     ]
    }
   ],
   "source": [
    "mystr = \"    hello world and itcast and itheima and Python    \"\n",
    "new_str = mystr.lstrip()\n",
    "print(new_str)"
   ]
  },
  {
   "cell_type": "markdown",
   "metadata": {},
   "source": [
    "+ rstrip():删除字符串右侧空白字符"
   ]
  },
  {
   "cell_type": "code",
   "execution_count": 12,
   "metadata": {},
   "outputs": [
    {
     "name": "stdout",
     "output_type": "stream",
     "text": [
      "    hello world and itcast and itheima and Python\n"
     ]
    }
   ],
   "source": [
    "new_str = mystr.rstrip()\n",
    "print(new_str)"
   ]
  },
  {
   "cell_type": "markdown",
   "metadata": {},
   "source": [
    "+ strip():删除字符串两侧空白字符"
   ]
  },
  {
   "cell_type": "code",
   "execution_count": 13,
   "metadata": {},
   "outputs": [
    {
     "name": "stdout",
     "output_type": "stream",
     "text": [
      "hello world and itcast and itheima and Python\n"
     ]
    }
   ],
   "source": [
    "new_str = mystr.strip()\n",
    "print(new_str)"
   ]
  },
  {
   "cell_type": "markdown",
   "metadata": {},
   "source": [
    "#### 3.2.4 字符串对齐"
   ]
  },
  {
   "cell_type": "markdown",
   "metadata": {},
   "source": [
    "+ ljust():返回一个原字符串左对齐，并使用指定字符（默认空格）填充至对应长度的新字符串。"
   ]
  },
  {
   "cell_type": "code",
   "execution_count": 18,
   "metadata": {},
   "outputs": [
    {
     "name": "stdout",
     "output_type": "stream",
     "text": [
      "hello.....\n"
     ]
    }
   ],
   "source": [
    "# 字符串序列.ljust(长度， 填充字符)\n",
    "\n",
    "mystr = \"hello\"\n",
    "new_str = mystr.ljust(10, '.')\n",
    "print(new_str)"
   ]
  },
  {
   "cell_type": "markdown",
   "metadata": {},
   "source": [
    "+ rjust():返回一个原字符串右对齐，并使用指定字符（默认空格）填充至对应长度的新字符串。"
   ]
  },
  {
   "cell_type": "code",
   "execution_count": 19,
   "metadata": {},
   "outputs": [
    {
     "name": "stdout",
     "output_type": "stream",
     "text": [
      ".....hello\n"
     ]
    }
   ],
   "source": [
    "new_str = mystr.rjust(10, '.')\n",
    "print(new_str)"
   ]
  },
  {
   "cell_type": "markdown",
   "metadata": {},
   "source": [
    "+ center():返回一个原字符串居中对齐，并使用指定字符（默认空格）填充至对应长度的新字符串。"
   ]
  },
  {
   "cell_type": "code",
   "execution_count": 22,
   "metadata": {},
   "outputs": [
    {
     "name": "stdout",
     "output_type": "stream",
     "text": [
      "...hello...\n"
     ]
    }
   ],
   "source": [
    "new_str = mystr.center(11, '.')\n",
    "print(new_str)"
   ]
  },
  {
   "cell_type": "markdown",
   "metadata": {},
   "source": [
    "### 3.3 判断"
   ]
  },
  {
   "cell_type": "markdown",
   "metadata": {},
   "source": [
    "+ startswith():检查字符串是否以指定子串开头，是则返回Ture，否则返回False。如果设置开始和结束位置下标，则在指定范围内检查。"
   ]
  },
  {
   "cell_type": "code",
   "execution_count": 25,
   "metadata": {},
   "outputs": [
    {
     "name": "stdout",
     "output_type": "stream",
     "text": [
      "True\n",
      "True\n",
      "False\n"
     ]
    }
   ],
   "source": [
    "# 字符串序列.startswith(子串， 开始位置下标， 结束位置下标)\n",
    "\n",
    "mystr = \"hello world and itcast and itheima and Python\"\n",
    "print(mystr.startswith('hello'))\n",
    "print(mystr.startswith('hel'))\n",
    "print(mystr.startswith('hes'))"
   ]
  },
  {
   "cell_type": "markdown",
   "metadata": {},
   "source": [
    "+ endswith():检查字符串是否以指定子串结尾，是则返回Ture，否则返回False。如果设置开始和结束位置下标，则在指定范围内检查。"
   ]
  },
  {
   "cell_type": "code",
   "execution_count": 29,
   "metadata": {},
   "outputs": [
    {
     "name": "stdout",
     "output_type": "stream",
     "text": [
      "True\n",
      "True\n",
      "False\n"
     ]
    }
   ],
   "source": [
    "# 字符串序列.endswith(子串， 开始位置下标， 结束位置下标)\n",
    "\n",
    "print(mystr.endswith('Python'))\n",
    "print(mystr.endswith('thon'))\n",
    "print(mystr.endswith('thons'))"
   ]
  },
  {
   "cell_type": "markdown",
   "metadata": {},
   "source": [
    "+ isalpha():如果字符串至少有一个字符并且所有字符都是字母则返回Ture，否则返回False。"
   ]
  },
  {
   "cell_type": "code",
   "execution_count": 32,
   "metadata": {},
   "outputs": [
    {
     "name": "stdout",
     "output_type": "stream",
     "text": [
      "True\n",
      "False\n"
     ]
    }
   ],
   "source": [
    "mystr1 = 'hello'\n",
    "mystr2 = 'hello12345'\n",
    "print(mystr1.isalpha())\n",
    "print(mystr2.isalpha())"
   ]
  },
  {
   "cell_type": "markdown",
   "metadata": {},
   "source": [
    "+ isdigit():如果字符串只包含数字则返回Ture，否则返回False。"
   ]
  },
  {
   "cell_type": "code",
   "execution_count": 33,
   "metadata": {},
   "outputs": [
    {
     "name": "stdout",
     "output_type": "stream",
     "text": [
      "False\n",
      "True\n"
     ]
    }
   ],
   "source": [
    "mystr1 = 'hello'\n",
    "mystr2 = '12345'\n",
    "print(mystr1.isdigit())\n",
    "print(mystr2.isdigit())"
   ]
  },
  {
   "cell_type": "markdown",
   "metadata": {},
   "source": [
    "+ isalnum():如果字符串至少有一个字符并且所有字符都是字母或者数字则返回Ture，否则返回False。"
   ]
  },
  {
   "cell_type": "code",
   "execution_count": 34,
   "metadata": {},
   "outputs": [
    {
     "name": "stdout",
     "output_type": "stream",
     "text": [
      "True\n",
      "False\n"
     ]
    }
   ],
   "source": [
    "mystr1 = 'hello12345'\n",
    "mystr2 = '12345-'\n",
    "print(mystr1.isalnum())\n",
    "print(mystr2.isalnum())"
   ]
  },
  {
   "cell_type": "markdown",
   "metadata": {},
   "source": [
    "+ isspace():如果字符串中只包含空白，则返回Ture，否则返回False。"
   ]
  },
  {
   "cell_type": "code",
   "execution_count": 37,
   "metadata": {},
   "outputs": [
    {
     "name": "stdout",
     "output_type": "stream",
     "text": [
      "False\n",
      "True\n"
     ]
    }
   ],
   "source": [
    "mystr1 = 'h e l l o'\n",
    "mystr2 = '      '\n",
    "print(mystr1.isspace())\n",
    "print(mystr2.isspace())"
   ]
  }
 ],
 "metadata": {
  "kernelspec": {
   "display_name": "Python 3",
   "language": "python",
   "name": "python3"
  },
  "language_info": {
   "codemirror_mode": {
    "name": "ipython",
    "version": 3
   },
   "file_extension": ".py",
   "mimetype": "text/x-python",
   "name": "python",
   "nbconvert_exporter": "python",
   "pygments_lexer": "ipython3",
   "version": "3.7.6"
  }
 },
 "nbformat": 4,
 "nbformat_minor": 4
}
