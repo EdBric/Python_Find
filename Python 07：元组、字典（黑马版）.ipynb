{
 "cells": [
  {
   "cell_type": "markdown",
   "metadata": {},
   "source": [
    "# 一、元组"
   ]
  },
  {
   "cell_type": "markdown",
   "metadata": {},
   "source": [
    "## 1 元组"
   ]
  },
  {
   "cell_type": "markdown",
   "metadata": {},
   "source": [
    "### 1.1 应用场景"
   ]
  },
  {
   "cell_type": "markdown",
   "metadata": {},
   "source": [
    "存储多个数据，且元组内的数据是不能修改的（列表可修改）。"
   ]
  },
  {
   "cell_type": "markdown",
   "metadata": {},
   "source": [
    "### 1.2 格式"
   ]
  },
  {
   "cell_type": "code",
   "execution_count": 8,
   "metadata": {},
   "outputs": [
    {
     "name": "stdout",
     "output_type": "stream",
     "text": [
      "(10, 20, 30)\n",
      "t1's type is <class 'tuple'>\n",
      "t2's type is <class 'tuple'>\n",
      "t3's type is <class 'int'>\n",
      "t4's type is <class 'str'>\n"
     ]
    }
   ],
   "source": [
    "# 多个数据元组（逗号隔开，数据可以是不同的数据类型）\n",
    "t1 = (10, 20, 30)\n",
    "\n",
    "print(t1)\n",
    "print(\"t1's type is\", type(t1))\n",
    "\n",
    "# 单个数据元组（数据后面要加个\",\"）\n",
    "t2 = (10,)\n",
    "print(\"t2's type is\", type(t2))\n",
    "\n",
    "t3 = (10)\n",
    "print(\"t3's type is\", type(t3))\n",
    "\n",
    "t4 = ('hello')\n",
    "print(\"t4's type is\", type(t4))"
   ]
  },
  {
   "cell_type": "markdown",
   "metadata": {},
   "source": [
    "### 1.3 元组的常见操作"
   ]
  },
  {
   "cell_type": "markdown",
   "metadata": {},
   "source": [
    "#### 1.3.1 查找"
   ]
  },
  {
   "cell_type": "markdown",
   "metadata": {},
   "source": [
    "元组数据不支持修改，只支持查找"
   ]
  },
  {
   "cell_type": "code",
   "execution_count": 9,
   "metadata": {},
   "outputs": [
    {
     "name": "stdout",
     "output_type": "stream",
     "text": [
      "aa\n"
     ]
    }
   ],
   "source": [
    "# 按下标查找\n",
    "\n",
    "tuple1 = ('aa', 'bb', 'cc', 'bb')\n",
    "print(tuple1[0])"
   ]
  },
  {
   "cell_type": "code",
   "execution_count": 11,
   "metadata": {},
   "outputs": [
    {
     "name": "stdout",
     "output_type": "stream",
     "text": [
      "1\n"
     ]
    }
   ],
   "source": [
    "# index():查找某个数据，如果数据存在返回对应的下标，否则报错，语法和列表、字符串的index方法相同。\n",
    "\n",
    "tuple1 = ('aa', 'bb', 'cc', 'bb')\n",
    "print(tuple1.index('bb'))"
   ]
  },
  {
   "cell_type": "code",
   "execution_count": 14,
   "metadata": {},
   "outputs": [
    {
     "name": "stdout",
     "output_type": "stream",
     "text": [
      "2\n"
     ]
    }
   ],
   "source": [
    "# count():统计某个数据在当前元组出现的次数。\n",
    "\n",
    "tuple1 = ('aa', 'bb', 'cc', 'bb')\n",
    "print(tuple1.count('bb'))"
   ]
  },
  {
   "cell_type": "code",
   "execution_count": 16,
   "metadata": {},
   "outputs": [
    {
     "name": "stdout",
     "output_type": "stream",
     "text": [
      "4\n"
     ]
    }
   ],
   "source": [
    "# len():统计元组中数据的个数。\n",
    "\n",
    "tuple1 = ('aa', 'bb', 'cc', 'bb')\n",
    "print(len(tuple1))"
   ]
  },
  {
   "cell_type": "markdown",
   "metadata": {},
   "source": [
    "#### 1.3.2 修改"
   ]
  },
  {
   "cell_type": "markdown",
   "metadata": {},
   "source": [
    "注意：元组内的数据直接修改则立即报错"
   ]
  },
  {
   "cell_type": "code",
   "execution_count": 17,
   "metadata": {},
   "outputs": [
    {
     "ename": "TypeError",
     "evalue": "'tuple' object does not support item assignment",
     "output_type": "error",
     "traceback": [
      "\u001b[1;31m--------------------------------------------------------------\u001b[0m",
      "\u001b[1;31mTypeError\u001b[0m                    Traceback (most recent call last)",
      "\u001b[1;32m<ipython-input-17-aaa8d10a8057>\u001b[0m in \u001b[0;36m<module>\u001b[1;34m\u001b[0m\n\u001b[0;32m      1\u001b[0m \u001b[0mtuple1\u001b[0m \u001b[1;33m=\u001b[0m \u001b[1;33m(\u001b[0m\u001b[1;34m'aa'\u001b[0m\u001b[1;33m,\u001b[0m \u001b[1;34m'bb'\u001b[0m\u001b[1;33m,\u001b[0m \u001b[1;34m'cc'\u001b[0m\u001b[1;33m,\u001b[0m \u001b[1;34m'bb'\u001b[0m\u001b[1;33m)\u001b[0m\u001b[1;33m\u001b[0m\u001b[1;33m\u001b[0m\u001b[0m\n\u001b[1;32m----> 2\u001b[1;33m \u001b[0mtuple1\u001b[0m\u001b[1;33m[\u001b[0m\u001b[1;36m0\u001b[0m\u001b[1;33m]\u001b[0m \u001b[1;33m=\u001b[0m \u001b[1;34m'aaa'\u001b[0m\u001b[1;33m\u001b[0m\u001b[1;33m\u001b[0m\u001b[0m\n\u001b[0m",
      "\u001b[1;31mTypeError\u001b[0m: 'tuple' object does not support item assignment"
     ]
    }
   ],
   "source": [
    "tuple1 = ('aa', 'bb', 'cc', 'bb')\n",
    "tuple1[0] = 'aaa'"
   ]
  },
  {
   "cell_type": "markdown",
   "metadata": {},
   "source": [
    "但是如果元组里面有列表，修改列表里面的数据则是支持的。"
   ]
  },
  {
   "cell_type": "code",
   "execution_count": 20,
   "metadata": {},
   "outputs": [
    {
     "name": "stdout",
     "output_type": "stream",
     "text": [
      "['aa', 'bb', 'cc', 'bb']\n",
      "['aaaa', 'bb', 'cc', 'bb']\n"
     ]
    }
   ],
   "source": [
    "tuple2 = (10, 20, ['aa', 'bb', 'cc', 'bb'], 50, 30)\n",
    "print(tuple2[2])\n",
    "\n",
    "tuple2[2][0] = 'aaaa'\n",
    "print(tuple2[2])"
   ]
  },
  {
   "cell_type": "markdown",
   "metadata": {},
   "source": [
    "## 二、字典"
   ]
  },
  {
   "cell_type": "markdown",
   "metadata": {},
   "source": [
    "## 2 字典"
   ]
  },
  {
   "cell_type": "markdown",
   "metadata": {},
   "source": [
    "### 2.1 应用场景"
   ]
  },
  {
   "cell_type": "markdown",
   "metadata": {},
   "source": [
    "思考1：如果有多个数据，例如'Tom', '男', '20',如何快速存储？"
   ]
  },
  {
   "cell_type": "markdown",
   "metadata": {},
   "source": [
    "答：列表"
   ]
  },
  {
   "cell_type": "code",
   "execution_count": 21,
   "metadata": {},
   "outputs": [],
   "source": [
    "list1 = ['Tom', '男', 20]"
   ]
  },
  {
   "cell_type": "markdown",
   "metadata": {},
   "source": [
    "思考2：如何查找数据'Tom'?"
   ]
  },
  {
   "cell_type": "markdown",
   "metadata": {},
   "source": [
    "答：查找到下标0的数据即可"
   ]
  },
  {
   "cell_type": "code",
   "execution_count": 22,
   "metadata": {},
   "outputs": [
    {
     "data": {
      "text/plain": [
       "'Tom'"
      ]
     },
     "execution_count": 22,
     "metadata": {},
     "output_type": "execute_result"
    }
   ],
   "source": [
    "list1[0]"
   ]
  },
  {
   "cell_type": "markdown",
   "metadata": {},
   "source": [
    "思考3：如果将数据顺序发生变化，如下所示，还能用list1[0]访问到数据'Tom'吗？"
   ]
  },
  {
   "cell_type": "code",
   "execution_count": 23,
   "metadata": {},
   "outputs": [],
   "source": [
    "list1 = ['男', 20, 'Tom']"
   ]
  },
  {
   "cell_type": "markdown",
   "metadata": {},
   "source": [
    "答：不能，数据'Tom'此时下标为2"
   ]
  },
  {
   "cell_type": "markdown",
   "metadata": {},
   "source": [
    "思考4：数据顺序发生变化，每个数据的下标也会随之变化，如何保证数据顺序变化前后能使用同一标准查找数据呢？"
   ]
  },
  {
   "cell_type": "markdown",
   "metadata": {},
   "source": [
    "答：字典，字典里面的数据是以键值对形式出现，字典数据和数据顺序没有关系，即字典不支持下标，后期无论数据如何变化，只需要按照对应的键的名字查找数据即可。"
   ]
  },
  {
   "cell_type": "markdown",
   "metadata": {},
   "source": [
    "### 2.2 语法"
   ]
  },
  {
   "cell_type": "markdown",
   "metadata": {},
   "source": [
    "字典特点：\n",
    "+ 符号为大括号\n",
    "+ 数据为键值对形式出现\n",
    "+ 各个键值对之间用逗号隔开"
   ]
  },
  {
   "cell_type": "code",
   "execution_count": 1,
   "metadata": {},
   "outputs": [
    {
     "name": "stdout",
     "output_type": "stream",
     "text": [
      "{'name': 'Tom', 'age': 20, 'gender': '男'}\n",
      "{}\n",
      "{}\n"
     ]
    }
   ],
   "source": [
    "# 有数据字典\n",
    "dict1 = {'name': 'Tom', 'age': 20, 'gender': '男'}\n",
    "print(dict1)\n",
    "\n",
    "# 空字典\n",
    "dict2 = {}\n",
    "print(dict2)\n",
    "\n",
    "dict3 = dict()\n",
    "print(dict3)"
   ]
  },
  {
   "cell_type": "markdown",
   "metadata": {},
   "source": [
    "### 2.3 常用操作"
   ]
  },
  {
   "cell_type": "markdown",
   "metadata": {},
   "source": [
    "#### 2.3.1 增加"
   ]
  },
  {
   "cell_type": "markdown",
   "metadata": {},
   "source": [
    "写法：字典序列[key] = 值\n",
    "\n",
    "注意：如果key存在则修改这个key对应的值；不存在则新增此键值对；字典为可变类型。"
   ]
  },
  {
   "cell_type": "code",
   "execution_count": 2,
   "metadata": {},
   "outputs": [
    {
     "name": "stdout",
     "output_type": "stream",
     "text": [
      "{'name': 'Rose', 'age': 20, 'gender': '男'}\n",
      "{'name': 'Rose', 'age': 20, 'gender': '男', 'id': 110}\n"
     ]
    }
   ],
   "source": [
    "dict1 = {'name': 'Tom', 'age': 20, 'gender': '男'}\n",
    "\n",
    "dict1['name'] = 'Rose'\n",
    "\n",
    "print(dict1)\n",
    "\n",
    "dict1['id'] = 110\n",
    "\n",
    "print(dict1)"
   ]
  },
  {
   "cell_type": "markdown",
   "metadata": {},
   "source": [
    "#### 2.3.2 删除"
   ]
  },
  {
   "cell_type": "code",
   "execution_count": 3,
   "metadata": {},
   "outputs": [
    {
     "name": "stdout",
     "output_type": "stream",
     "text": [
      "{'name': 'Tom', 'age': 20}\n"
     ]
    }
   ],
   "source": [
    "# del() / del:删除字典或删除字典中指定键值对\n",
    "\n",
    "dict1 = {'name': 'Tom', 'age': 20, 'gender': '男'}\n",
    "\n",
    "del dict1['gender']\n",
    "\n",
    "print(dict1)"
   ]
  },
  {
   "cell_type": "code",
   "execution_count": 4,
   "metadata": {},
   "outputs": [
    {
     "name": "stdout",
     "output_type": "stream",
     "text": [
      "{}\n"
     ]
    }
   ],
   "source": [
    "# clear():清空字典\n",
    "\n",
    "dict1 = {'name': 'Tom', 'age': 20, 'gender': '男'}\n",
    "\n",
    "dict1.clear()\n",
    "\n",
    "print(dict1)"
   ]
  },
  {
   "cell_type": "markdown",
   "metadata": {},
   "source": [
    "#### 2.3.3 修改"
   ]
  },
  {
   "cell_type": "markdown",
   "metadata": {},
   "source": [
    "写法：字典序列[key] = 值\n",
    "\n",
    "注意：如果key存在则修改这个key对应的值；不存在则新增此键值对。"
   ]
  },
  {
   "cell_type": "markdown",
   "metadata": {},
   "source": [
    "#### 2.3.4 查询"
   ]
  },
  {
   "cell_type": "code",
   "execution_count": 5,
   "metadata": {},
   "outputs": [
    {
     "name": "stdout",
     "output_type": "stream",
     "text": [
      "Tom\n"
     ]
    },
    {
     "ename": "KeyError",
     "evalue": "'id'",
     "output_type": "error",
     "traceback": [
      "\u001b[1;31m--------------------------------------------------------------\u001b[0m",
      "\u001b[1;31mKeyError\u001b[0m                     Traceback (most recent call last)",
      "\u001b[1;32m<ipython-input-5-bcd06ce9d628>\u001b[0m in \u001b[0;36m<module>\u001b[1;34m\u001b[0m\n\u001b[0;32m      3\u001b[0m \u001b[0mdict1\u001b[0m \u001b[1;33m=\u001b[0m \u001b[1;33m{\u001b[0m\u001b[1;34m'name'\u001b[0m\u001b[1;33m:\u001b[0m \u001b[1;34m'Tom'\u001b[0m\u001b[1;33m,\u001b[0m \u001b[1;34m'age'\u001b[0m\u001b[1;33m:\u001b[0m \u001b[1;36m20\u001b[0m\u001b[1;33m,\u001b[0m \u001b[1;34m'gender'\u001b[0m\u001b[1;33m:\u001b[0m \u001b[1;34m'男'\u001b[0m\u001b[1;33m}\u001b[0m\u001b[1;33m\u001b[0m\u001b[1;33m\u001b[0m\u001b[0m\n\u001b[0;32m      4\u001b[0m \u001b[0mprint\u001b[0m\u001b[1;33m(\u001b[0m\u001b[0mdict1\u001b[0m\u001b[1;33m[\u001b[0m\u001b[1;34m'name'\u001b[0m\u001b[1;33m]\u001b[0m\u001b[1;33m)\u001b[0m\u001b[1;33m\u001b[0m\u001b[1;33m\u001b[0m\u001b[0m\n\u001b[1;32m----> 5\u001b[1;33m \u001b[0mprint\u001b[0m\u001b[1;33m(\u001b[0m\u001b[0mdict1\u001b[0m\u001b[1;33m[\u001b[0m\u001b[1;34m'id'\u001b[0m\u001b[1;33m]\u001b[0m\u001b[1;33m)\u001b[0m\u001b[1;33m\u001b[0m\u001b[1;33m\u001b[0m\u001b[0m\n\u001b[0m",
      "\u001b[1;31mKeyError\u001b[0m: 'id'"
     ]
    }
   ],
   "source": [
    "# key值查找\n",
    "\n",
    "dict1 = {'name': 'Tom', 'age': 20, 'gender': '男'}\n",
    "print(dict1['name'])\n",
    "print(dict1['id'])"
   ]
  },
  {
   "cell_type": "markdown",
   "metadata": {},
   "source": [
    "> 如果当前查找的key存在，则返回对应的值；否则则报错。"
   ]
  },
  {
   "cell_type": "code",
   "execution_count": 6,
   "metadata": {},
   "outputs": [
    {
     "name": "stdout",
     "output_type": "stream",
     "text": [
      "Tom\n",
      "110\n",
      "None\n"
     ]
    }
   ],
   "source": [
    "# get()\n",
    "# 语法：字典序列.get(key, 默认值)\n",
    "# 注意：如果当前查找的key不存在则返回第二个参数（默认值），如果省略第二个参数，则返回None。\n",
    "\n",
    "dict1 = {'name': 'Tom', 'age': 20, 'gender': '男'}\n",
    "print(dict1.get('name'))\n",
    "print(dict1.get('id', 110))\n",
    "print(dict1.get('id'))"
   ]
  },
  {
   "cell_type": "code",
   "execution_count": 7,
   "metadata": {},
   "outputs": [
    {
     "name": "stdout",
     "output_type": "stream",
     "text": [
      "dict_keys(['name', 'age', 'gender'])\n"
     ]
    }
   ],
   "source": [
    "# keys():查找key\n",
    "\n",
    "dict1 = {'name': 'Tom', 'age': 20, 'gender': '男'}\n",
    "print(dict1.keys())"
   ]
  },
  {
   "cell_type": "code",
   "execution_count": 8,
   "metadata": {},
   "outputs": [
    {
     "name": "stdout",
     "output_type": "stream",
     "text": [
      "dict_values(['Tom', 20, '男'])\n"
     ]
    }
   ],
   "source": [
    "# values():查找值\n",
    "\n",
    "dict1 = {'name': 'Tom', 'age': 20, 'gender': '男'}\n",
    "print(dict1.values())"
   ]
  },
  {
   "cell_type": "code",
   "execution_count": 23,
   "metadata": {},
   "outputs": [
    {
     "name": "stdout",
     "output_type": "stream",
     "text": [
      "dict_items([('name', 'Tom'), ('age', 20), ('gender', '男')])\n"
     ]
    }
   ],
   "source": [
    "# items():以列表返回可遍历的(键, 值) 元组数组\n",
    "\n",
    "dict1 = {'name': 'Tom', 'age': 20, 'gender': '男'}\n",
    "print(dict1.items())"
   ]
  },
  {
   "cell_type": "markdown",
   "metadata": {},
   "source": [
    "#### 2.3.5 遍历"
   ]
  },
  {
   "cell_type": "code",
   "execution_count": 19,
   "metadata": {},
   "outputs": [
    {
     "name": "stdout",
     "output_type": "stream",
     "text": [
      "name\n",
      "age\n",
      "gender\n"
     ]
    }
   ],
   "source": [
    "# 遍历key\n",
    "\n",
    "dict1 = {'name': 'Tom', 'age': 20, 'gender': '男'}\n",
    "for key in dict1.keys():\n",
    "    print(key)"
   ]
  },
  {
   "cell_type": "code",
   "execution_count": 21,
   "metadata": {},
   "outputs": [
    {
     "name": "stdout",
     "output_type": "stream",
     "text": [
      "Tom\n",
      "20\n",
      "男\n"
     ]
    }
   ],
   "source": [
    "# 遍历字典的value\n",
    "\n",
    "dict1 = {'name': 'Tom', 'age': 20, 'gender': '男'}\n",
    "for value in dict1.values():\n",
    "    print(value)"
   ]
  },
  {
   "cell_type": "code",
   "execution_count": 22,
   "metadata": {},
   "outputs": [
    {
     "name": "stdout",
     "output_type": "stream",
     "text": [
      "('name', 'Tom')\n",
      "('age', 20)\n",
      "('gender', '男')\n"
     ]
    }
   ],
   "source": [
    "# 遍历字典的元素\n",
    "\n",
    "dict1 = {'name': 'Tom', 'age': 20, 'gender': '男'}\n",
    "for item in dict1.items():\n",
    "    print(item)"
   ]
  },
  {
   "cell_type": "code",
   "execution_count": 25,
   "metadata": {},
   "outputs": [
    {
     "name": "stdout",
     "output_type": "stream",
     "text": [
      "name = Tom\n",
      "age = 20\n",
      "gender = 男\n"
     ]
    }
   ],
   "source": [
    "# 遍历字典的键值对(拆包)\n",
    "\n",
    "dict1 = {'name': 'Tom', 'age': 20, 'gender': '男'}\n",
    "for key, value in dict1.items():\n",
    "    print(f'{key} = {value}')"
   ]
  }
 ],
 "metadata": {
  "kernelspec": {
   "display_name": "Python 3",
   "language": "python",
   "name": "python3"
  },
  "language_info": {
   "codemirror_mode": {
    "name": "ipython",
    "version": 3
   },
   "file_extension": ".py",
   "mimetype": "text/x-python",
   "name": "python",
   "nbconvert_exporter": "python",
   "pygments_lexer": "ipython3",
   "version": "3.7.6"
  }
 },
 "nbformat": 4,
 "nbformat_minor": 4
}
