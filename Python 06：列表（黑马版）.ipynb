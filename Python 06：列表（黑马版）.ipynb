{
 "cells": [
  {
   "cell_type": "markdown",
   "metadata": {},
   "source": [
    "# 一、列表"
   ]
  },
  {
   "cell_type": "markdown",
   "metadata": {},
   "source": [
    "## 1 列表"
   ]
  },
  {
   "cell_type": "markdown",
   "metadata": {},
   "source": [
    "### 1.1 应用场景"
   ]
  },
  {
   "cell_type": "markdown",
   "metadata": {},
   "source": [
    "一次性存储多个数据"
   ]
  },
  {
   "cell_type": "markdown",
   "metadata": {},
   "source": [
    "### 1.2 格式"
   ]
  },
  {
   "cell_type": "markdown",
   "metadata": {},
   "source": [
    "[ 数据1， 数据2， 数据3， 数据4..... ]"
   ]
  },
  {
   "cell_type": "markdown",
   "metadata": {},
   "source": [
    "### 1.3 常用操作"
   ]
  },
  {
   "cell_type": "markdown",
   "metadata": {},
   "source": [
    " #### 1.3.1 查找"
   ]
  },
  {
   "cell_type": "code",
   "execution_count": 2,
   "metadata": {},
   "outputs": [
    {
     "name": "stdout",
     "output_type": "stream",
     "text": [
      "['Tom', 'Lily', 'Rose']\n",
      "Tom\n",
      "Lily\n",
      "Rose\n"
     ]
    }
   ],
   "source": [
    "# 下标\n",
    "\n",
    "name_list = ['Tom', 'Lily', 'Rose']\n",
    "\n",
    "print(name_list)\n",
    "print(name_list[0])\n",
    "print(name_list[1])\n",
    "print(name_list[2])"
   ]
  },
  {
   "cell_type": "code",
   "execution_count": 10,
   "metadata": {},
   "outputs": [
    {
     "name": "stdout",
     "output_type": "stream",
     "text": [
      "1\n",
      "1\n",
      "3\n"
     ]
    }
   ],
   "source": [
    "# 函数查找\n",
    "\n",
    "name_list = ['Tom', 'Lily', 'Rose']\n",
    "\n",
    "# index():返回指定数据所在位置的下标。数据不存在则报错。\n",
    "print(name_list.index('Lily', 0, 2)) # 1\n",
    "\n",
    "# count():统计指定数据在当前列表中出现的次数。\n",
    "print(name_list.count('Lily')) # 1\n",
    "\n",
    "# len():访问列表长度，即列表中数据的个数。\n",
    "print(len(name_list)) # 3"
   ]
  },
  {
   "cell_type": "code",
   "execution_count": 13,
   "metadata": {},
   "outputs": [
    {
     "name": "stdout",
     "output_type": "stream",
     "text": [
      "True\n",
      "False\n",
      "True\n",
      "False\n"
     ]
    }
   ],
   "source": [
    "# 判断是否存在\n",
    "\n",
    "name_list = ['Tom', 'Lily', 'Rose']\n",
    "\n",
    "# in:判断指定数据在某个数据序列，如果在返回True，否则返回False。\n",
    "print('Lily' in name_list) # True\n",
    "print('Lilys' in name_list) # False\n",
    "\n",
    "# not in:判断指定数据不在某个列表序列，如果不在返回True，否则返回False。\n",
    "print('Lilys' not in name_list) # True\n",
    "print('Lily' not in name_list) # False"
   ]
  },
  {
   "cell_type": "markdown",
   "metadata": {},
   "source": [
    "+ 体验案例：查找用户输入的名字是否已经存在"
   ]
  },
  {
   "cell_type": "code",
   "execution_count": 17,
   "metadata": {},
   "outputs": [
    {
     "name": "stdout",
     "output_type": "stream",
     "text": [
      "请设置您的用户名：Tom\n",
      "您设置的名字是:Tom，名字已经存在\n"
     ]
    }
   ],
   "source": [
    "name_list = ['Tom', 'Lily', 'Rose']\n",
    "\n",
    "name = input(\"请设置您的用户名：\")\n",
    "\n",
    "if name in name_list:\n",
    "    print(f'您设置的名字是:{name}，名字已经存在')\n",
    "else:\n",
    "    print(f'您设置的名字是:{name},设置成功')"
   ]
  },
  {
   "cell_type": "markdown",
   "metadata": {},
   "source": [
    " #### 1.3.2 增加"
   ]
  },
  {
   "cell_type": "code",
   "execution_count": 31,
   "metadata": {},
   "outputs": [
    {
     "name": "stdout",
     "output_type": "stream",
     "text": [
      "['Tom', 'Lily', 'Rose', 'Jack']\n",
      "['Tom', 'Lily', 'Rose', 'Jack', ['jane', 'monica']]\n"
     ]
    }
   ],
   "source": [
    "# append()：列表结尾追加数据\n",
    "# 注意：列表为可变数据\n",
    "\n",
    "name_list = ['Tom', 'Lily', 'Rose']\n",
    "name_list2 = ['jane', 'monica']\n",
    "\n",
    "name_list.append('Jack')\n",
    "print(name_list)\n",
    "\n",
    "# 如果追加的是一个序列，则追加整个序列到列表。\n",
    "name_list.append(name_list2)\n",
    "print(name_list)"
   ]
  },
  {
   "cell_type": "code",
   "execution_count": 34,
   "metadata": {},
   "outputs": [
    {
     "name": "stdout",
     "output_type": "stream",
     "text": [
      "['Tom', 'Lily', 'Rose', 'j', 'a', 'c', 'k']\n",
      "['Tom', 'Lily', 'Rose', 'j', 'a', 'c', 'k', 'jane', 'monica']\n"
     ]
    }
   ],
   "source": [
    "# extend():列表结尾追加数据，如果数据是一个序列，则将这个序列的数据逐一添加到列表。\n",
    "\n",
    "name_list = ['Tom', 'Lily', 'Rose']\n",
    "name_list2 = ['jane', 'monica']\n",
    "\n",
    "# 单个数据\n",
    "name_list.extend('jack')\n",
    "print(name_list)\n",
    "\n",
    "# 序列数据\n",
    "name_list.extend(name_list2)\n",
    "print(name_list)"
   ]
  },
  {
   "cell_type": "code",
   "execution_count": 37,
   "metadata": {},
   "outputs": [
    {
     "name": "stdout",
     "output_type": "stream",
     "text": [
      "['Tom', 'jack', 'Lily', 'Rose']\n"
     ]
    }
   ],
   "source": [
    "# insert():指定位置新增数据。\n",
    "\n",
    "name_list = ['Tom', 'Lily', 'Rose']\n",
    "name_list.insert(1, 'jack')\n",
    "print(name_list)"
   ]
  },
  {
   "cell_type": "markdown",
   "metadata": {},
   "source": [
    " #### 1.3.3 删除"
   ]
  },
  {
   "cell_type": "code",
   "execution_count": 40,
   "metadata": {},
   "outputs": [
    {
     "name": "stdout",
     "output_type": "stream",
     "text": [
      "['Lily', 'Rose']\n"
     ]
    }
   ],
   "source": [
    "# del 目标\n",
    "\n",
    "# 删除列表\n",
    "name_list = ['Tom', 'Lily', 'Rose']\n",
    "# del name_list\n",
    "# print(name_list) # 报错\n",
    "\n",
    "# 删除指定数据\n",
    "del name_list[0]\n",
    "print(name_list)"
   ]
  },
  {
   "cell_type": "code",
   "execution_count": 42,
   "metadata": {},
   "outputs": [
    {
     "name": "stdout",
     "output_type": "stream",
     "text": [
      "Lily\n",
      "['Tom', 'Rose']\n"
     ]
    }
   ],
   "source": [
    "# pop():删除指定下标的数据（默认为最后一个），并返回该数据。\n",
    "\n",
    "name_list = ['Tom', 'Lily', 'Rose']\n",
    "\n",
    "del_name = name_list.pop(1)\n",
    "\n",
    "print(del_name)\n",
    "print(name_list)"
   ]
  },
  {
   "cell_type": "code",
   "execution_count": 46,
   "metadata": {},
   "outputs": [
    {
     "name": "stdout",
     "output_type": "stream",
     "text": [
      "['Lily', 'Rose', 'Tom']\n"
     ]
    }
   ],
   "source": [
    "# remove():移除列表中某个数据的第一个匹配项。\n",
    "\n",
    "name_list = ['Tom', 'Lily', 'Rose', 'Tom']\n",
    "\n",
    "name_list.remove('Tom')\n",
    "\n",
    "print(name_list)"
   ]
  },
  {
   "cell_type": "code",
   "execution_count": 47,
   "metadata": {},
   "outputs": [
    {
     "name": "stdout",
     "output_type": "stream",
     "text": [
      "[]\n"
     ]
    }
   ],
   "source": [
    "# clear():清空列表\n",
    "\n",
    "name_list = ['Tom', 'Lily', 'Rose']\n",
    "\n",
    "name_list.clear()\n",
    "\n",
    "print(name_list)"
   ]
  },
  {
   "cell_type": "markdown",
   "metadata": {},
   "source": [
    " #### 1.3.4 修改"
   ]
  },
  {
   "cell_type": "code",
   "execution_count": 49,
   "metadata": {},
   "outputs": [
    {
     "name": "stdout",
     "output_type": "stream",
     "text": [
      "['jack', 'Lily', 'Rose']\n"
     ]
    }
   ],
   "source": [
    "# 修改指定下标\n",
    "\n",
    "name_list = ['Tom', 'Lily', 'Rose']\n",
    "\n",
    "name_list[0] = 'jack'\n",
    "\n",
    "print(name_list)"
   ]
  },
  {
   "cell_type": "code",
   "execution_count": 50,
   "metadata": {},
   "outputs": [
    {
     "name": "stdout",
     "output_type": "stream",
     "text": [
      "[5, 4, 3, 2, 1]\n"
     ]
    }
   ],
   "source": [
    "# reverse():逆置\n",
    "\n",
    "num_list = [1, 2, 3, 4, 5]\n",
    "\n",
    "num_list.reverse()\n",
    "\n",
    "print(num_list)"
   ]
  },
  {
   "cell_type": "code",
   "execution_count": 56,
   "metadata": {},
   "outputs": [
    {
     "name": "stdout",
     "output_type": "stream",
     "text": [
      "[5, 4, 3, 2, 1]\n",
      "[1, 2, 3, 4, 5]\n"
     ]
    }
   ],
   "source": [
    "# sort():排序\n",
    "# 列表序列.sort(key = None, reverse = False)\n",
    "# 注意：reverse表示排序规则，默认reverse = True降序，reverse = False升序。\n",
    "\n",
    "num_list = [1, 5, 3, 2, 4]\n",
    "\n",
    "num_list.sort(key = None, reverse = True)\n",
    "print(num_list)\n",
    "num_list.sort(key = None, reverse = False)\n",
    "print(num_list)"
   ]
  },
  {
   "cell_type": "markdown",
   "metadata": {},
   "source": [
    " #### 1.3.5 复制"
   ]
  },
  {
   "cell_type": "code",
   "execution_count": 60,
   "metadata": {},
   "outputs": [
    {
     "name": "stdout",
     "output_type": "stream",
     "text": [
      "[]\n",
      "['Tom', 'Lily', 'Rose']\n"
     ]
    }
   ],
   "source": [
    "# copy():复制\n",
    "\n",
    "name_list = ['Tom', 'Lily', 'Rose']\n",
    "name_list1 = []\n",
    "\n",
    "print(name_list1)\n",
    "\n",
    "name_list1 = name_list.copy()\n",
    "print(name_list1)"
   ]
  },
  {
   "cell_type": "markdown",
   "metadata": {},
   "source": [
    " #### 1.3.6 遍历"
   ]
  },
  {
   "cell_type": "code",
   "execution_count": 64,
   "metadata": {},
   "outputs": [
    {
     "name": "stdout",
     "output_type": "stream",
     "text": [
      "Tom\n",
      "Lily\n",
      "Rose\n"
     ]
    }
   ],
   "source": [
    "# while 遍历\n",
    "\n",
    "name_list = ['Tom', 'Lily', 'Rose']\n",
    "\n",
    "i = 0\n",
    "while i < len(name_list):\n",
    "    print(name_list[i])\n",
    "    i += 1"
   ]
  },
  {
   "cell_type": "code",
   "execution_count": 67,
   "metadata": {},
   "outputs": [
    {
     "name": "stdout",
     "output_type": "stream",
     "text": [
      "Tom\n",
      "Lily\n",
      "Rose\n"
     ]
    }
   ],
   "source": [
    "# for 遍历\n",
    "\n",
    "name_list = ['Tom', 'Lily', 'Rose']\n",
    "\n",
    "for i in name_list:\n",
    "    print(i)"
   ]
  },
  {
   "cell_type": "markdown",
   "metadata": {},
   "source": [
    "### 1.4 列表嵌套"
   ]
  },
  {
   "cell_type": "code",
   "execution_count": 72,
   "metadata": {},
   "outputs": [
    {
     "name": "stdout",
     "output_type": "stream",
     "text": [
      "[['小明', '小红', '小刚'], ['Tom', 'Lily', 'Rose'], ['12', '13', '14']]\n",
      "['Tom', 'Lily', 'Rose']\n",
      "Tom\n"
     ]
    }
   ],
   "source": [
    "name_list = [['小明', '小红', '小刚'], ['Tom', 'Lily', 'Rose'], ['12', '13', '14']]\n",
    "\n",
    "# 找到Tom\n",
    "print(name_list)\n",
    "print(name_list[1])\n",
    "print(name_list[1][0])"
   ]
  },
  {
   "cell_type": "markdown",
   "metadata": {},
   "source": [
    "### 1.5 综合应用--随机分配办公室"
   ]
  },
  {
   "cell_type": "code",
   "execution_count": 80,
   "metadata": {},
   "outputs": [
    {
     "name": "stdout",
     "output_type": "stream",
     "text": [
      "办公室1的人数是3,老师分别是：\n",
      "B\tD\tE\t\n",
      "办公室2的人数是3,老师分别是：\n",
      "F\tG \tH\t\n",
      "办公室3的人数是2,老师分别是：\n",
      "A\tC\t\n"
     ]
    }
   ],
   "source": [
    "# 需求分析：随机将8个老师分配到3个办公室\n",
    "\n",
    "import random\n",
    "\n",
    "teachers = ['A', 'B', 'C', 'D', 'E', 'F', 'G ', 'H']\n",
    "offices = [[], [], []]\n",
    "\n",
    "for name in teachers:\n",
    "    num = random.randint(0, 2)\n",
    "    offices[num].append(name)\n",
    "\n",
    "i = 1\n",
    "    \n",
    "for office in offices:\n",
    "    print(f'办公室{i}的人数是{len(office)},老师分别是：')\n",
    "    for name in office:\n",
    "        print(name, end = '\\t')\n",
    "    print()\n",
    "    \n",
    "    i += 1"
   ]
  }
 ],
 "metadata": {
  "kernelspec": {
   "display_name": "Python 3",
   "language": "python",
   "name": "python3"
  },
  "language_info": {
   "codemirror_mode": {
    "name": "ipython",
    "version": 3
   },
   "file_extension": ".py",
   "mimetype": "text/x-python",
   "name": "python",
   "nbconvert_exporter": "python",
   "pygments_lexer": "ipython3",
   "version": "3.7.6"
  }
 },
 "nbformat": 4,
 "nbformat_minor": 4
}
