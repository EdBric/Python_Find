{
 "cells": [
  {
   "cell_type": "markdown",
   "metadata": {},
   "source": [
    "# 一、数字"
   ]
  },
  {
   "cell_type": "markdown",
   "metadata": {},
   "source": [
    "## 1、Python 数字类型转换"
   ]
  },
  {
   "cell_type": "code",
   "execution_count": 1,
   "metadata": {},
   "outputs": [
    {
     "name": "stdout",
     "output_type": "stream",
     "text": [
      "1\n",
      "2.0\n",
      "(1+0j)\n",
      "(1+2j)\n"
     ]
    }
   ],
   "source": [
    "a = 1.0\n",
    "print(int(a))\n",
    "\n",
    "b = 2\n",
    "print(float(b))\n",
    "\n",
    "print(complex(a))\n",
    "print(complex(a, b))"
   ]
  },
  {
   "cell_type": "markdown",
   "metadata": {},
   "source": [
    "## 2、Python 数字运算"
   ]
  },
  {
   "cell_type": "markdown",
   "metadata": {},
   "source": [
    "+ Python 解释器可以作为一个简单的计算器，您可以在解释器里输入一个表达式，它将输出表达式的值。\n",
    "\n",
    "\n",
    "+ 在不同的机器上浮点运算的结果可能会不一样。\n",
    "\n",
    "\n",
    "+ 不同类型的数混合运算时会将整数转换为浮点数。\n",
    "\n",
    "\n",
    "+ 在交互模式中，最后被输出的表达式结果被赋值给只读变量_。"
   ]
  },
  {
   "cell_type": "markdown",
   "metadata": {},
   "source": [
    "## 3、数学函数"
   ]
  },
  {
   "cell_type": "code",
   "execution_count": 40,
   "metadata": {},
   "outputs": [
    {
     "name": "stdout",
     "output_type": "stream",
     "text": [
      "abs(-10) = 1\n",
      "math.fabs(-10) = 10.0\n",
      "math.exp(1) = 2.718281828459045\n",
      "math.sqrt(100) = 10.0\n",
      "math.pow(2, 3) = 8.0\n",
      "---------------------------------------\n",
      "math.ceil(4.1) = 5\n",
      "math.floor(4.9) = 4\n",
      "---------------------------------------\n",
      "math.log(math.e) = 1.0\n",
      "math.log(100, 10) = 2.0\n",
      "math.log10(100) = 2.0\n",
      "---------------------------------------\n",
      "math.modf(1.23456789) = (0.2345678899999999, 1.0)\n",
      "round(80.264, 2) = 80.26\n",
      "---------------------------------------\n",
      "max(-1, 2, 3, 4) = 4\n",
      "max([-1, 2, 3, 4]) = 4\n",
      "min(-1, 2, 3, 4) = -1\n",
      "min([-1, 2, 3, 4]) = -1\n"
     ]
    }
   ],
   "source": [
    "import math\n",
    "\n",
    "# 返回数字的绝对值，如abs(-10) 返回 10\n",
    "print('abs(-10) =', abs(x))\n",
    "\n",
    "# 返回数字的绝对值，如math.fabs(-10) 返回10.0\n",
    "print('math.fabs(-10) =', math.fabs(-10))\n",
    "\n",
    "# 返回e的x次幂(ex),如math.exp(1) 返回2.718281828459045\n",
    "print('math.exp(1) =', math.exp(1))\n",
    "\n",
    "# sqrt(x):返回数字x的平方根。\n",
    "print (\"math.sqrt(100) =\", math.sqrt(100))\n",
    "\n",
    "# pow(x, y):x**y 运算后的值。\n",
    "print('math.pow(2, 3) =', math.pow(2, 3))\n",
    "\n",
    "print('---------------------------------------')\n",
    "# 返回数字的上入整数，如math.ceil(4.1) 返回 5\n",
    "print('math.ceil(4.1) =', math.ceil(4.1))\n",
    "\n",
    "# 返回数字的下舍整数，如math.floor(4.9)返回 4\n",
    "print('math.floor(4.9) =', math.floor(4.9))\n",
    "\n",
    "print('---------------------------------------')\n",
    "# 如math.log(math.e)返回1.0,math.log(100,10)返回2.0\n",
    "print('math.log(math.e) =', math.log(math.e))\n",
    "print('math.log(100, 10) =', math.log(100, 10))\n",
    "\n",
    "# 返回以10为基数的x的对数，如math.log10(100)返回 2.0\n",
    "print('math.log10(100) =', math.log10(100))\n",
    "\n",
    "print('---------------------------------------')\n",
    "# modf(x):返回x的整数部分与小数部分，两部分的数值符号与x相同，整数部分以浮点型表示。\n",
    "print('math.modf(1.23456789) =', math.modf(1.23456789))\n",
    "\n",
    "# round(x, [n]):返回浮点数 x 的四舍五入值，如给出 n 值，则代表舍入到小数点后的位数,准确的说是保留值将保留到离上一位更近的一端。\n",
    "print (\"round(80.264, 2) =\", round(80.264, 2))\n",
    "\n",
    "print('---------------------------------------')\n",
    "# 返回给定参数的最大值，参数可以为序列。\n",
    "print('max(-1, 2, 3, 4) =', max(-1, 2, 3, 4))\n",
    "print('max([-1, 2, 3, 4]) =', max([-1, 2, 3, 4]))\n",
    "\n",
    "# 返回给定参数的最小值，参数可以为序列。\n",
    "print('min(-1, 2, 3, 4) =', min(-1, 2, 3, 4))\n",
    "print('min([-1, 2, 3, 4]) =', min([-1, 2, 3, 4]))"
   ]
  },
  {
   "cell_type": "markdown",
   "metadata": {},
   "source": [
    "## 4、随机数函数"
   ]
  },
  {
   "cell_type": "code",
   "execution_count": 123,
   "metadata": {},
   "outputs": [
    {
     "name": "stdout",
     "output_type": "stream",
     "text": [
      "从 range(100) 返回一个随机数 :  49\n",
      "从列表中 [1, 2, 3, 5, 9]) 返回一个随机元素 :  2\n",
      "从字符串中 'Runoob' 返回一个随机字符 :  o\n",
      "randrange(1, 100, 2) :  9\n",
      "randrange(100) :  40\n",
      "random() :  0.6206348782679815\n",
      "使用默认种子生成随机数： 0.16143953736155803\n",
      "使用默认种子生成随机数： 0.01374715173619312\n",
      "使用整数 10 种子生成随机数： 0.5714025946899135\n",
      "使用整数 10 种子生成随机数： 0.5714025946899135\n",
      "使用字符串种子生成随机数： 0.3537754404730722\n",
      "随机排序列表 :  [20, 5, 16, 10]\n",
      "uniform(5, 10) 的随机浮点数 :  6.879308421856298\n"
     ]
    }
   ],
   "source": [
    "import random\n",
    "\n",
    "# choice(seq)：从序列的元素中随机挑选一个元素，比如random.choice(range(10))，从0到9中随机挑选一个整数。\n",
    "print (\"从 range(100) 返回一个随机数 : \",random.choice(range(100)))\n",
    "print (\"从列表中 [1, 2, 3, 5, 9]) 返回一个随机元素 : \", random.choice([1, 2, 3, 5, 9]))\n",
    "print (\"从字符串中 'Runoob' 返回一个随机字符 : \", random.choice('Runoob'))\n",
    "\n",
    "# randrange ([start,] stop [,step])：返回指定递增基数集合中的一个随机数，基数默认值为1。\n",
    "# 从 1-100 中选取一个奇数\n",
    "print('randrange(1, 100, 2) : ', random.randrange(1, 100, 2))\n",
    "# 从 0-99 选取一个随机数\n",
    "print (\"randrange(100) : \", random.randrange(100))\n",
    "\n",
    "# random()：随机生成下一个实数，它在[0,1)范围内。\n",
    "print (\"random() : \", random.random())\n",
    "\n",
    "# random.seed([x])作用：使得随机数据可预测，即只要seed的值一样，后续生成的随机数都一样。\n",
    "random.seed()\n",
    "print (\"使用默认种子生成随机数：\", random.random())\n",
    "print (\"使用默认种子生成随机数：\", random.random())\n",
    "\n",
    "random.seed(10)\n",
    "print (\"使用整数 10 种子生成随机数：\", random.random())\n",
    "random.seed(10)\n",
    "print (\"使用整数 10 种子生成随机数：\", random.random())\n",
    "\n",
    "random.seed(\"hello\",2)\n",
    "print (\"使用字符串种子生成随机数：\", random.random())\n",
    "\n",
    "# shuffle()：方法将序列的所有元素随机排序。\n",
    "list = [20, 16, 10, 5];\n",
    "random.seed()\n",
    "random.shuffle(list)\n",
    "print (\"随机排序列表 : \",  list)\n",
    "\n",
    "# uniform()：方法将随机生成下一个实数，它在 [x,y] 范围内。\n",
    "print (\"uniform(5, 10) 的随机浮点数 : \",  random.uniform(5, 10))"
   ]
  },
  {
   "cell_type": "markdown",
   "metadata": {},
   "source": [
    "## 5、三角函数"
   ]
  },
  {
   "cell_type": "markdown",
   "metadata": {},
   "source": [
    "|函数|描述|\n",
    "|:--|:--|\n",
    "|acos(x)|返回x的反余弦弧度值。|\n",
    "|asin(x)|返回x的反正弦弧度值。|\n",
    "|atan(x)|返回x的反正切弧度值。|\n",
    "|atan2(y, x)|返回给定的 X 及 Y 坐标值的反正切值。|\n",
    "|cos(x)|返回x的弧度的余弦值。|\n",
    "|hypot(x, y)|返回欧几里德范数 sqrt(x * x + y * y)。|\n",
    "|sin(x)|返回的x弧度的正弦值。|\n",
    "|tan(x)|返回x弧度的正切值。|\n",
    "|degrees(x)|将弧度转换为角度,如degrees(math.pi/2) ， 返回90.0|\n",
    "|radians(x)|将角度转换为弧度|"
   ]
  },
  {
   "cell_type": "markdown",
   "metadata": {},
   "source": [
    "+ using after import math"
   ]
  },
  {
   "cell_type": "markdown",
   "metadata": {},
   "source": [
    "## 6、数学常量"
   ]
  },
  {
   "cell_type": "markdown",
   "metadata": {},
   "source": [
    "|常量|描述|\n",
    "|:--|:--|\n",
    "|pi|数学常量 pi（圆周率，一般以π来表示|\n",
    "|e|数学常量 e，e即自然常数（自然常数|"
   ]
  }
 ],
 "metadata": {
  "kernelspec": {
   "display_name": "Python 3",
   "language": "python",
   "name": "python3"
  },
  "language_info": {
   "codemirror_mode": {
    "name": "ipython",
    "version": 3
   },
   "file_extension": ".py",
   "mimetype": "text/x-python",
   "name": "python",
   "nbconvert_exporter": "python",
   "pygments_lexer": "ipython3",
   "version": "3.7.6"
  }
 },
 "nbformat": 4,
 "nbformat_minor": 4
}
