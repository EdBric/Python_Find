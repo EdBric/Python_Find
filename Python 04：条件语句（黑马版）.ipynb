{
 "cells": [
  {
   "cell_type": "markdown",
   "metadata": {},
   "source": [
    "# 一、条件语句"
   ]
  },
  {
   "cell_type": "markdown",
   "metadata": {},
   "source": [
    "## 1 条件语句"
   ]
  },
  {
   "cell_type": "markdown",
   "metadata": {},
   "source": [
    "### 1.1 if 语法"
   ]
  },
  {
   "cell_type": "code",
   "execution_count": 7,
   "metadata": {},
   "outputs": [
    {
     "name": "stdout",
     "output_type": "stream",
     "text": [
      "这个代码执行吗？\n"
     ]
    }
   ],
   "source": [
    "if False:\n",
    "    print('条件成立执行的代码1')\n",
    "    print('条件成立执行的代码2')\n",
    "\n",
    "# 注意：在下方的没有加缩进的代码，不属于if语句块，即和条件成立与否无关\n",
    "print('这个代码执行吗？')"
   ]
  },
  {
   "cell_type": "code",
   "execution_count": 18,
   "metadata": {},
   "outputs": [
    {
     "name": "stdout",
     "output_type": "stream",
     "text": [
      "请输入您的年龄：20\n",
      "您的年龄是20，已经成年，可以上网\n",
      "系统关闭\n"
     ]
    }
   ],
   "source": [
    "# 注意：age要与数字进行比较，不能是字符串类型，所以要先进行转换\n",
    "age = int(input('请输入您的年龄：'))\n",
    "\n",
    "if age >= 18:\n",
    "    print(f'您的年龄是{age}，已经成年，可以上网')\n",
    "    \n",
    "print('系统关闭')"
   ]
  },
  {
   "cell_type": "markdown",
   "metadata": {},
   "source": [
    "### 1.2 if else 语法"
   ]
  },
  {
   "cell_type": "code",
   "execution_count": 21,
   "metadata": {},
   "outputs": [
    {
     "name": "stdout",
     "output_type": "stream",
     "text": [
      "请输入您的年龄：12\n",
      "您的年龄是12，小朋友，回家写作业去\n",
      "系统关闭\n"
     ]
    }
   ],
   "source": [
    "age = int(input('请输入您的年龄：'))\n",
    "\n",
    "if age >= 18:\n",
    "    print(f'您的年龄是{age}，已经成年，可以上网')\n",
    "\n",
    "else:\n",
    "    print(f'您的年龄是{age}，小朋友，回家写作业去')\n",
    "\n",
    "print('系统关闭')"
   ]
  },
  {
   "cell_type": "markdown",
   "metadata": {},
   "source": [
    "> 注意：如果某些条件成立执行了相关代码，那么其他情况的代码解释器根本不会执行。"
   ]
  },
  {
   "cell_type": "markdown",
   "metadata": {},
   "source": [
    "### 1.3 多重判断"
   ]
  },
  {
   "cell_type": "code",
   "execution_count": 30,
   "metadata": {},
   "outputs": [
    {
     "name": "stdout",
     "output_type": "stream",
     "text": [
      "请输入您的年龄：-1\n",
      "输入错误\n"
     ]
    }
   ],
   "source": [
    "age = int(input('请输入您的年龄：'))\n",
    "\n",
    "# 小于18 童工\n",
    "if (age >= 0) and (age < 18):\n",
    "    print(f'您的年龄是{age}，童工')\n",
    "\n",
    "# 18-60 合法\n",
    "elif (age >= 18) and (age <= 60):\n",
    "    print(f'您的年龄是{age}，合法')\n",
    "\n",
    "# 大于60 退休\n",
    "elif age > 60:\n",
    "    print(f'您的年龄是{age}，退休')\n",
    "\n",
    "else:\n",
    "    print('输入错误')"
   ]
  },
  {
   "cell_type": "markdown",
   "metadata": {},
   "source": [
    "> 拓展：(age >= 0) and (age < 18)可以化简成18 <= age <= 60"
   ]
  },
  {
   "cell_type": "code",
   "execution_count": 34,
   "metadata": {},
   "outputs": [
    {
     "name": "stdout",
     "output_type": "stream",
     "text": [
      "请输入您的年龄：-1\n",
      "输入错误\n"
     ]
    }
   ],
   "source": [
    "age = int(input('请输入您的年龄：'))\n",
    "\n",
    "if 0 <= age < 18:\n",
    "    print(f'您的年龄是{age}，童工')\n",
    "\n",
    "elif 18 <= age <= 60:\n",
    "    print(f'您的年龄是{age}，合法')\n",
    "\n",
    "elif age > 60:\n",
    "    print(f'您的年龄是{age}，退休')\n",
    "\n",
    "else:\n",
    "    print('输入错误')"
   ]
  },
  {
   "cell_type": "markdown",
   "metadata": {},
   "source": [
    "## 2 if的嵌套"
   ]
  },
  {
   "cell_type": "code",
   "execution_count": 41,
   "metadata": {},
   "outputs": [
    {
     "name": "stdout",
     "output_type": "stream",
     "text": [
      "朋友，没带钱，下面跑\n"
     ]
    }
   ],
   "source": [
    "money = 0\n",
    "seat = 1\n",
    "\n",
    "if money == 1:\n",
    "    \n",
    "    print('请上车')\n",
    "    \n",
    "    if seat == 1:\n",
    "        print('有空座，请坐')\n",
    "    else:\n",
    "        print('没空座，站着吧')\n",
    "        \n",
    "else:\n",
    "    print('朋友，没带钱，下面跑')"
   ]
  },
  {
   "cell_type": "markdown",
   "metadata": {},
   "source": [
    "## 3 猜拳游戏"
   ]
  },
  {
   "cell_type": "markdown",
   "metadata": {},
   "source": [
    "需求分析：\n",
    "- 参与游戏的角色\n",
    "    - 玩家\n",
    "        - 手动出拳\n",
    "    - 电脑\n",
    "        - 随机出拳\n",
    "- 判断输赢"
   ]
  },
  {
   "cell_type": "code",
   "execution_count": 61,
   "metadata": {},
   "outputs": [
    {
     "name": "stdout",
     "output_type": "stream",
     "text": [
      "请出拳：0--石头；1--剪刀；2--布：1\n",
      "电脑出拳状态：1\n",
      "平局，再来一局\n"
     ]
    }
   ],
   "source": [
    "# 0.产生随机数\n",
    "import random\n",
    "\n",
    "# 1.出拳\n",
    "\n",
    "# 玩家\n",
    "player = int(input('请出拳：0--石头；1--剪刀；2--布：'))\n",
    "# 电脑\n",
    "computer = random.randint(0, 2)\n",
    "\n",
    "# 2.判断输赢\n",
    "\n",
    "# 玩家获胜\n",
    "if ((player == 0) and (computer == 1)) or ((player == 1) and (computer == 2)) or ((player == 2) and (computer == 0)):\n",
    "    print(f'电脑出拳状态：{computer}')\n",
    "    print('玩家获胜')\n",
    "# 平局\n",
    "elif player == computer:\n",
    "    print(f'电脑出拳状态：{computer}')\n",
    "    print('平局，再来一局')\n",
    "# 电脑获胜\n",
    "else:\n",
    "    print(f'电脑出拳状态：{computer}')\n",
    "    print('电脑获胜')\n",
    "    "
   ]
  },
  {
   "cell_type": "markdown",
   "metadata": {},
   "source": [
    "## 4 三目运算符"
   ]
  },
  {
   "cell_type": "markdown",
   "metadata": {},
   "source": [
    "> 语法：条件成立执行表达式 if 条件 else 条件不成立 执行的表达式，用于化简代码。"
   ]
  },
  {
   "cell_type": "code",
   "execution_count": 63,
   "metadata": {},
   "outputs": [
    {
     "name": "stdout",
     "output_type": "stream",
     "text": [
      "3\n"
     ]
    }
   ],
   "source": [
    "a = 1\n",
    "b = 2\n",
    "\n",
    "c = a if a > b else b\n",
    "\n",
    "print(c)"
   ]
  },
  {
   "cell_type": "code",
   "execution_count": 70,
   "metadata": {},
   "outputs": [
    {
     "name": "stdout",
     "output_type": "stream",
     "text": [
      "4\n"
     ]
    }
   ],
   "source": [
    "# 需求：有两个变量，比较大小 如果变量1 大于 变量2 执行 变量1 - 变量2 否则 变量2 - 变量1\n",
    "\n",
    "aa = 10\n",
    "bb = 6\n",
    "\n",
    "c = aa - bb if aa > bb else bb - aa\n",
    "\n",
    "print(c)"
   ]
  }
 ],
 "metadata": {
  "kernelspec": {
   "display_name": "Python 3",
   "language": "python",
   "name": "python3"
  },
  "language_info": {
   "codemirror_mode": {
    "name": "ipython",
    "version": 3
   },
   "file_extension": ".py",
   "mimetype": "text/x-python",
   "name": "python",
   "nbconvert_exporter": "python",
   "pygments_lexer": "ipython3",
   "version": "3.7.6"
  }
 },
 "nbformat": 4,
 "nbformat_minor": 4
}
