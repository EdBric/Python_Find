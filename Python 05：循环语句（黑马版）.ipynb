{
 "cells": [
  {
   "cell_type": "markdown",
   "metadata": {},
   "source": [
    "# 一、循环语句"
   ]
  },
  {
   "cell_type": "markdown",
   "metadata": {},
   "source": [
    "## 1 循环语句"
   ]
  },
  {
   "cell_type": "markdown",
   "metadata": {},
   "source": [
    "### 1.1 while语法"
   ]
  },
  {
   "cell_type": "code",
   "execution_count": 4,
   "metadata": {},
   "outputs": [
    {
     "name": "stdout",
     "output_type": "stream",
     "text": [
      "hello, world\n",
      "hello, world\n",
      "hello, world\n",
      "hello, world\n",
      "hello, world\n",
      "over!!!\n"
     ]
    }
   ],
   "source": [
    "# 打印5次hello world\n",
    "\n",
    "i = 0\n",
    "\n",
    "while i < 5:\n",
    "    print('hello, world')\n",
    "    i += 1\n",
    "\n",
    "print('over!!!')"
   ]
  },
  {
   "cell_type": "markdown",
   "metadata": {},
   "source": [
    "### 1.2 while语法应用"
   ]
  },
  {
   "cell_type": "code",
   "execution_count": 5,
   "metadata": {},
   "outputs": [
    {
     "name": "stdout",
     "output_type": "stream",
     "text": [
      "5050\n"
     ]
    }
   ],
   "source": [
    "# 1 ~ 100 累加器\n",
    "\n",
    "i = 1\n",
    "result = 0\n",
    "\n",
    "while i <= 100:\n",
    "    result += i\n",
    "    i += 1\n",
    "\n",
    "print(result)"
   ]
  },
  {
   "cell_type": "code",
   "execution_count": 11,
   "metadata": {},
   "outputs": [
    {
     "name": "stdout",
     "output_type": "stream",
     "text": [
      "2550\n"
     ]
    }
   ],
   "source": [
    "# 1 ~ 100 偶数累加器\n",
    "\n",
    "j = 0\n",
    "result1 = 0\n",
    "\n",
    "while j <= 100:\n",
    "    result1 += j\n",
    "    j += 2\n",
    "\n",
    "print(result1)"
   ]
  },
  {
   "cell_type": "code",
   "execution_count": 13,
   "metadata": {},
   "outputs": [
    {
     "name": "stdout",
     "output_type": "stream",
     "text": [
      "2550\n"
     ]
    }
   ],
   "source": [
    "# 1 ~ 100 偶数累加器方法2\n",
    "\n",
    "j = 0\n",
    "result2 = 0\n",
    "\n",
    "while j <= 100:\n",
    "    if j % 2 == 0:\n",
    "        result2 += j\n",
    "    j += 1\n",
    "\n",
    "print(result2)"
   ]
  },
  {
   "cell_type": "markdown",
   "metadata": {},
   "source": [
    "## 2 了解break和continue"
   ]
  },
  {
   "cell_type": "markdown",
   "metadata": {},
   "source": [
    "### 2.1 break"
   ]
  },
  {
   "cell_type": "code",
   "execution_count": 15,
   "metadata": {
    "scrolled": true
   },
   "outputs": [
    {
     "name": "stdout",
     "output_type": "stream",
     "text": [
      "吃了第1个苹果\n",
      "吃了第2个苹果\n",
      "吃了第3个苹果\n",
      "吃饱了，不吃了\n"
     ]
    }
   ],
   "source": [
    "i = 1\n",
    "while i <= 5:\n",
    "    if i == 4:\n",
    "        print(f'吃饱了，不吃了')\n",
    "        break\n",
    "    print(f'吃了第{i}个苹果')\n",
    "    i += 1"
   ]
  },
  {
   "cell_type": "markdown",
   "metadata": {},
   "source": [
    "### 2.2 continue"
   ]
  },
  {
   "cell_type": "code",
   "execution_count": 19,
   "metadata": {},
   "outputs": [
    {
     "name": "stdout",
     "output_type": "stream",
     "text": [
      "吃了第1个苹果\n",
      "吃了第2个苹果\n",
      "吃出一个大虫子，不吃了\n",
      "吃了第4个苹果\n",
      "吃了第5个苹果\n"
     ]
    }
   ],
   "source": [
    "i = 1\n",
    "while i <= 5:\n",
    "    if i == 3:\n",
    "        print(f'吃出一个大虫子，不吃了')\n",
    "        i += 1\n",
    "        # 如果使用了continue，在continue之前一定要修改计数器，否则进入死循环。\n",
    "        continue\n",
    "    print(f'吃了第{i}个苹果')\n",
    "    i += 1"
   ]
  },
  {
   "cell_type": "markdown",
   "metadata": {},
   "source": [
    "## 3 while循环嵌套"
   ]
  },
  {
   "cell_type": "markdown",
   "metadata": {},
   "source": [
    "### 3.1 嵌套语法"
   ]
  },
  {
   "cell_type": "code",
   "execution_count": 23,
   "metadata": {},
   "outputs": [
    {
     "name": "stdout",
     "output_type": "stream",
     "text": [
      "小明：老师我错了\n",
      "小明：老师我错了\n",
      "小明：老师我错了\n",
      "老师：叫你家长来\n",
      "\n",
      "小明：老师我错了\n",
      "小明：老师我错了\n",
      "小明：老师我错了\n",
      "老师：叫你家长来\n",
      "\n",
      "小明：老师我错了\n",
      "小明：老师我错了\n",
      "小明：老师我错了\n",
      "老师：叫你家长来\n",
      "\n"
     ]
    }
   ],
   "source": [
    "j = 0\n",
    "while j < 3:\n",
    "    i = 0\n",
    "    while i < 3:\n",
    "        print('小明：老师我错了')\n",
    "        i += 1\n",
    "    print('老师：叫你家长来\\n')\n",
    "    j += 1"
   ]
  },
  {
   "cell_type": "markdown",
   "metadata": {},
   "source": [
    "### 3.2 语法应用"
   ]
  },
  {
   "cell_type": "code",
   "execution_count": 29,
   "metadata": {},
   "outputs": [
    {
     "name": "stdout",
     "output_type": "stream",
     "text": [
      "*****\n",
      "*****\n",
      "*****\n",
      "*****\n",
      "*****\n"
     ]
    }
   ],
   "source": [
    "# 打印星星（正方形）\n",
    "\n",
    "i = 0\n",
    "j = 0\n",
    "\n",
    "while j < 5:\n",
    "    i = 0\n",
    "    while i < 5:\n",
    "        print('*', end = '')\n",
    "        i += 1\n",
    "    print()\n",
    "    j += 1"
   ]
  },
  {
   "cell_type": "code",
   "execution_count": 38,
   "metadata": {},
   "outputs": [
    {
     "name": "stdout",
     "output_type": "stream",
     "text": [
      "*\n",
      "**\n",
      "***\n",
      "****\n",
      "*****\n"
     ]
    }
   ],
   "source": [
    "# 打印星星（三角形）\n",
    "\n",
    "# i = 0\n",
    "# j = 0\n",
    "\n",
    "# while j < 5:\n",
    "#     i = 5 - j\n",
    "#     while i < 5:\n",
    "#         print('*', end = '')\n",
    "#         i += 1\n",
    "#     print()\n",
    "#     j += 1\n",
    "\n",
    "j = 0\n",
    "\n",
    "while j < 5:\n",
    "    i = 0\n",
    "    while i <= j:\n",
    "        print('*', end = '')\n",
    "        i += 1\n",
    "    print()\n",
    "    j += 1"
   ]
  },
  {
   "cell_type": "code",
   "execution_count": 1,
   "metadata": {
    "scrolled": false
   },
   "outputs": [
    {
     "name": "stdout",
     "output_type": "stream",
     "text": [
      "1*1=1\t\n",
      "1*2=2\t2*2=4\t\n",
      "1*3=3\t2*3=6\t3*3=9\t\n",
      "1*4=4\t2*4=8\t3*4=12\t4*4=16\t\n",
      "1*5=5\t2*5=10\t3*5=15\t4*5=20\t5*5=25\t\n",
      "1*6=6\t2*6=12\t3*6=18\t4*6=24\t5*6=30\t6*6=36\t\n",
      "1*7=7\t2*7=14\t3*7=21\t4*7=28\t5*7=35\t6*7=42\t7*7=49\t\n",
      "1*8=8\t2*8=16\t3*8=24\t4*8=32\t5*8=40\t6*8=48\t7*8=56\t8*8=64\t\n",
      "1*9=9\t2*9=18\t3*9=27\t4*9=36\t5*9=45\t6*9=54\t7*9=63\t8*9=72\t9*9=81\t\n"
     ]
    }
   ],
   "source": [
    "# 九九乘法表\n",
    "\n",
    "j = 1\n",
    "\n",
    "while j <= 9:\n",
    "    i = 1\n",
    "    while i <= j:\n",
    "        print(f'{i}*{j}={j*i}', end = '\\t')\n",
    "        i += 1\n",
    "    print()\n",
    "    j += 1"
   ]
  },
  {
   "cell_type": "markdown",
   "metadata": {},
   "source": [
    "## 4 for 循环"
   ]
  },
  {
   "cell_type": "markdown",
   "metadata": {},
   "source": [
    "### 4.1 语法"
   ]
  },
  {
   "cell_type": "code",
   "execution_count": 2,
   "metadata": {},
   "outputs": [
    {
     "name": "stdout",
     "output_type": "stream",
     "text": [
      "j\n",
      "u\n",
      "p\n",
      "y\n",
      "t\n",
      "e\n",
      "r\n"
     ]
    }
   ],
   "source": [
    "str1 = 'jupyter'\n",
    "\n",
    "for i in str1:\n",
    "    print(i)"
   ]
  },
  {
   "cell_type": "markdown",
   "metadata": {},
   "source": [
    "### 4.2 break"
   ]
  },
  {
   "cell_type": "code",
   "execution_count": 3,
   "metadata": {},
   "outputs": [
    {
     "name": "stdout",
     "output_type": "stream",
     "text": [
      "j\n",
      "u\n",
      "p\n",
      "y\n",
      "t\n",
      "遇到e停止\n"
     ]
    }
   ],
   "source": [
    "str1 = 'jupyter'\n",
    "\n",
    "for i in str1:\n",
    "    \n",
    "    if i == 'e':\n",
    "        print('遇到e停止')\n",
    "        break\n",
    "    \n",
    "    print(i)"
   ]
  },
  {
   "cell_type": "markdown",
   "metadata": {},
   "source": [
    "### 4.3 continue"
   ]
  },
  {
   "cell_type": "code",
   "execution_count": 4,
   "metadata": {},
   "outputs": [
    {
     "name": "stdout",
     "output_type": "stream",
     "text": [
      "j\n",
      "u\n",
      "p\n",
      "y\n",
      "t\n",
      "跳过e\n",
      "r\n"
     ]
    }
   ],
   "source": [
    "str1 = 'jupyter'\n",
    "\n",
    "for i in str1:\n",
    "    \n",
    "    if i == 'e':\n",
    "        print('跳过e')\n",
    "        continue\n",
    "    \n",
    "    print(i)"
   ]
  },
  {
   "cell_type": "markdown",
   "metadata": {},
   "source": [
    "## 5 while...else..."
   ]
  },
  {
   "cell_type": "markdown",
   "metadata": {},
   "source": [
    "### 5.1 语法"
   ]
  },
  {
   "cell_type": "markdown",
   "metadata": {},
   "source": [
    "> else中的内容要while中内容执行完才能执行"
   ]
  },
  {
   "cell_type": "code",
   "execution_count": 5,
   "metadata": {},
   "outputs": [
    {
     "name": "stdout",
     "output_type": "stream",
     "text": [
      "INTEL NO\n",
      "INTEL NO\n",
      "INTEL NO\n",
      "INTEL NO\n",
      "INTEL NO\n",
      "AMD YES\n"
     ]
    }
   ],
   "source": [
    "i = 1\n",
    "\n",
    "while i <= 5:\n",
    "    print('INTEL NO')\n",
    "    i += 1\n",
    "\n",
    "else:\n",
    "    print('AMD YES')"
   ]
  },
  {
   "cell_type": "markdown",
   "metadata": {},
   "source": [
    "### 5.2 break"
   ]
  },
  {
   "cell_type": "code",
   "execution_count": 6,
   "metadata": {},
   "outputs": [
    {
     "name": "stdout",
     "output_type": "stream",
     "text": [
      "INTEL NO\n",
      "INTEL NO\n",
      "AMD?\n"
     ]
    }
   ],
   "source": [
    "i = 1\n",
    "\n",
    "while i <= 5:\n",
    "    \n",
    "    if i == 3:\n",
    "        print('AMD?')\n",
    "        break\n",
    "    \n",
    "    print('INTEL NO')\n",
    "    i += 1\n",
    "\n",
    "else:\n",
    "    print('AMD YES')"
   ]
  },
  {
   "cell_type": "markdown",
   "metadata": {},
   "source": [
    "### 5.3 continue "
   ]
  },
  {
   "cell_type": "code",
   "execution_count": 7,
   "metadata": {},
   "outputs": [
    {
     "name": "stdout",
     "output_type": "stream",
     "text": [
      "INTEL NO\n",
      "INTEL NO\n",
      "AMD?\n",
      "INTEL NO\n",
      "INTEL NO\n",
      "AMD YES\n"
     ]
    }
   ],
   "source": [
    "i = 1\n",
    "\n",
    "while i <= 5:\n",
    "    \n",
    "    if i == 3:\n",
    "        print('AMD?')\n",
    "        i += 1\n",
    "        continue\n",
    "    \n",
    "    print('INTEL NO')\n",
    "    i += 1\n",
    "\n",
    "else:\n",
    "    print('AMD YES')"
   ]
  },
  {
   "cell_type": "markdown",
   "metadata": {},
   "source": [
    "## 6 for...else..."
   ]
  },
  {
   "cell_type": "markdown",
   "metadata": {},
   "source": [
    "### 6.1 语法"
   ]
  },
  {
   "cell_type": "code",
   "execution_count": 8,
   "metadata": {},
   "outputs": [
    {
     "name": "stdout",
     "output_type": "stream",
     "text": [
      "j\n",
      "u\n",
      "p\n",
      "y\n",
      "t\n",
      "e\n",
      "r\n",
      "循环正常结束之后执行的代码\n"
     ]
    }
   ],
   "source": [
    "str1 = 'jupyter'\n",
    "\n",
    "for i in str1:\n",
    "    print(i)\n",
    "else:\n",
    "    print('循环正常结束之后执行的代码')"
   ]
  },
  {
   "cell_type": "markdown",
   "metadata": {},
   "source": [
    "### 6.2 break"
   ]
  },
  {
   "cell_type": "code",
   "execution_count": 9,
   "metadata": {},
   "outputs": [
    {
     "name": "stdout",
     "output_type": "stream",
     "text": [
      "j\n",
      "u\n",
      "p\n",
      "y\n",
      "t\n",
      "遇到e停止\n"
     ]
    }
   ],
   "source": [
    "str1 = 'jupyter'\n",
    "\n",
    "for i in str1:\n",
    "    \n",
    "    if i == 'e':\n",
    "        print('遇到e停止')\n",
    "        break\n",
    "    \n",
    "    print(i)\n",
    "else:\n",
    "    print('循环正常结束之后执行的代码')"
   ]
  },
  {
   "cell_type": "markdown",
   "metadata": {},
   "source": [
    "### 6.3 continue"
   ]
  },
  {
   "cell_type": "code",
   "execution_count": 10,
   "metadata": {},
   "outputs": [
    {
     "name": "stdout",
     "output_type": "stream",
     "text": [
      "j\n",
      "u\n",
      "p\n",
      "y\n",
      "t\n",
      "遇到e跳过\n",
      "r\n",
      "循环正常结束之后执行的代码\n"
     ]
    }
   ],
   "source": [
    "str1 = 'jupyter'\n",
    "\n",
    "for i in str1:\n",
    "    \n",
    "    if i == 'e':\n",
    "        print('遇到e跳过')\n",
    "        continue\n",
    "    \n",
    "    print(i)\n",
    "else:\n",
    "    print('循环正常结束之后执行的代码')"
   ]
  }
 ],
 "metadata": {
  "kernelspec": {
   "display_name": "Python 3",
   "language": "python",
   "name": "python3"
  },
  "language_info": {
   "codemirror_mode": {
    "name": "ipython",
    "version": 3
   },
   "file_extension": ".py",
   "mimetype": "text/x-python",
   "name": "python",
   "nbconvert_exporter": "python",
   "pygments_lexer": "ipython3",
   "version": "3.7.6"
  }
 },
 "nbformat": 4,
 "nbformat_minor": 4
}
