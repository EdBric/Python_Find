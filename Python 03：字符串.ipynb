{
 "cells": [
  {
   "cell_type": "markdown",
   "metadata": {},
   "source": [
    "# 一、字符串"
   ]
  },
  {
   "cell_type": "markdown",
   "metadata": {},
   "source": [
    "## 1、Python 访问字符串中的值"
   ]
  },
  {
   "cell_type": "markdown",
   "metadata": {},
   "source": [
    "Python 不支持单字符类型，单字符在 Python 中也是作为一个字符串使用。\n",
    "\n",
    "Python 访问子字符串，可以使用方括号 [] 来截取字符串，字符串的截取的语法格式如下：\n",
    "\n",
    "<mark> 变量[头下标:尾下标]"
   ]
  },
  {
   "cell_type": "code",
   "execution_count": 5,
   "metadata": {},
   "outputs": [
    {
     "name": "stdout",
     "output_type": "stream",
     "text": [
      "var1[0]:  H\n",
      "var2[1:5]:  unoo\n",
      "var2[1:]:  unoob\n",
      "var2[:5]:  Runoo\n",
      "var2[:]:  Runoob\n"
     ]
    }
   ],
   "source": [
    "var1 = 'Hello World!'\n",
    "var2 = \"Runoob\"\n",
    " \n",
    "print (\"var1[0]: \", var1[0])\n",
    "print (\"var2[1:5]: \", var2[1:5])\n",
    "print (\"var2[1:]: \", var2[1:])\n",
    "print (\"var2[:5]: \", var2[:5])\n",
    "print (\"var2[:]: \", var2[:])"
   ]
  },
  {
   "cell_type": "markdown",
   "metadata": {},
   "source": [
    "## 2、Python 字符串更新"
   ]
  },
  {
   "cell_type": "code",
   "execution_count": 10,
   "metadata": {},
   "outputs": [
    {
     "name": "stdout",
     "output_type": "stream",
     "text": [
      "已更新字符串 :  Hello Runoob!\n"
     ]
    }
   ],
   "source": [
    "var1 = 'Hello World!'\n",
    "\n",
    "print (\"已更新字符串 : \", var1[:6] + 'Runoob!')"
   ]
  },
  {
   "cell_type": "markdown",
   "metadata": {},
   "source": [
    "## 3、Python转义字符"
   ]
  },
  {
   "cell_type": "code",
   "execution_count": 11,
   "metadata": {},
   "outputs": [
    {
     "name": "stdout",
     "output_type": "stream",
     "text": [
      "line1 line2 line3\n",
      "\\\n",
      "'\n",
      "\"\n",
      "\u0007\n",
      "Hello \b World!\n",
      "\u0000\n",
      "\n",
      "\n",
      "Hello World!\n",
      "Hello World!\n"
     ]
    }
   ],
   "source": [
    "# 续行符\n",
    "print(\"line1 \\\n",
    "line2 \\\n",
    "line3\")\n",
    "\n",
    "# 反斜杠\n",
    "print(\"\\\\\")\n",
    "\n",
    "# 单引号\n",
    "print('\\'')\n",
    "\n",
    "# 双引号\n",
    "print(\"\\\"\")\n",
    "\n",
    "# 响铃：实测无卵用\n",
    "print(\"\\a\")\n",
    "\n",
    "# 退格(Backspace)\n",
    "print(\"Hello \\b World!\")\n",
    "\n",
    "# 空\n",
    "print(\"\\000\")\n",
    "\n",
    "# 换行\n",
    "print(\"\\n\")\n",
    "\n",
    "# 八进制数，y 代表 0~7 的字符，例如：\\012 代表换行。\n",
    "print(\"\\110\\145\\154\\154\\157\\40\\127\\157\\162\\154\\144\\41\")\n",
    "\n",
    "# 十六进制数，以 \\x 开头，y 代表的字符，例如：\\x0a 代表换行\n",
    "print(\"\\x48\\x65\\x6c\\x6c\\x6f\\x20\\x57\\x6f\\x72\\x6c\\x64\\x21\")\n",
    "\n",
    "# \\other：其它的字符以普通格式输出"
   ]
  },
  {
   "cell_type": "markdown",
   "metadata": {},
   "source": [
    "## 4、Python字符串运算符"
   ]
  },
  {
   "cell_type": "code",
   "execution_count": 12,
   "metadata": {},
   "outputs": [
    {
     "name": "stdout",
     "output_type": "stream",
     "text": [
      "a + b 输出结果： HelloPython\n",
      "a * 2 输出结果： HelloHello\n",
      "a[1] 输出结果： e\n",
      "a[1:4] 输出结果： ell\n",
      "H 在变量 a 中\n",
      "M 不在变量 a 中\n",
      "\\n\n",
      "\\n\n"
     ]
    }
   ],
   "source": [
    "a = \"Hello\"\n",
    "b = \"Python\"\n",
    " \n",
    "print(\"a + b 输出结果：\", a + b)\n",
    "print(\"a * 2 输出结果：\", a * 2)\n",
    "print(\"a[1] 输出结果：\", a[1])\n",
    "print(\"a[1:4] 输出结果：\", a[1:4])\n",
    " \n",
    "if( \"H\" in a) :\n",
    "    print(\"H 在变量 a 中\")\n",
    "else :\n",
    "    print(\"H 不在变量 a 中\")\n",
    " \n",
    "\n",
    "if( \"M\" not in a) :\n",
    "    print(\"M 不在变量 a 中\")\n",
    "else :\n",
    "    print(\"M 在变量 a 中\")\n",
    "\n",
    "# 原始字符串 - 原始字符串：所有的字符串都是直接按照字面的意思来使用，没有转义特殊或不能打印的字符。 \n",
    "# 原始字符串除在字符串的第一个引号前加上字母 r（可以大小写）以外，与普通字符串有着几乎完全相同的语法。\n",
    "print (r'\\n')\n",
    "print (R'\\n')"
   ]
  },
  {
   "cell_type": "markdown",
   "metadata": {},
   "source": [
    "## 5、Python字符串格式化"
   ]
  },
  {
   "cell_type": "markdown",
   "metadata": {},
   "source": [
    "Python 支持格式化字符串的输出 。尽管这样可能会用到非常复杂的表达式，但最基本的用法是将一个值插入到一个有字符串格式符 %s 的字符串中。\n",
    "\n",
    "在 Python 中，字符串格式化使用与 C 中 sprintf 函数一样的语法。"
   ]
  },
  {
   "cell_type": "code",
   "execution_count": 16,
   "metadata": {},
   "outputs": [
    {
     "name": "stdout",
     "output_type": "stream",
     "text": [
      "我叫 小明 今年 10 岁!\n"
     ]
    }
   ],
   "source": [
    "print (\"我叫 %s 今年 %d 岁!\" % ('小明', 10))"
   ]
  },
  {
   "cell_type": "markdown",
   "metadata": {},
   "source": [
    "python字符串格式化符号:\n",
    "\n",
    "|符号|描述|\n",
    "|:---|:---|\n",
    "|%c\t |格式化字符及其ASCII码|\n",
    "|%s\t |格式化字符串|\n",
    "|%d\t |格式化整数|\n",
    "|%u\t |格式化无符号整型|\n",
    "|%o\t |格式化无符号八进制数|\n",
    "|%x\t |格式化无符号十六进制数|\n",
    "|%X\t |格式化无符号十六进制数（大写）|\n",
    "|%f\t |格式化浮点数字，可指定小数点后的精度|\n",
    "|%e\t |用科学计数法格式化浮点数|\n",
    "|%E\t |作用同%e，用科学计数法格式化浮点数|\n",
    "|%g\t |%f和%e的简写|\n",
    "|%G\t |%f 和 %E 的简写|\n",
    "|%p\t |用十六进制数格式化变量的地址|"
   ]
  },
  {
   "cell_type": "markdown",
   "metadata": {},
   "source": [
    "## 6、Python三引号"
   ]
  },
  {
   "cell_type": "markdown",
   "metadata": {},
   "source": [
    "python三引号允许一个字符串跨多行，字符串中可以包含换行符、制表符以及其他特殊字符。实例如下"
   ]
  },
  {
   "cell_type": "code",
   "execution_count": 20,
   "metadata": {},
   "outputs": [
    {
     "name": "stdout",
     "output_type": "stream",
     "text": [
      "这是一个多行字符串的实例\n",
      "多行字符串可以使用制表符\n",
      "TAB ( \t )。\n",
      "也可以使用换行符 [ \n",
      " ]。\n",
      "\n"
     ]
    }
   ],
   "source": [
    "para_str = \"\"\"这是一个多行字符串的实例\n",
    "多行字符串可以使用制表符\n",
    "TAB ( \\t )。\n",
    "也可以使用换行符 [ \\n ]。\n",
    "\"\"\"\n",
    "print (para_str)"
   ]
  },
  {
   "cell_type": "markdown",
   "metadata": {},
   "source": [
    "## 7、Python 的字符串内建函数"
   ]
  },
  {
   "cell_type": "markdown",
   "metadata": {},
   "source": [
    "|序号\t|方法及描述|\n",
    "|:--|:--|\n",
    "|1|capitalize()将字符串的第一个字符转换为大写|\n",
    "|2|center(width, fillchar)返回一个指定的宽度 width 居中的字符串，fillchar 为填充的字符，默认为空格。|\n",
    "|3|count(str, beg= 0,end=len(string))返回 str 在 string 里面出现的次数，如果 beg 或者 end 指定则返回指定范围内 str 出现的次数|\n",
    "|4|bytes.decode(encoding=\"utf-8\", errors=\"strict\")Python3 中没有 decode 方法，但我们可以使用 bytes 对象的 decode() 方法来解码给定的 bytes 对象，这个 bytes 对象可以由 str.encode() 来编码返回。|\n",
    "|5|encode(encoding='UTF-8',errors='strict')以 encoding 指定的编码格式编码字符串，如果出错默认报一个ValueError 的异常，除非 errors 指定的是'ignore'或者'replace'|\n",
    "|6|\tendswith(suffix, beg=0, end=len(string))检查字符串是否以 obj 结束，如果beg 或者 end 指定则检查指定的范围内是否以 obj 结束，如果是，返回 True,否则返回 False.|\n",
    "|7|\texpandtabs(tabsize=8)把字符串 string 中的 tab 符号转为空格，tab 符号默认的空格数是 8 。|\n",
    "|8|find(str, beg=0, end=len(string))检测 str 是否包含在字符串中，如果指定范围 beg 和 end ，则检查是否包含在指定范围内，如果包含返回开始的索引值，否则返回-1|\n",
    "|9|index(str, beg=0, end=len(string))跟find()方法一样，只不过如果str不在字符串中会报一个异常。|\n",
    "|10|isalnum()如果字符串至少有一个字符并且所有字符都是字母或数字则返 回 True，否则返回 False|\n",
    "|11|isalpha()如果字符串至少有一个字符并且所有字符都是字母或中文字则返回 True, 否则返回 False|\n",
    "|12|isdigit()如果字符串只包含数字则返回 True 否则返回 False..|\n",
    "|13|islower()如果字符串中包含至少一个区分大小写的字符，并且所有这些(区分大小写的)字符都是小写，则返回 True，否则返回 False|\n",
    "|14|isnumeric()如果字符串中只包含数字字符，则返回 True，否则返回 False|\n",
    "|15|isspace()如果字符串中只包含空白，则返回 True，否则返回 False.|\n",
    "|16|istitle()如果字符串是标题化的(见 title())则返回 True，否则返回 False|\n",
    "|17|isupper()如果字符串中包含至少一个区分大小写的字符，并且所有这些(区分大小写的)字符都是大写，则返回 True，否则返回 False|\n",
    "|18|join(seq)以指定字符串作为分隔符，将 seq 中所有的元素(的字符串表示)合并为一个新的字符串|\n",
    "|19|len(string)返回字符串长度|\n",
    "|20|ljust(width[, fillchar])返回一个原字符串左对齐,并使用 fillchar 填充至长度 width 的新字符串，fillchar 默认为空格。|\n",
    "|21|lower()转换字符串中所有大写字符为小写.|\n",
    "|22|lstrip()截掉字符串左边的空格或指定字符。|\n",
    "|23|maketrans()创建字符映射的转换表，对于接受两个参数的最简单的调用方式，第一个参数是字符串，表示需要转换的字符，第二个参数也是字符串表示转换的目标|\n",
    "|24|max(str)返回字符串 str 中最大的字母。|\n",
    "|25|min(str)返回字符串 str 中最小的字母。|\n",
    "|26|replace(old, new [, max])把 将字符串中的 old 替换成 new,如果 max 指定，则替换不超过 max 次。|\n",
    "|27|rfind(str, beg=0,end=len(string))类似于 find()函数，不过是从右边开始查找.|\n",
    "|28|rindex( str, beg=0, end=len(string))类似于 index()，不过是从右边开始.|\n",
    "|29|rjust(width,[, fillchar])返回一个原字符串右对齐,并使用fillchar(默认空格）填充至长度 width 的新字符串|\n",
    "|30|rstrip()删除字符串字符串末尾的空格.|\n",
    "|31|split(str=\"\", num=string.count(str))以 str 为分隔符截取字符串，如果 num 有指定值，则仅截取 num+1 个子字符串|\n",
    "|32|splitlines([keepends])按照行('\\r', '\\r\\n', \\n')分隔，返回一个包含各行作为元素的列表，如果参数 keepends 为 False，不包含换行符，如果为 True，则保留换行符。|\n",
    "|33|startswith(substr, beg=0,end=len(string))检查字符串是否是以指定子字符串 substr 开头，是则返回 True，否则返回 False。如果beg 和 end 指定值，则在指定范围内检查。|\n",
    "|34|strip([chars])在字符串上执行 lstrip()和 rstrip()|\n",
    "|35|swapcase()将字符串中大写转换为小写，小写转换为大写|\n",
    "|36|title()返回\"标题化\"的字符串,就是说所有单词都是以大写开始，其余字母均为小写(见 istitle())|\n",
    "|37|translate(table, deletechars=\"\")根据 str 给出的表(包含 256 个字符)转换 string 的字符, 要过滤掉的字符放到 deletechars 参数中|\n",
    "|38|upper()转换字符串中的小写字母为大写|\n",
    "|39|zfill (width)返回长度为 width 的字符串，原字符串右对齐，前面填充0|\n",
    "|40|isdecimal()检查字符串是否只包含十进制字符，如果是返回 true，否则返回 false。|"
   ]
  },
  {
   "cell_type": "code",
   "execution_count": 24,
   "metadata": {},
   "outputs": [
    {
     "name": "stdout",
     "output_type": "stream",
     "text": [
      "str.capitalize() :  This is string example from runoob....wow!!!\n"
     ]
    }
   ],
   "source": [
    "# 将字符串的第一个字母变成大写,其他字母变小写。\n",
    "str = \"this is String example from runoob....wow!!!\"\n",
    "print (\"str.capitalize() : \", str.capitalize())"
   ]
  },
  {
   "cell_type": "code",
   "execution_count": 25,
   "metadata": {},
   "outputs": [
    {
     "name": "stdout",
     "output_type": "stream",
     "text": [
      "str.count('o') :  3\n",
      "str.count('run', 0, 10) :  1\n"
     ]
    }
   ],
   "source": [
    "# 统计字符串里某个字符出现的次数。可选参数为在字符串搜索的开始与结束位置。\n",
    "str=\"www.runoob.com\"\n",
    "sub='o'\n",
    "print (\"str.count('o') : \", str.count(sub))\n",
    "\n",
    "sub='run'\n",
    "print (\"str.count('run', 0, 10) : \", str.count(sub,0,10))"
   ]
  },
  {
   "cell_type": "code",
   "execution_count": 26,
   "metadata": {},
   "outputs": [
    {
     "name": "stdout",
     "output_type": "stream",
     "text": [
      "7\n",
      "7\n",
      "-1\n"
     ]
    }
   ],
   "source": [
    "# 检测字符串中是否包含子字符串 str ，如果指定 beg（开始） 和 end（结束） 范围，则检查是否包含在指定范围内，\n",
    "# 如果指定范围内如果包含指定索引值，返回的是索引值在字符串中的起始位置。\n",
    "#如果不包含索引值，返回-1。\n",
    "\n",
    "str1 = \"Runoob example....wow!!!\"\n",
    "str2 = \"exam\";\n",
    " \n",
    "print (str1.find(str2))\n",
    "print (str1.find(str2, 5))\n",
    "print (str1.find(str2, 10))"
   ]
  },
  {
   "cell_type": "code",
   "execution_count": 27,
   "metadata": {},
   "outputs": [
    {
     "name": "stdout",
     "output_type": "stream",
     "text": [
      "7\n",
      "7\n"
     ]
    },
    {
     "ename": "ValueError",
     "evalue": "substring not found",
     "output_type": "error",
     "traceback": [
      "\u001b[1;31m-----------------------------------------------------------------\u001b[0m",
      "\u001b[1;31mValueError\u001b[0m                      Traceback (most recent call last)",
      "\u001b[1;32m<ipython-input-27-d205991b1c61>\u001b[0m in \u001b[0;36m<module>\u001b[1;34m\u001b[0m\n\u001b[0;32m      7\u001b[0m \u001b[0mprint\u001b[0m \u001b[1;33m(\u001b[0m\u001b[0mstr1\u001b[0m\u001b[1;33m.\u001b[0m\u001b[0mindex\u001b[0m\u001b[1;33m(\u001b[0m\u001b[0mstr2\u001b[0m\u001b[1;33m)\u001b[0m\u001b[1;33m)\u001b[0m\u001b[1;33m\u001b[0m\u001b[1;33m\u001b[0m\u001b[0m\n\u001b[0;32m      8\u001b[0m \u001b[0mprint\u001b[0m \u001b[1;33m(\u001b[0m\u001b[0mstr1\u001b[0m\u001b[1;33m.\u001b[0m\u001b[0mindex\u001b[0m\u001b[1;33m(\u001b[0m\u001b[0mstr2\u001b[0m\u001b[1;33m,\u001b[0m \u001b[1;36m5\u001b[0m\u001b[1;33m)\u001b[0m\u001b[1;33m)\u001b[0m\u001b[1;33m\u001b[0m\u001b[1;33m\u001b[0m\u001b[0m\n\u001b[1;32m----> 9\u001b[1;33m \u001b[0mprint\u001b[0m \u001b[1;33m(\u001b[0m\u001b[0mstr1\u001b[0m\u001b[1;33m.\u001b[0m\u001b[0mindex\u001b[0m\u001b[1;33m(\u001b[0m\u001b[0mstr2\u001b[0m\u001b[1;33m,\u001b[0m \u001b[1;36m10\u001b[0m\u001b[1;33m)\u001b[0m\u001b[1;33m)\u001b[0m\u001b[1;33m\u001b[0m\u001b[1;33m\u001b[0m\u001b[0m\n\u001b[0m",
      "\u001b[1;31mValueError\u001b[0m: substring not found"
     ]
    }
   ],
   "source": [
    "# 检测字符串中是否包含子字符串 str ，如果指定 beg（开始） 和 end（结束） 范围，则检查是否包含在指定范围内，该方法与 python find()方法一样，\n",
    "#只不过如果str不在 string中会报一个异常。\n",
    "\n",
    "str1 = \"Runoob example....wow!!!\"\n",
    "str2 = \"exam\";\n",
    "\n",
    "print (str1.index(str2))\n",
    "print (str1.index(str2, 5))\n",
    "print (str1.index(str2, 10))"
   ]
  },
  {
   "cell_type": "code",
   "execution_count": 28,
   "metadata": {},
   "outputs": [
    {
     "name": "stdout",
     "output_type": "stream",
     "text": [
      "r-u-n-o-o-b\n",
      "runoob\n"
     ]
    }
   ],
   "source": [
    "# Python join() 方法用于将序列中的元素以指定的字符连接生成一个新的字符串。\n",
    "\n",
    "s1 = \"-\"\n",
    "s2 = \"\"\n",
    "seq = (\"r\", \"u\", \"n\", \"o\", \"o\", \"b\") # 字符串序列\n",
    "print (s1.join( seq ))\n",
    "print (s2.join( seq ))"
   ]
  },
  {
   "cell_type": "code",
   "execution_count": 33,
   "metadata": {},
   "outputs": [
    {
     "name": "stdout",
     "output_type": "stream",
     "text": [
      "this is string example....wow!!!     \n",
      "this is string example....wow!!!8888888\n",
      "88888888this is string example....wow!!!\n",
      "1001011\n"
     ]
    }
   ],
   "source": [
    "# lstrip() 方法用于截掉字符串左边的空格或指定字符。\n",
    "\n",
    "str = \"     this is string example....wow!!!     \";\n",
    "print( str.lstrip() );\n",
    "str = \"88888888this is string example....wow!!!8888888\";\n",
    "print( str.lstrip('8') );\n",
    "str = \"88888888this is string example....wow!!!8888888\";\n",
    "print( str.rstrip('8') );\n",
    "\n",
    "str = '0b1001011'\n",
    "print( str.lstrip('0b') );"
   ]
  },
  {
   "cell_type": "code",
   "execution_count": 32,
   "metadata": {},
   "outputs": [
    {
     "name": "stdout",
     "output_type": "stream",
     "text": [
      "菜鸟教程旧地址： www.w3cschool.cc\n",
      "菜鸟教程新地址： www.runoob.com\n",
      "thwas was string was is is example....wow!!!\n"
     ]
    }
   ],
   "source": [
    "# replace() 方法把字符串中的 old（旧字符串） 替换成 new(新字符串)，如果指定第三个参数max，则替换不超过 max 次。\n",
    "\n",
    "str = \"www.w3cschool.cc\"\n",
    "print (\"菜鸟教程旧地址：\", str)\n",
    "print (\"菜鸟教程新地址：\", str.replace(\"w3cschool.cc\", \"runoob.com\"))\n",
    " \n",
    "str = \"this is string is is is example....wow!!!\"\n",
    "print (str.replace(\"is\", \"was\", 3))"
   ]
  }
 ],
 "metadata": {
  "kernelspec": {
   "display_name": "Python 3",
   "language": "python",
   "name": "python3"
  },
  "language_info": {
   "codemirror_mode": {
    "name": "ipython",
    "version": 3
   },
   "file_extension": ".py",
   "mimetype": "text/x-python",
   "name": "python",
   "nbconvert_exporter": "python",
   "pygments_lexer": "ipython3",
   "version": "3.7.6"
  }
 },
 "nbformat": 4,
 "nbformat_minor": 4
}
